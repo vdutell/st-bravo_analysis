{
 "cells": [
  {
   "cell_type": "markdown",
   "metadata": {},
   "source": [
    "# Create .mp4 movies from frames\n",
    "\n",
    "In order to calibrate our pupil labs system to the world cam we actually WANT to use (ximea cameras) we need to do offline calibration. To do that, we need both an .mp4 for pupil labs to read, as well as a set of timestamps for each frame of the mp4 file. Here we generate both these.  \n"
   ]
  },
  {
   "cell_type": "markdown",
   "metadata": {},
   "source": [
    "## Dependencies"
   ]
  },
  {
   "cell_type": "code",
   "execution_count": 1,
   "metadata": {},
   "outputs": [],
   "source": [
    "import os, stat\n",
    "import numpy as np\n",
    "import cv2\n",
    "import imageio\n",
    "import utils.run_analysis as ana"
   ]
  },
  {
   "cell_type": "markdown",
   "metadata": {},
   "source": [
    "## Parameters"
   ]
  },
  {
   "cell_type": "code",
   "execution_count": 2,
   "metadata": {},
   "outputs": [],
   "source": [
    "subject = 'buddy'\n",
    "trial = 'cellphone_1'\n",
    "camera = 'cy'\n",
    "base_dir = '/data_repo/bravo'\n",
    "output_dir = os.path.join(base_dir, 'analysis')\n",
    "analysis_folder = os.path.join(output_dir, subject, trial, camera)\n",
    "img_dims=(1544,2064)\n",
    "\n",
    "#for next data\n",
    "pngs_dir = os.path.join(analysis_folder,'pngs')\n",
    "#pngs_dir = os.path.join(analysis_folder, camera, 'pngs')"
   ]
  },
  {
   "cell_type": "markdown",
   "metadata": {},
   "source": [
    "## Specify Directories"
   ]
  },
  {
   "cell_type": "code",
   "execution_count": 3,
   "metadata": {},
   "outputs": [],
   "source": [
    "data_dir = os.path.join(base_dir, 'raw_data')\n",
    "trial_directory = os.path.join(data_dir, subject, trial, 'pre')\n",
    "ximea_timestamp_file = os.path.join(trial_directory, 'scene_camera', f'timestamps_{camera}.tsv')\n",
    "ximea_timesync_file = os.path.join(trial_directory, 'scene_camera', f'timestamp_camsync_{camera}.tsv')\n"
   ]
  },
  {
   "cell_type": "code",
   "execution_count": 4,
   "metadata": {},
   "outputs": [
    {
     "data": {
      "text/plain": [
       "'/data_repo/bravo/analysis/buddy/cellphone_1/cy'"
      ]
     },
     "execution_count": 4,
     "metadata": {},
     "output_type": "execute_result"
    }
   ],
   "source": [
    "analysis_folder"
   ]
  },
  {
   "cell_type": "markdown",
   "metadata": {},
   "source": [
    "## Write Timestamps\n",
    "We already have timestamps, but we need them to be in the format tha pupil labs expects from a world cam."
   ]
  },
  {
   "cell_type": "code",
   "execution_count": 5,
   "metadata": {},
   "outputs": [
    {
     "name": "stdout",
     "output_type": "stream",
     "text": [
      "Time Elapsed: 60.93483090400696 seconds\n",
      "Time Drift pre to post: 0.002594831993008029 seconds\n",
      "Start at 1575571087.1113873, end at 1575571146.2747233\n"
     ]
    }
   ],
   "source": [
    "#a = np.load(os.path.join(trial_directory,'eye_camera','000','world_timestamps.npy'))\n",
    "world_timestamps = ana.convert_ximea_time_to_unix_time(ximea_timestamp_file, ximea_timesync_file)[:,3]\n",
    "np.save(os.path.join(analysis_folder, 'world_timestamps.npy'),world_timestamps) "
   ]
  },
  {
   "cell_type": "code",
   "execution_count": 6,
   "metadata": {},
   "outputs": [
    {
     "data": {
      "text/plain": [
       "[<matplotlib.lines.Line2D at 0x7f4257c8a490>]"
      ]
     },
     "execution_count": 6,
     "metadata": {},
     "output_type": "execute_result"
    },
    {
     "data": {
      "image/png": "[encoded data removed]",
      "text/plain": [
       "<Figure size 432x288 with 1 Axes>"
      ]
     },
     "metadata": {
      "needs_background": "light"
     },
     "output_type": "display_data"
    }
   ],
   "source": [
    "import matplotlib.pyplot as plt\n",
    "plt.plot(world_timestamps)"
   ]
  },
  {
   "cell_type": "markdown",
   "metadata": {},
   "source": [
    "## Write Video"
   ]
  },
  {
   "cell_type": "code",
   "execution_count": 7,
   "metadata": {},
   "outputs": [
    {
     "name": "stdout",
     "output_type": "stream",
     "text": [
      "12200\n"
     ]
    }
   ],
   "source": [
    "number_frames = len([name for name in os.listdir(pngs_dir) if os.path.isfile(os.path.join(pngs_dir,name))])\n",
    "print(number_frames)"
   ]
  },
  {
   "cell_type": "code",
   "execution_count": null,
   "metadata": {},
   "outputs": [],
   "source": [
    "video_filename = os.path.join(analysis_folder, 'world.mp4')\n",
    "fourcc = cv2.VideoWriter_fourcc(*'FMP4')\n",
    "video = cv2.VideoWriter(video_filename, fourcc, 200, img_dims[::-1], 1)\n",
    "\n",
    "for i in range(number_frames):\n",
    "    frame = imageio.imread(os.path.join(analysis_folder,'pngs',f'frame_{i}.png'))\n",
    "    frame = frame/np.max(frame)\n",
    "    video.write(cv2.cvtColor(np.uint8(frame*255), cv2.COLOR_BGR2RGB))\n",
    "video.release()\n",
    "print('Done!')"
   ]
  },
  {
   "cell_type": "markdown",
   "metadata": {},
   "source": [
    "## Function to Loop Through Timestamp convert"
   ]
  },
  {
   "cell_type": "code",
   "execution_count": 9,
   "metadata": {},
   "outputs": [],
   "source": [
    "def write_ximea_timestamps(trial_directory, analysis_folder, camera):\n",
    "                           \n",
    "    ximea_timestamp_file = os.path.join(trial_directory, 'scene_camera', f'timestamps_{camera}.tsv')\n",
    "    ximea_timesync_file = os.path.join(trial_directory, 'scene_camera', f'timestamp_camsync_{camera}.tsv')\n",
    "\n",
    "    world_timestamps = ana.convert_ximea_time_to_unix_time(ximea_timestamp_file, ximea_timesync_file)[:,3]\n",
    "    np.save(os.path.join(analysis_folder, camera,'world_timestamps.npy'),world_timestamps)\n",
    "    "
   ]
  },
  {
   "cell_type": "code",
   "execution_count": 13,
   "metadata": {},
   "outputs": [
    {
     "name": "stdout",
     "output_type": "stream",
     "text": [
      "Time Elapsed: 135.3787317276001 seconds\n",
      "Time Drift pre to post: 0.018285096399949907 seconds\n",
      "1574810720.7608986\n",
      "Time Elapsed: 135.2961688041687 seconds\n",
      "Time Drift pre to post: 0.018304411831309153 seconds\n",
      "1574810921.4236894\n",
      "Time Elapsed: 136.0369143486023 seconds\n",
      "Time Drift pre to post: 0.015845579397705478 seconds\n",
      "1574811110.9803076\n",
      "Time Elapsed: 136.31205368041992 seconds\n",
      "Time Drift pre to post: 0.015955095580238776 seconds\n",
      "1574811439.918789\n",
      "Time Elapsed: 136.78098344802856 seconds\n",
      "Time Drift pre to post: 0.018499615971450112 seconds\n",
      "1574811588.4511204\n"
     ]
    }
   ],
   "source": [
    "import itertools as it\n",
    "base_dir = '/data_repo/bravo'\n",
    "subjects = ['jf']\n",
    "tasks = ['cell_phone', 'laptop']\n",
    "repititions = ['1','2','3']\n",
    "cameras = ['cy']\n",
    "iterator = it.product(subjects, tasks, repititions, cameras)\n",
    "\n",
    "for iteration in iterator:\n",
    "    subject, task, rep, camera = iteration\n",
    "    output_dir = os.path.join(base_dir, 'analysis')\n",
    "    analysis_folder = os.path.join(output_dir, subject, trial)\n",
    "    trial = f'{task}_{rep}'\n",
    "    if(os.path.isdir(os.path.join(base_dir,'raw_data', subject, trial))):\n",
    "        trial_directory = os.path.join(base_dir, 'raw_data', subject, trial, 'pre')\n",
    "        analysis_folder = os.path.join(base_dir, 'analysis', subject, trial)\n",
    "        write_ximea_timestamps(trial_directory, analysis_folder, camera)"
   ]
  },
  {
   "cell_type": "markdown",
   "metadata": {},
   "source": [
    "## Function to Loop Through mp4 convert"
   ]
  },
  {
   "cell_type": "code",
   "execution_count": 16,
   "metadata": {},
   "outputs": [],
   "source": [
    "def convert_pngs_mp4(analysis_folder, camera, img_dims):\n",
    "    '''\n",
    "    Convert a set of pngs to mp4 movie (for purposes of spatial calibration for ximea and pupil labs)\n",
    "    \n",
    "    '''\n",
    "    \n",
    "    pngs_dir = os.path.join(analysis_folder,camera, 'pngs')\n",
    "    #pngs_dir = os.path.join(analysis_folder,'pngs',camera)\n",
    "    number_frames = len([name for name in os.listdir(pngs_dir) if os.path.isfile(os.path.join(pngs_dir,name))])\n",
    "    print(f'Converting {number_frames} frames to .mp4')\n",
    "    \n",
    "    video_filename = os.path.join(analysis_folder, f'world_{camera}.mp4')\n",
    "    fourcc = cv2.VideoWriter_fourcc(*'FMP4')\n",
    "    video = cv2.VideoWriter(video_filename, fourcc, 200, img_dims[::-1], 1)\n",
    "    for i in range(number_frames):\n",
    "        frame = np.flipud(np.fliplr(imageio.imread(os.path.join(pngs_dir,f'frame_{i}.png'))))\n",
    "        frame = frame/np.max(frame)\n",
    "        video.write(cv2.cvtColor(np.uint8(frame*255), cv2.COLOR_BGR2RGB))\n",
    "    video.release()"
   ]
  },
  {
   "cell_type": "code",
   "execution_count": 18,
   "metadata": {},
   "outputs": [
    {
     "name": "stdout",
     "output_type": "stream",
     "text": [
      "/data_repo/bravo/analysis/jf/cell_phone_2 cy (1544, 2064)\n",
      "Converting 0 frames to .mp4\n",
      "/data_repo/bravo/analysis/jf/cell_phone_3 cy (1544, 2064)\n",
      "Converting 0 frames to .mp4\n",
      "/data_repo/bravo/analysis/jf/laptop_2 cy (1544, 2064)\n",
      "Converting 0 frames to .mp4\n"
     ]
    }
   ],
   "source": [
    "import itertools as it\n",
    "subjects = ['ag']\n",
    "tasks = ['chat', 'book','cell_phone', 'laptop']\n",
    "repititions = ['1']\n",
    "cameras = ['cy']\n",
    "iterator = it.product(subjects, tasks, repititions, cameras)\n",
    "img_dims=(1544,2064)\n",
    "\n",
    "\n",
    "for iteration in iterator:\n",
    "    subject, task, rep, camera = iteration\n",
    "    trial = f'{task}_{rep}'\n",
    "    if(os.path.isdir(os.path.join(base_dir,'raw_data', subject, trial))):\n",
    "        trial_directory = os.path.join(base_dir, 'raw_data', subject, trial, 'pre')\n",
    "        analysis_folder = os.path.join(base_dir, 'analysis', subject, trial)\n",
    "        convert_pngs_mp4(analysis_folder, camera, img_dims)\n"
   ]
  },
  {
   "cell_type": "markdown",
   "metadata": {},
   "source": [
    "## In Pupil Player\n",
    "\n",
    "On a computer with pupil player:\n",
    "1. replace the old world.mp4 and world_timestamps.npy files with those generated here. \n",
    "2. Open the folder in pupil player and click the calibration button (target icon). Choose 'Gaze from Offline Calibration', then click 'Calculate All Calibrations and Mappings' This may take awhile, especcially the calibrations substep.\n",
    "3. Click the 'Raw Data Exporter' button to export the new calibration data. This may also take awhile\n",
    "4. Upload this exported data to back to the server for analysis, into  the appropriate 'analysis_folder'"
   ]
  },
  {
   "cell_type": "code",
   "execution_count": null,
   "metadata": {},
   "outputs": [],
   "source": []
  }
 ],
 "metadata": {
  "kernelspec": {
   "display_name": "Python 3",
   "language": "python",
   "name": "python3"
  },
  "language_info": {
   "codemirror_mode": {
    "name": "ipython",
    "version": 3
   },
   "file_extension": ".py",
   "mimetype": "text/x-python",
   "name": "python",
   "nbconvert_exporter": "python",
   "pygments_lexer": "ipython3",
   "version": "3.7.4"
  }
 },
 "nbformat": 4,
 "nbformat_minor": 4
}

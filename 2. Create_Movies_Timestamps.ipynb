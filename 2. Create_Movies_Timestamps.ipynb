{
 "cells": [
  {
   "cell_type": "markdown",
   "metadata": {},
   "source": [
    "# Create Movie Timestamps\n",
    "\n",
    "Resampling movies to precise timestamps in order to address dropped frames"
   ]
  },
  {
   "cell_type": "markdown",
   "metadata": {},
   "source": [
    "## Dependencies"
   ]
  },
  {
   "cell_type": "code",
   "execution_count": 23,
   "metadata": {},
   "outputs": [],
   "source": [
    "import os, stat\n",
    "import numpy as np\n",
    "import cv2\n",
    "import imageio\n",
    "import utils.run_analysis as ana\n",
    "import pandas as pd\n",
    "from pathlib import Path"
   ]
  },
  {
   "cell_type": "markdown",
   "metadata": {},
   "source": [
    "## Folders"
   ]
  },
  {
   "cell_type": "code",
   "execution_count": 24,
   "metadata": {},
   "outputs": [],
   "source": [
    "base_dir = '/hmet_data'\n",
    "data_dir = os.path.join(base_dir, 'raw')\n",
    "pngs_dir = os.path.join(base_dir,'pngs')\n",
    "analysis_dir = os.path.join(base_dir, 'analysis')\n",
    "trial_list_file = './trial_list.csv'\n",
    "trials = pd.read_csv(trial_list_file)"
   ]
  },
  {
   "cell_type": "markdown",
   "metadata": {},
   "source": [
    "## Specify Directories"
   ]
  },
  {
   "cell_type": "code",
   "execution_count": 25,
   "metadata": {},
   "outputs": [
    {
     "name": "stdout",
     "output_type": "stream",
     "text": [
      "/hmet_data/raw/2020_02_26/004\n",
      "/hmet_data/pngs/phone/ag/1\n",
      "/hmet_data/analysis/phone/ag/1\n"
     ]
    }
   ],
   "source": [
    "idx = 0\n",
    "line = trials.iloc[idx]\n",
    "raw_folder = os.path.join(data_dir, line['folder'], str(line['trial']).zfill(3))\n",
    "pngs_folder = os.path.join(pngs_dir, str(line['task']).zfill(3), line['subject'], str(line['iter']))\n",
    "analysis_folder = os.path.join(base_dir, 'analysis', str(line['task']).zfill(3), line['subject'], str(line['iter']))\n",
    "Path(analysis_folder).mkdir(parents=True, exist_ok=True)\n",
    "print(raw_folder)\n",
    "print(pngs_folder)\n",
    "print(analysis_folder)"
   ]
  },
  {
   "cell_type": "code",
   "execution_count": 26,
   "metadata": {},
   "outputs": [],
   "source": [
    "ximea_timestamp_file = os.path.join(raw_folder, 'ximea', 'timestamps_ximea.tsv')\n",
    "ximea_timesync_file = os.path.join(raw_folder, 'ximea', 'timestamp_camsync_ximea.tsv')"
   ]
  },
  {
   "cell_type": "markdown",
   "metadata": {},
   "source": [
    "## Write Timestamps\n",
    "We already have timestamps, but we need them to be in the format tha pupil labs expects from a world cam."
   ]
  },
  {
   "cell_type": "code",
   "execution_count": 27,
   "metadata": {},
   "outputs": [],
   "source": [
    "def convert_ximea_time_to_unix_time(timestamp_file, sync_file):\n",
    "    '''\n",
    "    Convert the ximea camera times to unix timestamps\n",
    "    Params:\n",
    "        timestamp_file (str): path to .csv file with ximea timesstamps\n",
    "        sync_file (str): path to .csv file with sync information\n",
    "    Returns:\n",
    "        unix_timestamp_array (2d np array): Unix Timestamps Inferred\n",
    "    '''\n",
    "    with open(timestamp_file, 'r') as f:\n",
    "        ts_table=list(zip(line.strip().split('\\t') for line in f))\n",
    "    ts_table = np.squeeze(np.array(ts_table[1:]).astype(np.double))\n",
    "\n",
    "    with open(sync_file, 'r') as f:\n",
    "        sync_table=list(zip(line.strip().split('\\t') for line in f))\n",
    "        \n",
    "    (unix_pre, cam_pre, _) = np.array(sync_table[1][0][1:]).astype(np.double)\n",
    "    (unix_post, cam_post, _) = np.array(sync_table[2][0][1:]).astype(np.double)\n",
    "\n",
    "    #how far off have the computer and camera timestamps drifted?\n",
    "    t_elapsed_unix = np.double(unix_post) - np.double(unix_pre)\n",
    "    t_elapsed_cam = np.double(cam_post) - np.double(cam_pre)\n",
    "    drift = np.abs(t_elapsed_unix - t_elapsed_cam)\n",
    "    print(f'Time Elapsed: {t_elapsed_unix} seconds')\n",
    "    print(f'Time Drift pre to post: {drift} seconds')\n",
    "    \n",
    "    # We assume here that time.time() in Linux's 0.001s precision is better than camera's.\n",
    "    # Convert Camera timestamps to Unix timestamps.\n",
    "    #first convert to [0,1]\n",
    "    t_cam_converted = (ts_table[:,2] - cam_pre) / (cam_post - cam_pre)\n",
    "    #then convert to wall time\n",
    "    t_cam_converted = (t_cam_converted * (unix_post - unix_pre)) + unix_pre\n",
    "    \n",
    "    #assume time in camera is linear, and just change offset at pre.\n",
    "    #t_cam_converted = ts_table[:,2] - ts_table[0,2] + unix_pre\n",
    "    \n",
    "    print(f'Start at {t_cam_converted[0]}, end at {t_cam_converted[-1]}')\n",
    "    \n",
    "    #add unix time to data\n",
    "    t_cam_converted = np.append(ts_table, np.expand_dims(t_cam_converted,1),axis=1)\n",
    "    \n",
    "    return(t_cam_converted)"
   ]
  },
  {
   "cell_type": "code",
   "execution_count": 16,
   "metadata": {},
   "outputs": [
    {
     "name": "stdout",
     "output_type": "stream",
     "text": [
      "Time Elapsed: 91.37102216599988 seconds\n",
      "Time Drift pre to post: 0.009754682000220782 seconds\n",
      "Start at 2807.7722497216096, end at 2899.147620575348\n"
     ]
    }
   ],
   "source": [
    "#a = np.load(os.path.join(trial_directory,'eye_camera','000','world_timestamps.npy'))\n",
    "world_timestamps = convert_ximea_time_to_unix_time(ximea_timestamp_file, ximea_timesync_file)[:,3]\n",
    "np.save(os.path.join(analysis_folder, 'world_timestamps.npy'),world_timestamps) "
   ]
  },
  {
   "cell_type": "code",
   "execution_count": 17,
   "metadata": {},
   "outputs": [
    {
     "data": {
      "text/plain": [
       "[<matplotlib.lines.Line2D at 0x7fb05ece0bd0>]"
      ]
     },
     "execution_count": 17,
     "metadata": {},
     "output_type": "execute_result"
    },
    {
     "data": {
      "image/png": "[encoded data removed]",
      "text/plain": [
       "<Figure size 432x288 with 1 Axes>"
      ]
     },
     "metadata": {
      "needs_background": "light"
     },
     "output_type": "display_data"
    }
   ],
   "source": [
    "import matplotlib.pyplot as plt\n",
    "plt.plot(world_timestamps)"
   ]
  },
  {
   "cell_type": "markdown",
   "metadata": {},
   "source": [
    "## Write Video"
   ]
  },
  {
   "cell_type": "code",
   "execution_count": 18,
   "metadata": {},
   "outputs": [
    {
     "name": "stdout",
     "output_type": "stream",
     "text": [
      "0\n"
     ]
    }
   ],
   "source": [
    "number_frames = len([name for name in os.listdir(pngs_dir) if os.path.isfile(os.path.join(pngs_dir,name))])\n",
    "print(number_frames)"
   ]
  },
  {
   "cell_type": "code",
   "execution_count": null,
   "metadata": {},
   "outputs": [],
   "source": [
    "video_filename = os.path.join(analysis_folder, 'world.mp4')\n",
    "fourcc = cv2.VideoWriter_fourcc(*'FMP4')\n",
    "video = cv2.VideoWriter(video_filename, fourcc, 200, img_dims[::-1], 1)\n",
    "\n",
    "for i in range(number_frames):\n",
    "    frame = imageio.imread(os.path.join(analysis_folder,'pngs',f'frame_{i}.png'))\n",
    "    frame = frame/np.max(frame)\n",
    "    video.write(cv2.cvtColor(np.uint8(frame*255), cv2.COLOR_BGR2RGB))\n",
    "video.release()\n",
    "print('Done!')"
   ]
  },
  {
   "cell_type": "markdown",
   "metadata": {},
   "source": [
    "## Function to Loop Through Timestamp convert"
   ]
  },
  {
   "cell_type": "code",
   "execution_count": 28,
   "metadata": {},
   "outputs": [],
   "source": [
    "def write_ximea_timestamps(trial_directory, analysis_folder, camera):\n",
    "                           \n",
    "    ximea_timestamp_file = os.path.join(trial_directory, f'timestamps_ximea.tsv')\n",
    "    ximea_timesync_file = os.path.join(trial_directory, f'timestamp_camsync_ximea.tsv')\n",
    "\n",
    "    world_timestamps = convert_ximea_time_to_unix_time(ximea_timestamp_file, ximea_timesync_file)[:,3]\n",
    "    np.save(os.path.join(analysis_folder, camera,'world_timestamps.npy'),world_timestamps)\n",
    "    "
   ]
  },
  {
   "cell_type": "code",
   "execution_count": 40,
   "metadata": {},
   "outputs": [
    {
     "ename": "IndexError",
     "evalue": "single positional indexer is out-of-bounds",
     "output_type": "error",
     "traceback": [
      "\u001b[0;31m---------------------------------------------------------------------------\u001b[0m",
      "\u001b[0;31mIndexError\u001b[0m                                Traceback (most recent call last)",
      "\u001b[0;32m<ipython-input-40-1f36dfad848f>\u001b[0m in \u001b[0;36m<module>\u001b[0;34m\u001b[0m\n\u001b[1;32m      1\u001b[0m \u001b[0;32mfor\u001b[0m \u001b[0midx\u001b[0m \u001b[0;32min\u001b[0m \u001b[0mrange\u001b[0m\u001b[0;34m(\u001b[0m\u001b[0;36m18\u001b[0m\u001b[0;34m)\u001b[0m\u001b[0;34m:\u001b[0m\u001b[0;34m\u001b[0m\u001b[0;34m\u001b[0m\u001b[0m\n\u001b[0;32m----> 2\u001b[0;31m     \u001b[0mline\u001b[0m \u001b[0;34m=\u001b[0m \u001b[0mtrials\u001b[0m\u001b[0;34m.\u001b[0m\u001b[0miloc\u001b[0m\u001b[0;34m[\u001b[0m\u001b[0midx\u001b[0m\u001b[0;34m]\u001b[0m\u001b[0;34m\u001b[0m\u001b[0;34m\u001b[0m\u001b[0m\n\u001b[0m\u001b[1;32m      3\u001b[0m     \u001b[0mraw_folder\u001b[0m \u001b[0;34m=\u001b[0m \u001b[0mos\u001b[0m\u001b[0;34m.\u001b[0m\u001b[0mpath\u001b[0m\u001b[0;34m.\u001b[0m\u001b[0mjoin\u001b[0m\u001b[0;34m(\u001b[0m\u001b[0mdata_dir\u001b[0m\u001b[0;34m,\u001b[0m \u001b[0mline\u001b[0m\u001b[0;34m[\u001b[0m\u001b[0;34m'folder'\u001b[0m\u001b[0;34m]\u001b[0m\u001b[0;34m,\u001b[0m \u001b[0mstr\u001b[0m\u001b[0;34m(\u001b[0m\u001b[0mline\u001b[0m\u001b[0;34m[\u001b[0m\u001b[0;34m'trial'\u001b[0m\u001b[0;34m]\u001b[0m\u001b[0;34m)\u001b[0m\u001b[0;34m.\u001b[0m\u001b[0mzfill\u001b[0m\u001b[0;34m(\u001b[0m\u001b[0;36m3\u001b[0m\u001b[0;34m)\u001b[0m\u001b[0;34m)\u001b[0m\u001b[0;34m\u001b[0m\u001b[0;34m\u001b[0m\u001b[0m\n\u001b[1;32m      4\u001b[0m     \u001b[0mpngs_folder\u001b[0m \u001b[0;34m=\u001b[0m \u001b[0mos\u001b[0m\u001b[0;34m.\u001b[0m\u001b[0mpath\u001b[0m\u001b[0;34m.\u001b[0m\u001b[0mjoin\u001b[0m\u001b[0;34m(\u001b[0m\u001b[0mpngs_dir\u001b[0m\u001b[0;34m,\u001b[0m \u001b[0mstr\u001b[0m\u001b[0;34m(\u001b[0m\u001b[0mline\u001b[0m\u001b[0;34m[\u001b[0m\u001b[0;34m'task'\u001b[0m\u001b[0;34m]\u001b[0m\u001b[0;34m)\u001b[0m\u001b[0;34m.\u001b[0m\u001b[0mzfill\u001b[0m\u001b[0;34m(\u001b[0m\u001b[0;36m3\u001b[0m\u001b[0;34m)\u001b[0m\u001b[0;34m,\u001b[0m \u001b[0mline\u001b[0m\u001b[0;34m[\u001b[0m\u001b[0;34m'subject'\u001b[0m\u001b[0;34m]\u001b[0m\u001b[0;34m,\u001b[0m \u001b[0mstr\u001b[0m\u001b[0;34m(\u001b[0m\u001b[0mline\u001b[0m\u001b[0;34m[\u001b[0m\u001b[0;34m'iter'\u001b[0m\u001b[0;34m]\u001b[0m\u001b[0;34m)\u001b[0m\u001b[0;34m)\u001b[0m\u001b[0;34m\u001b[0m\u001b[0;34m\u001b[0m\u001b[0m\n\u001b[1;32m      5\u001b[0m     \u001b[0manalysis_folder\u001b[0m \u001b[0;34m=\u001b[0m \u001b[0mos\u001b[0m\u001b[0;34m.\u001b[0m\u001b[0mpath\u001b[0m\u001b[0;34m.\u001b[0m\u001b[0mjoin\u001b[0m\u001b[0;34m(\u001b[0m\u001b[0mbase_dir\u001b[0m\u001b[0;34m,\u001b[0m \u001b[0;34m'analysis'\u001b[0m\u001b[0;34m,\u001b[0m \u001b[0mstr\u001b[0m\u001b[0;34m(\u001b[0m\u001b[0mline\u001b[0m\u001b[0;34m[\u001b[0m\u001b[0;34m'task'\u001b[0m\u001b[0;34m]\u001b[0m\u001b[0;34m)\u001b[0m\u001b[0;34m.\u001b[0m\u001b[0mzfill\u001b[0m\u001b[0;34m(\u001b[0m\u001b[0;36m3\u001b[0m\u001b[0;34m)\u001b[0m\u001b[0;34m,\u001b[0m \u001b[0mline\u001b[0m\u001b[0;34m[\u001b[0m\u001b[0;34m'subject'\u001b[0m\u001b[0;34m]\u001b[0m\u001b[0;34m,\u001b[0m \u001b[0mstr\u001b[0m\u001b[0;34m(\u001b[0m\u001b[0mline\u001b[0m\u001b[0;34m[\u001b[0m\u001b[0;34m'iter'\u001b[0m\u001b[0;34m]\u001b[0m\u001b[0;34m)\u001b[0m\u001b[0;34m)\u001b[0m\u001b[0;34m\u001b[0m\u001b[0;34m\u001b[0m\u001b[0m\n",
      "\u001b[0;32m~/anaconda3/lib/python3.7/site-packages/pandas/core/indexing.py\u001b[0m in \u001b[0;36m__getitem__\u001b[0;34m(self, key)\u001b[0m\n\u001b[1;32m   1766\u001b[0m \u001b[0;34m\u001b[0m\u001b[0m\n\u001b[1;32m   1767\u001b[0m             \u001b[0mmaybe_callable\u001b[0m \u001b[0;34m=\u001b[0m \u001b[0mcom\u001b[0m\u001b[0;34m.\u001b[0m\u001b[0mapply_if_callable\u001b[0m\u001b[0;34m(\u001b[0m\u001b[0mkey\u001b[0m\u001b[0;34m,\u001b[0m \u001b[0mself\u001b[0m\u001b[0;34m.\u001b[0m\u001b[0mobj\u001b[0m\u001b[0;34m)\u001b[0m\u001b[0;34m\u001b[0m\u001b[0;34m\u001b[0m\u001b[0m\n\u001b[0;32m-> 1768\u001b[0;31m             \u001b[0;32mreturn\u001b[0m \u001b[0mself\u001b[0m\u001b[0;34m.\u001b[0m\u001b[0m_getitem_axis\u001b[0m\u001b[0;34m(\u001b[0m\u001b[0mmaybe_callable\u001b[0m\u001b[0;34m,\u001b[0m \u001b[0maxis\u001b[0m\u001b[0;34m=\u001b[0m\u001b[0maxis\u001b[0m\u001b[0;34m)\u001b[0m\u001b[0;34m\u001b[0m\u001b[0;34m\u001b[0m\u001b[0m\n\u001b[0m\u001b[1;32m   1769\u001b[0m \u001b[0;34m\u001b[0m\u001b[0m\n\u001b[1;32m   1770\u001b[0m     \u001b[0;32mdef\u001b[0m \u001b[0m_is_scalar_access\u001b[0m\u001b[0;34m(\u001b[0m\u001b[0mself\u001b[0m\u001b[0;34m,\u001b[0m \u001b[0mkey\u001b[0m\u001b[0;34m:\u001b[0m \u001b[0mTuple\u001b[0m\u001b[0;34m)\u001b[0m\u001b[0;34m:\u001b[0m\u001b[0;34m\u001b[0m\u001b[0;34m\u001b[0m\u001b[0m\n",
      "\u001b[0;32m~/anaconda3/lib/python3.7/site-packages/pandas/core/indexing.py\u001b[0m in \u001b[0;36m_getitem_axis\u001b[0;34m(self, key, axis)\u001b[0m\n\u001b[1;32m   2136\u001b[0m \u001b[0;34m\u001b[0m\u001b[0m\n\u001b[1;32m   2137\u001b[0m             \u001b[0;31m# validate the location\u001b[0m\u001b[0;34m\u001b[0m\u001b[0;34m\u001b[0m\u001b[0;34m\u001b[0m\u001b[0m\n\u001b[0;32m-> 2138\u001b[0;31m             \u001b[0mself\u001b[0m\u001b[0;34m.\u001b[0m\u001b[0m_validate_integer\u001b[0m\u001b[0;34m(\u001b[0m\u001b[0mkey\u001b[0m\u001b[0;34m,\u001b[0m \u001b[0maxis\u001b[0m\u001b[0;34m)\u001b[0m\u001b[0;34m\u001b[0m\u001b[0;34m\u001b[0m\u001b[0m\n\u001b[0m\u001b[1;32m   2139\u001b[0m \u001b[0;34m\u001b[0m\u001b[0m\n\u001b[1;32m   2140\u001b[0m             \u001b[0;32mreturn\u001b[0m \u001b[0mself\u001b[0m\u001b[0;34m.\u001b[0m\u001b[0m_get_loc\u001b[0m\u001b[0;34m(\u001b[0m\u001b[0mkey\u001b[0m\u001b[0;34m,\u001b[0m \u001b[0maxis\u001b[0m\u001b[0;34m=\u001b[0m\u001b[0maxis\u001b[0m\u001b[0;34m)\u001b[0m\u001b[0;34m\u001b[0m\u001b[0;34m\u001b[0m\u001b[0m\n",
      "\u001b[0;32m~/anaconda3/lib/python3.7/site-packages/pandas/core/indexing.py\u001b[0m in \u001b[0;36m_validate_integer\u001b[0;34m(self, key, axis)\u001b[0m\n\u001b[1;32m   2061\u001b[0m         \u001b[0mlen_axis\u001b[0m \u001b[0;34m=\u001b[0m \u001b[0mlen\u001b[0m\u001b[0;34m(\u001b[0m\u001b[0mself\u001b[0m\u001b[0;34m.\u001b[0m\u001b[0mobj\u001b[0m\u001b[0;34m.\u001b[0m\u001b[0m_get_axis\u001b[0m\u001b[0;34m(\u001b[0m\u001b[0maxis\u001b[0m\u001b[0;34m)\u001b[0m\u001b[0;34m)\u001b[0m\u001b[0;34m\u001b[0m\u001b[0;34m\u001b[0m\u001b[0m\n\u001b[1;32m   2062\u001b[0m         \u001b[0;32mif\u001b[0m \u001b[0mkey\u001b[0m \u001b[0;34m>=\u001b[0m \u001b[0mlen_axis\u001b[0m \u001b[0;32mor\u001b[0m \u001b[0mkey\u001b[0m \u001b[0;34m<\u001b[0m \u001b[0;34m-\u001b[0m\u001b[0mlen_axis\u001b[0m\u001b[0;34m:\u001b[0m\u001b[0;34m\u001b[0m\u001b[0;34m\u001b[0m\u001b[0m\n\u001b[0;32m-> 2063\u001b[0;31m             \u001b[0;32mraise\u001b[0m \u001b[0mIndexError\u001b[0m\u001b[0;34m(\u001b[0m\u001b[0;34m\"single positional indexer is out-of-bounds\"\u001b[0m\u001b[0;34m)\u001b[0m\u001b[0;34m\u001b[0m\u001b[0;34m\u001b[0m\u001b[0m\n\u001b[0m\u001b[1;32m   2064\u001b[0m \u001b[0;34m\u001b[0m\u001b[0m\n\u001b[1;32m   2065\u001b[0m     \u001b[0;32mdef\u001b[0m \u001b[0m_getitem_tuple\u001b[0m\u001b[0;34m(\u001b[0m\u001b[0mself\u001b[0m\u001b[0;34m,\u001b[0m \u001b[0mtup\u001b[0m\u001b[0;34m:\u001b[0m \u001b[0mTuple\u001b[0m\u001b[0;34m)\u001b[0m\u001b[0;34m:\u001b[0m\u001b[0;34m\u001b[0m\u001b[0;34m\u001b[0m\u001b[0m\n",
      "\u001b[0;31mIndexError\u001b[0m: single positional indexer is out-of-bounds"
     ]
    }
   ],
   "source": [
    "for idx in range(18):\n",
    "    line = trials.iloc[idx]\n",
    "    raw_folder = os.path.join(data_dir, line['folder'], str(line['trial']).zfill(3))\n",
    "    pngs_folder = os.path.join(pngs_dir, str(line['task']).zfill(3), line['subject'], str(line['iter']))\n",
    "    analysis_folder = os.path.join(base_dir, 'analysis', str(line['task']).zfill(3), line['subject'], str(line['iter']))\n",
    "    Path(analysis_folder).mkdir(parents=True, exist_ok=True)\n",
    "    ximea_timestamp_file = os.path.join(raw_folder, 'ximea', 'timestamps_ximea.tsv')\n",
    "    ximea_timesync_file = os.path.join(raw_folder, 'ximea', 'timestamp_camsync_ximea.tsv')\n",
    "    ximea_timestamp_file_cp = os.path.join(analysis_folder, 'timestamps_ximea.tsv')\n",
    "    ximea_timesync_file_cp = os.path.join(analysis_folder, 'timestamp_camsync_ximea.tsv')\n",
    "    #print(ximea_timestamp_file, ximea_timestamp_file)\n",
    "    #print(ximea_timesync_file, ximea_timesync_file_cp)\n",
    "    os.system(f'cp {ximea_timestamp_file} {ximea_timestamp_file_cp}')\n",
    "    os.system(f'cp {ximea_timesync_file} {ximea_timesync_file_cp}')\n",
    "    world_timestamps = convert_ximea_time_to_unix_time(ximea_timestamp_file, ximea_timesync_file)[:,3]\n",
    "    np.save(os.path.join(analysis_folder, 'world_timestamps.npy'),world_timestamps)"
   ]
  },
  {
   "cell_type": "code",
   "execution_count": 34,
   "metadata": {},
   "outputs": [],
   "source": [
    "def convert_pngs_mp4(pngs_dir, analysis_folder, img_dims):\n",
    "    '''\n",
    "    Convert a set of pngs to mp4 movie (for visualization purposes of spatial calibration for ximea and pupil labs)\n",
    "    \n",
    "    '''\n",
    "    number_frames = len([name for name in os.listdir(pngs_dir) if os.path.isfile(os.path.join(pngs_dir,name))])\n",
    "    print(f'Converting {number_frames} frames to .mp4')\n",
    "    \n",
    "    video_filename = os.path.join(analysis_folder, f'world.mp4')\n",
    "    fourcc = cv2.VideoWriter_fourcc(*'FMP4')\n",
    "    video = cv2.VideoWriter(video_filename, fourcc, 200, img_dims[::-1], 1)\n",
    "    for i in range(number_frames):\n",
    "        frame = np.flipud(np.fliplr(imageio.imread(os.path.join(pngs_dir,f'frame_{i}.png'))))\n",
    "        frame = frame/np.max(frame)\n",
    "        video.write(cv2.cvtColor(np.uint8(frame*255), cv2.COLOR_BGR2RGB))\n",
    "    video.release()"
   ]
  },
  {
   "cell_type": "code",
   "execution_count": null,
   "metadata": {},
   "outputs": [
    {
     "name": "stdout",
     "output_type": "stream",
     "text": [
      "Converting 20000 frames to .mp4\n"
     ]
    }
   ],
   "source": [
    "idx = 0\n",
    "img_dims=(1544,2064)\n",
    "line = trials.iloc[idx]\n",
    "raw_folder = os.path.join(data_dir, line['folder'], str(line['trial']).zfill(3))\n",
    "pngs_folder = os.path.join(pngs_dir, str(line['task']).zfill(3), line['subject'], str(line['iter']))\n",
    "analysis_folder = os.path.join(base_dir, 'analysis', str(line['task']).zfill(3), line['subject'], str(line['iter']))\n",
    "convert_pngs_mp4(pngs_folder, analysis_folder, img_dims)"
   ]
  },
  {
   "cell_type": "code",
   "execution_count": null,
   "metadata": {},
   "outputs": [],
   "source": [
    "for idx in range(18):\n",
    "#idx = 0\n",
    "    img_dims=(1544,2064)\n",
    "    line = trials.iloc[idx]\n",
    "    raw_folder = os.path.join(data_dir, line['folder'], str(line['trial']).zfill(3))\n",
    "    pngs_folder = os.path.join(pngs_dir, str(line['task']).zfill(3), line['subject'], str(line['iter']))\n",
    "    analysis_folder = os.path.join(base_dir, 'analysis', str(line['task']).zfill(3), line['subject'], str(line['iter']))\n",
    "    convert_pngs_mp4(pngs_folder, analysis_folder, img_dims)"
   ]
  },
  {
   "cell_type": "code",
   "execution_count": 18,
   "metadata": {},
   "outputs": [
    {
     "name": "stdout",
     "output_type": "stream",
     "text": [
      "/data_repo/bravo/analysis/jf/cell_phone_2 cy (1544, 2064)\n",
      "Converting 0 frames to .mp4\n",
      "/data_repo/bravo/analysis/jf/cell_phone_3 cy (1544, 2064)\n",
      "Converting 0 frames to .mp4\n",
      "/data_repo/bravo/analysis/jf/laptop_2 cy (1544, 2064)\n",
      "Converting 0 frames to .mp4\n"
     ]
    }
   ],
   "source": [
    "# import itertools as it\n",
    "# subjects = ['ag']\n",
    "# tasks = ['chat', 'book','cell_phone', 'laptop']\n",
    "# repititions = ['1']\n",
    "# cameras = ['cy']\n",
    "# iterator = it.product(subjects, tasks, repititions, cameras)\n",
    "# img_dims=(1544,2064)\n",
    "\n",
    "\n",
    "# for iteration in iterator:\n",
    "#     subject, task, rep, camera = iteration\n",
    "#     trial = f'{task}_{rep}'\n",
    "#     if(os.path.isdir(os.path.join(base_dir,'raw_data', subject, trial))):\n",
    "#         trial_directory = os.path.join(base_dir, 'raw_data', subject, trial, 'pre')\n",
    "#         analysis_folder = os.path.join(base_dir, 'analysis', subject, trial)\n",
    "#         convert_pngs_mp4(analysis_folder, camera, img_dims)\n"
   ]
  },
  {
   "cell_type": "code",
   "execution_count": null,
   "metadata": {},
   "outputs": [],
   "source": []
  }
 ],
 "metadata": {
  "kernelspec": {
   "display_name": "Python 3",
   "language": "python",
   "name": "python3"
  },
  "language_info": {
   "codemirror_mode": {
    "name": "ipython",
    "version": 3
   },
   "file_extension": ".py",
   "mimetype": "text/x-python",
   "name": "python",
   "nbconvert_exporter": "python",
   "pygments_lexer": "ipython3",
   "version": "3.7.4"
  }
 },
 "nbformat": 4,
 "nbformat_minor": 4
}

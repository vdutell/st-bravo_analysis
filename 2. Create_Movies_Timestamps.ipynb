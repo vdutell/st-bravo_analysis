{
 "cells": [
  {
   "cell_type": "markdown",
   "metadata": {},
   "source": [
    "# Create .mp4 movies from frames\n",
    "\n",
    "In order to calibrate our pupil labs system to the world cam we actually WANT to use (ximea cameras) we need to do offline calibration. To do that, we need both an .mp4 for pupil labs to read, as well as a set of timestamps for each frame of the mp4 file. Here we generate both these.  \n"
   ]
  },
  {
   "cell_type": "markdown",
   "metadata": {},
   "source": [
    "## Dependencies"
   ]
  },
  {
   "cell_type": "code",
   "execution_count": 1,
   "metadata": {},
   "outputs": [],
   "source": [
    "import os, stat\n",
    "import numpy as np\n",
    "import cv2\n",
    "import imageio"
   ]
  },
  {
   "cell_type": "markdown",
   "metadata": {},
   "source": [
    "## Parameters"
   ]
  },
  {
   "cell_type": "code",
   "execution_count": 2,
   "metadata": {},
   "outputs": [],
   "source": [
    "subject = 'jf'\n",
    "trial = 'cell_phone_1'\n",
    "camera = 'cy'\n",
    "base_dir = '/data_repo/bravo'\n",
    "output_dir = os.path.join(base_dir, 'analysis')\n",
    "analysis_folder = os.path.join(output_dir, subject, trial)\n",
    "img_dims=(1544,2064)\n",
    "\n",
    "#for next data\n",
    "pngs_dir = os.path.join(analysis_folder,'pngs',camera)\n",
    "#pngs_dir = os.path.join(analysis_folder, camera, 'pngs')"
   ]
  },
  {
   "cell_type": "markdown",
   "metadata": {},
   "source": [
    "## Specify Directories"
   ]
  },
  {
   "cell_type": "code",
   "execution_count": null,
   "metadata": {},
   "outputs": [],
   "source": [
    "data_dir = os.path.join(base_dir, 'raw_data')\n",
    "trial_directory = os.path.join(data_dir, subject, trial, 'pre')\n",
    "ximea_timestamp_file = os.path.join(trial_directory, 'scene_camera', f'timestamps_{example_camera}.tsv')\n",
    "ximea_timesync_file = os.path.join(trial_directory, 'scene_camera', f'timestamp_camsync_{example_camera}.tsv')\n"
   ]
  },
  {
   "cell_type": "markdown",
   "metadata": {},
   "source": [
    "## Write Timestamps\n",
    "We already have timestamps, but we need them to be in the format tha pupil labs expects from a world cam."
   ]
  },
  {
   "cell_type": "code",
   "execution_count": null,
   "metadata": {},
   "outputs": [],
   "source": [
    "a = np.load(os.path.join(trial_directory,'eye_camera','000','world_timestamps.npy'))\n",
    "world_timestamps = ana.convert_ximea_time_to_unix_time(ximea_timestamp_file, ximea_timesync_file)[:,3]\n",
    "np.save(os.path.join(analysis_folder, camera,'world_timestamps.npy'),world_timestamps) "
   ]
  },
  {
   "cell_type": "markdown",
   "metadata": {},
   "source": [
    "## Write Video"
   ]
  },
  {
   "cell_type": "code",
   "execution_count": 4,
   "metadata": {},
   "outputs": [
    {
     "name": "stdout",
     "output_type": "stream",
     "text": [
      "24200\n"
     ]
    }
   ],
   "source": [
    "number_frames = len([name for name in os.listdir(pngs_dir) if os.path.isfile(os.path.join(pngs_dir,name))])\n",
    "print(number_frames)"
   ]
  },
  {
   "cell_type": "code",
   "execution_count": null,
   "metadata": {},
   "outputs": [],
   "source": [
    "video_filename = os.path.join(analysis_folder, f'world_{camera}.mp4')\n",
    "fourcc = cv2.VideoWriter_fourcc(*'FMP4')\n",
    "video = cv2.VideoWriter(video_filename, fourcc, 200, img_dims[::-1], 1)\n",
    "\n",
    "for i in range(number_frames):\n",
    "    frame = np.flipud(np.fliplr(imageio.imread(os.path.join(analysis_folder,'pngs',camera,f'frame_{i}.png'))))\n",
    "    frame = frame/np.max(frame)\n",
    "    video.write(cv2.cvtColor(np.uint8(frame*255), cv2.COLOR_BGR2RGB))\n",
    "video.release()"
   ]
  },
  {
   "cell_type": "markdown",
   "metadata": {},
   "source": [
    "## Function to Loop Through Timestamp convert"
   ]
  },
  {
   "cell_type": "code",
   "execution_count": null,
   "metadata": {},
   "outputs": [],
   "source": [
    "def write_ximea_timestamps(trial_directory, analysis_folder, camera)\n",
    "                           \n",
    "    ximea_timestamp_file = os.path.join(trial_directory, 'scene_camera', f'timestamps_{camera}.tsv')\n",
    "    ximea_timesync_file = os.path.join(trial_directory, 'scene_camera', f'timestamp_camsync_{camera}.tsv')\n",
    "\n",
    "    world_timestamps = ana.convert_ximea_time_to_unix_time(ximea_timestamp_file, ximea_timesync_file)[:,3]\n",
    "    np.save(os.path.join(analysis_folder, camera,'world_timestamps.npy'),world_timestamps)\n",
    "    "
   ]
  },
  {
   "cell_type": "code",
   "execution_count": null,
   "metadata": {},
   "outputs": [],
   "source": [
    "import itertools as it\n",
    "subjects = ['jf']\n",
    "tasks = ['cell_phone', 'laptop']\n",
    "repititions = ['1','2','3']\n",
    "cameras = ['cy']\n",
    "iterator = it.product(subjects, tasks, repititions, cameras)\n",
    "\n",
    "for iteration in iterator:\n",
    "    subject, task, rep, camera = iteration\n",
    "    trial = f'{task}_{rep}'\n",
    "    if(os.path.isdir(os.path.join(base_dir,'raw_data', subject, trial))):\n",
    "        trial_directory = os.path.join(base_dir, 'raw_data', subject, trial, 'pre')\n",
    "        analysis_folder = os.path.join(base_dir, 'analysis', subject, trial)\n",
    "        write_ximea_timestamps(trial_directory, camera)"
   ]
  },
  {
   "cell_type": "markdown",
   "metadata": {},
   "source": [
    "## Function to Loop Through mp4 convert"
   ]
  },
  {
   "cell_type": "code",
   "execution_count": null,
   "metadata": {},
   "outputs": [],
   "source": [
    "def convert_pngs_mp4(analysis_folder, camera, img_dims):\n",
    "    '''\n",
    "    Convert a set of pngs to mp4 movie (for purposes of spatial calibration for ximea and pupil labs)\n",
    "    \n",
    "    '''\n",
    "    \n",
    "    pngs_dir = os.path.join(analysis_folder,camera, 'pngs')\n",
    "    #pngs_dir = os.path.join(analysis_folder,'pngs',camera)\n",
    "    number_frames = len([name for name in os.listdir(pngs_dir) if os.path.isfile(os.path.join(pngs_dir,name))])\n",
    "    print(f'Converting {number_frames} frames to .mp4')\n",
    "    \n",
    "    video_filename = os.path.join(analysis_folder, f'world_{camera}.mp4')\n",
    "    fourcc = cv2.VideoWriter_fourcc(*'FMP4')\n",
    "    video = cv2.VideoWriter(video_filename, fourcc, 200, img_dims[::-1], 1)\n",
    "    for i in range(number_frames):\n",
    "        frame = np.flipud(np.fliplr(imageio.imread(os.path.join(pngs_dir,f'frame_{i}.png'))))\n",
    "        frame = frame/np.max(frame)\n",
    "        video.write(cv2.cvtColor(np.uint8(frame*255), cv2.COLOR_BGR2RGB))\n",
    "    video.release()"
   ]
  },
  {
   "cell_type": "code",
   "execution_count": null,
   "metadata": {},
   "outputs": [],
   "source": [
    "import itertools as it\n",
    "subjects = ['jf']\n",
    "tasks = ['cell_phone', 'laptop']\n",
    "repititions = ['1','2','3']\n",
    "cameras = ['cy']\n",
    "iterator = it.product(subjects, tasks, repititions, cameras)\n",
    "img_dims=(1544,2064)\n",
    "\n",
    "\n",
    "for iteration in iterator:\n",
    "    subject, task, rep, camera = iteration\n",
    "    trial = f'{task}_{rep}'\n",
    "    if(os.path.isdir(os.path.join(base_dir,'raw_data', subject, trial))):\n",
    "        trial_directory = os.path.join(base_dir, 'raw_data', subject, trial, 'pre')\n",
    "        analysis_folder = os.path.join(base_dir, 'analysis', subject, trial)\n",
    "        def convert_pngs_mp4(analysis_folder, camera, img_dims):\n"
   ]
  }
 ],
 "metadata": {
  "kernelspec": {
   "display_name": "Python 3",
   "language": "python",
   "name": "python3"
  },
  "language_info": {
   "codemirror_mode": {
    "name": "ipython",
    "version": 3
   },
   "file_extension": ".py",
   "mimetype": "text/x-python",
   "name": "python",
   "nbconvert_exporter": "python",
   "pygments_lexer": "ipython3",
   "version": "3.7.4"
  }
 },
 "nbformat": 4,
 "nbformat_minor": 4
}

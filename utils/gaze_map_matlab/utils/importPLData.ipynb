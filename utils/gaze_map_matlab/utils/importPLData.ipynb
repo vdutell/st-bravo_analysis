{
 "cells": [
  {
   "cell_type": "markdown",
   "metadata": {},
   "source": [
    "### Import pldata and export csv example\n",
    "\n",
    "This notebook shows how to load pupil data in pldata format, separate each eye and export them in csv\n"
   ]
  },
  {
   "cell_type": "code",
   "execution_count": 27,
   "metadata": {},
   "outputs": [],
   "source": [
    "import externals.file_methods as fm\n",
    "import pandas as pd"
   ]
  },
  {
   "cell_type": "code",
   "execution_count": 17,
   "metadata": {},
   "outputs": [],
   "source": [
    "folder_test = 'F:/PROJECTS/NATURAL_DISPARITY_STAT_3/PUPIL_LABS/CALIBRATION/PUPILLABS_TEST/DATA/001'"
   ]
  },
  {
   "cell_type": "code",
   "execution_count": 151,
   "metadata": {},
   "outputs": [],
   "source": [
    "gaze = fm.load_pldata_file(folder_test, \"pupil\")\n",
    "DATA = pd.DataFrame([dict(d) for d in gaze.data])"
   ]
  },
  {
   "cell_type": "code",
   "execution_count": 223,
   "metadata": {},
   "outputs": [],
   "source": [
    "## TIMESTAMP\n",
    "time =  DATA.timestamp\n",
    "TIME = [t for t in time]\n",
    "\n",
    "## CONFIDENCE\n",
    "conf =  DATA.confidence\n",
    "CONF = [c for c in conf]\n",
    "\n",
    "## ELLIPSE\n",
    "ell = DATA.ellipse\n",
    "\n",
    "CNTR = [e['center'] for e in ell]\n",
    "\n",
    "X0 = [c[0] for c in CNTR]\n",
    "Y0 = [c[1] for c in CNTR]\n",
    "\n",
    "AXES = [e['axes'] for e in ell]\n",
    "AX = [a[0] for a in AXES]\n",
    "AY = [a[1] for a in AXES]\n",
    "\n",
    "THETA =  [t['angle'] for t in ell]\n",
    "\n",
    "## ID\n",
    "id =  DATA.id\n",
    "ID = [i for i in id]"
   ]
  },
  {
   "cell_type": "code",
   "execution_count": 254,
   "metadata": {},
   "outputs": [],
   "source": [
    "## SPLIT EYES\n",
    "count0 = 0\n",
    "count1 = 0\n",
    "\n",
    "time0 = []\n",
    "time1 = []\n",
    "\n",
    "conf0 = []\n",
    "conf1 = []\n",
    "\n",
    "x0_0 = []\n",
    "x0_1 = []\n",
    "y0_0 = []\n",
    "y0_1 = []\n",
    "\n",
    "ax0 = []\n",
    "ax1 = []\n",
    "ay0 = []\n",
    "ay1 = []\n",
    "\n",
    "theta0 = []\n",
    "theta1 = []\n",
    "\n",
    "for n in range(len(TIME)):\n",
    "    if ID[n] == 0:\n",
    "        time0.append(TIME[n])\n",
    "        conf0.append(CONF[n])\n",
    "        x0_0.append(X0[n])\n",
    "        y0_0.append(Y0[n])\n",
    "        ax0.append(AX[n])\n",
    "        ay0.append(AY[n])\n",
    "        theta0.append(THETA[n])\n",
    "        count0 = count0 + 1\n",
    "    if ID[n] == 1:\n",
    "        time1.append(TIME[n])\n",
    "        conf1.append(CONF[n])\n",
    "        x0_1.append(X0[n])\n",
    "        y0_1.append(Y0[n])\n",
    "        ax1.append(AX[n])\n",
    "        ay1.append(AY[n])\n",
    "        theta1.append(THETA[n])\n",
    "        count1 = count1 + 1\n"
   ]
  },
  {
   "cell_type": "code",
   "execution_count": 258,
   "metadata": {},
   "outputs": [],
   "source": [
    "## EYE 0 \n",
    "EYE0 = {'TIME': time0,'X0': x0_0,'Y0': y0_0,'AX': ax0,'AY': ay0,'THETA': theta0,'CONF': conf0}\n",
    "eye0 = pd.DataFrame(EYE0)\n",
    "\n",
    "## EYE 1 \n",
    "EYE1 = {'TIME': time1,'X0': x0_1,'Y0': y0_1,'AX': ax1,'AY': ay1,'THETA': theta1,'CONF': conf1}\n",
    "eye1 = pd.DataFrame(EYE1)"
   ]
  },
  {
   "cell_type": "code",
   "execution_count": 259,
   "metadata": {},
   "outputs": [],
   "source": [
    "## WRITE TO CSV\n",
    "eye0.to_csv(folder_test + '/pupil_0.csv', index = True, header=True)\n",
    "\n",
    "eye1.to_csv(folder_test + '/pupil_1.csv', index = True, header=True)"
   ]
  }
 ],
 "metadata": {
  "kernelspec": {
   "display_name": "Python 3",
   "language": "python",
   "name": "python3"
  },
  "language_info": {
   "codemirror_mode": {
    "name": "ipython",
    "version": 3
   },
   "file_extension": ".py",
   "mimetype": "text/x-python",
   "name": "python",
   "nbconvert_exporter": "python",
   "pygments_lexer": "ipython3",
   "version": "3.7.9"
  }
 },
 "nbformat": 4,
 "nbformat_minor": 4
}

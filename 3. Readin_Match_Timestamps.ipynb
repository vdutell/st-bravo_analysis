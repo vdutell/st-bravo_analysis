{
 "cells": [
  {
   "cell_type": "markdown",
   "metadata": {},
   "source": [
    "# Readin Timestamps and Match to a Common Timeframe\n",
    "\n",
    "Because both the camera and eye trackers are in free-run mode rather than triggered, we have to match the timestamps between the multiple collection devices post-hoc.  This involves first converting their timestamps from internal device time to Unix time. Next, we create a common timestamp set that is uniformly measured in time. Finally, we match each device time to its nearest common timestamp time, repeating a frame in the case of dropped frames. \n"
   ]
  },
  {
   "cell_type": "markdown",
   "metadata": {},
   "source": [
    "## Dependencies"
   ]
  },
  {
   "cell_type": "code",
   "execution_count": 2,
   "metadata": {},
   "outputs": [],
   "source": [
    "import os, stat\n",
    "import numpy as np\n",
    "#import utils.run_analysis as ana\n",
    "import matplotlib.pyplot as plt\n",
    "import datatable as dt"
   ]
  },
  {
   "cell_type": "markdown",
   "metadata": {},
   "source": [
    "## Parameters"
   ]
  },
  {
   "cell_type": "code",
   "execution_count": 3,
   "metadata": {},
   "outputs": [],
   "source": [
    "base_dir = '/hmet_data'\n",
    "data_dir = os.path.join(base_dir, 'raw_data')\n",
    "output_dir = os.path.join(base_dir, 'analysis')\n",
    "target_fps = 200\n",
    "cmethod = '3d_mono' #calibration method using 2d or 1d, also monocular or binoru"
   ]
  },
  {
   "cell_type": "markdown",
   "metadata": {},
   "source": [
    "## Specify Directories for Exmaple"
   ]
  },
  {
   "cell_type": "code",
   "execution_count": 4,
   "metadata": {},
   "outputs": [],
   "source": [
    "subject = 'ag'\n",
    "trial = 'phone'\n",
    "iteration='1'\n",
    "trial_directory = os.path.join(data_dir, trial, subject, iteration)\n",
    "analysis_folder = os.path.join(output_dir, trial, subject, iteration)\n",
    "\n",
    "#ximea (scene cameras)\n",
    "ximea_timestamp_file = os.path.join(analysis_folder, f'timestamps_ximea.tsv')\n",
    "ximea_timesync_file = os.path.join(analysis_folder, f'timestamp_camsync_ximea.tsv')\n",
    "\n",
    "#pupil (eye cameras)\n",
    "#pupil_timestamp_file = os.path.join(trial_directory, 'eye_camera','000', 'pupil_timestamps.npy')\n",
    "#pupil_timestamp_file = os.path.join(trial_directory, 'eye_camera','000','exports','000','pupil_positions.csv')\n",
    "#pupil_annotations_file = os.path.join(analysis_folder, 'eye_camera','000', 'annotation_timestamps.npy')\n",
    "#pupil_timestamp_file = os.path.join(analysis_folder, 'exports',f'pupil_positions_{cmethod}.csv')\n",
    "#pupil_timestamp_file = os.path.join(analysis_folder, 'exports',f'gaze_positions_{cmethod}.csv')\n"
   ]
  },
  {
   "cell_type": "markdown",
   "metadata": {},
   "source": [
    "## Convert to unified wall clock time\n",
    "\n",
    "Ximea cameras collect in camera time. We need to sync this to Unix time"
   ]
  },
  {
   "cell_type": "code",
   "execution_count": 10,
   "metadata": {},
   "outputs": [],
   "source": [
    "def convert_ximea_time_to_unix_time(timestamp_file, sync_file):\n",
    "    '''\n",
    "    Convert the ximea camera times to unix timestamps\n",
    "    Params:\n",
    "        timestamp_file (str): path to .csv file with ximea timesstamps\n",
    "        sync_file (str): path to .csv file with sync information\n",
    "    Returns:\n",
    "        unix_timestamp_array (2d np array): Unix Timestamps Inferred\n",
    "    '''\n",
    "    with open(timestamp_file, 'r') as f:\n",
    "        ts_table=list(zip(line.strip().split('\\t') for line in f))\n",
    "    ts_table = np.squeeze(np.array(ts_table[1:]).astype(np.double))\n",
    "\n",
    "    with open(sync_file, 'r') as f:\n",
    "        sync_table=list(zip(line.strip().split('\\t') for line in f))\n",
    "        \n",
    "    (unix_pre, cam_pre, _) = np.array(sync_table[1][0][1:]).astype(np.double)\n",
    "    (unix_post, cam_post, _) = np.array(sync_table[2][0][1:]).astype(np.double)\n",
    "\n",
    "    #how far off have the computer and camera timestamps drifted?\n",
    "    t_elapsed_unix = np.double(unix_post) - np.double(unix_pre)\n",
    "    t_elapsed_cam = np.double(cam_post) - np.double(cam_pre)\n",
    "    drift = np.abs(t_elapsed_unix - t_elapsed_cam)\n",
    "    print(f'Time Elapsed: {t_elapsed_unix} seconds')\n",
    "    print(f'Time Drift pre to post: {drift} seconds')\n",
    "    \n",
    "    # We assume here that time.time() in Linux's 0.001s precision is better than camera's.\n",
    "    # Convert Camera timestamps to Unix timestamps.\n",
    "    #first convert to [0,1]\n",
    "    t_cam_converted = (ts_table[:,2] - cam_pre) / (cam_post - cam_pre)\n",
    "    #then convert to wall time\n",
    "    t_cam_converted = (t_cam_converted * (unix_post - unix_pre)) + unix_pre\n",
    "    \n",
    "    #assume time in camera is linear, and just change offset at pre.\n",
    "    #t_cam_converted = ts_table[:,2] - ts_table[0,2] + unix_pre\n",
    "    \n",
    "    print(f'Start at {t_cam_converted[0]}, end at {t_cam_converted[-1]}')\n",
    "    \n",
    "    #dont add unix time to data, just send unix times\n",
    "    t_cam_converted = np.append(ts_table, np.expand_dims(t_cam_converted,1),axis=1)\n",
    "    \n",
    "    return(t_cam_converted)"
   ]
  },
  {
   "cell_type": "code",
   "execution_count": 6,
   "metadata": {},
   "outputs": [
    {
     "name": "stdout",
     "output_type": "stream",
     "text": [
      "Time Elapsed: 91.37102216599988 seconds\n",
      "Time Drift pre to post: 0.009754682000220782 seconds\n",
      "Start at 2807.7722497216096, end at 2899.147620575348\n"
     ]
    }
   ],
   "source": [
    "ximea_timestamps = convert_ximea_time_to_unix_time(ximea_timestamp_file, ximea_timesync_file)\n",
    "\n",
    "ximea_timestamp_converted_path = os.path.join(analysis_folder,f'timestamps_converted.tsv')\n",
    "\n",
    "#np.savetxt(od_ximea_timestamp_converted_path, od_ximea_timestamps, fmt='%10.5f', delimiter='\\t')\n",
    "np.savetxt(ximea_timestamp_converted_path, ximea_timestamps, fmt='%10.5f', delimiter='\\t')"
   ]
  },
  {
   "cell_type": "code",
   "execution_count": 9,
   "metadata": {},
   "outputs": [
    {
     "data": {
      "text/plain": [
       "array([[0.00000000e+00, 5.40466000e+05, 2.82735503e+03, 2.80777225e+03],\n",
       "       [1.00000000e+00, 5.40467000e+05, 2.82736003e+03, 2.80777725e+03],\n",
       "       [2.00000000e+00, 5.40468000e+05, 2.82736503e+03, 2.80778225e+03],\n",
       "       ...,\n",
       "       [1.82760000e+04, 5.58742000e+05, 2.91873016e+03, 2.89913762e+03],\n",
       "       [1.82770000e+04, 5.58743000e+05, 2.91873516e+03, 2.89914262e+03],\n",
       "       [1.82780000e+04, 5.58744000e+05, 2.91874016e+03, 2.89914762e+03]])"
      ]
     },
     "execution_count": 9,
     "metadata": {},
     "output_type": "execute_result"
    }
   ],
   "source": [
    "ximea_timestamps"
   ]
  },
  {
   "cell_type": "markdown",
   "metadata": {},
   "source": [
    "## Get Pupil Labs Worldcam Calibrated Data\n",
    "\n",
    "Use Converted Pupil Labs Data Structure. This gaze data has been aligned in world cam (Realsense) coordinates. To do this, after recording, drag the pupil labs folder ('000') into pupilplayer, then export. This wil create a few new files in the 000 folder, as well as an 'exports' folder with these converted files inside.   \n",
    "\n",
    "The generated 'pupil_gaze_positions.txt' file contains a wealth of information explaining the generated files and how to interpret them.  \n",
    "\n",
    "Specifically, for the 'norm_position_x' and y, we need to map the coordinate system to world camera coordinates.\n",
    "\"We use a normalized coordinate system with the origin 0,0 at the bottom left and 1,1 at the top right\""
   ]
  },
  {
   "cell_type": "code",
   "execution_count": 7,
   "metadata": {},
   "outputs": [],
   "source": [
    "#create dummy pupil data as standin until calibration is completed\n",
    "#do this for line 0\n",
    "\n",
    "#create dummy eye postition data & timestamps\n",
    "tstart = 2807.772 - 2 #manually for line 0\n",
    "tend = 2899.148 + 2 #manually for line 0\n",
    "nsamples = int(200*(tend-tstart))\n",
    "data_cols = 'frame_num,x_pixel_left,y_pixel_left,x_pixel_right,y_pixel_right'\n",
    "tstamp_cols = 'frame,unix_timestamp'\n",
    "framenums = np.arange(0,nsamples)\n",
    "timestamps = np.linspace(tstart, tend, nsamples)\n",
    "pdata_timestamps_dummy = np.array((framenums,timestamps)).T\n",
    "xpixels_left = np.random.randint(low=0,high=1544,size=(nsamples))\n",
    "ypixels_left = np.random.randint(low=0,high=2064,size=(nsamples))\n",
    "xpixels_right = np.random.randint(low=0,high=1544,size=(nsamples))\n",
    "ypixels_right = np.random.randint(low=0,high=2064,size=(nsamples))\n",
    "pdata_calib_dummy = np.array((framenums,xpixels_left,ypixels_left, xpixels_right, ypixels_right)).T\n",
    "pupil_dummy_calibrated_data_fname = os.path.join(analysis_folder, \"pupil_data_calibrated.csv\")\n",
    "pupil_dummy_timetamps_fname = os.path.join(analysis_folder, \"pupil_timestamps.csv\")\n",
    "\n",
    "#save data file\n",
    "np.savetxt(pupil_dummy_calibrated_data_fname, pdata_calib_dummy, header=data_cols,delimiter=',',fmt='%i')\n",
    "#np.loadtxt(pupil_dummy_calibrated_data_fname, delimiter=',',skiprows=0)\n",
    "#save timestamps file\n",
    "np.savetxt(pupil_dummy_timetamps_fname, pdata_timestamps_dummy, header=tstamp_cols,delimiter=',',fmt='%f')\n",
    "#np.loadtxt(pupil_dummy_timetamps_fname, delimiter=',',skiprows=0)\n"
   ]
  },
  {
   "cell_type": "code",
   "execution_count": 8,
   "metadata": {},
   "outputs": [
    {
     "name": "stdout",
     "output_type": "stream",
     "text": [
      "/hmet_data/analysis/phone/ag/1/pupil_timestamps.csv\n"
     ]
    }
   ],
   "source": [
    "print(pupil_dummy_timetamps_fname)\n",
    "#np.loadtxt(pupil_dummy_timetamps_fname, delimiter=',',skiprows=0)"
   ]
  },
  {
   "cell_type": "code",
   "execution_count": 25,
   "metadata": {},
   "outputs": [],
   "source": [
    "if(subject=='buddy'):\n",
    "    pass\n",
    "elif(cmethod in ['3d_mono','2d_mono']):\n",
    "    pupil_positions = dt.fread(pupil_timestamp_file)\n",
    "    pupil_positions = pupil_positions[:,[0,1,2,3,4]]\n",
    "    pupil_positions[:5,:]\n",
    "    pupil_eye_0 = np.array(pupil_positions)[np.where(np.array(pupil_positions)[:,2]==0)[0],:]\n",
    "    pupil_eye_1 = pupil_eye_0\n",
    "\n",
    "\n",
    "else:\n",
    "    pupil_positions = dt.fread(pupil_timestamp_file)\n",
    "    pupil_positions = pupil_positions[:,[0,1,2,3,5]]\n",
    "    pupil_positions[:5,:]\n",
    "    \n",
    "    pupil_eye_0 = np.array(pupil_positions)[np.where(np.array(pupil_positions)[:,2]==0)[0],:]\n",
    "    #pupil_eye_1 = np.array(pupil_positions)[np.where(np.array(pupil_positions)[:,2]==1)[0],:]"
   ]
  },
  {
   "cell_type": "code",
   "execution_count": 26,
   "metadata": {},
   "outputs": [
    {
     "data": {
      "text/html": [
       "<div class='datatable'>\n",
       "  <table class='frame'>\n",
       "  <thead>\n",
       "    <tr class='colnames'><td class='row_index'></td><th>pupil_timestamp</th><th>world_index</th><th>eye_id</th><th>confidence</th><th>norm_pos_x</th></tr>\n",
       "    <tr class='coltypes'><td class='row_index'></td><td class='real' title='float64'>&#x25AA;&#x25AA;&#x25AA;&#x25AA;&#x25AA;&#x25AA;&#x25AA;&#x25AA;</td><td class='int' title='int32'>&#x25AA;&#x25AA;&#x25AA;&#x25AA;</td><td class='bool' title='bool8'>&#x25AA;</td><td class='real' title='float64'>&#x25AA;&#x25AA;&#x25AA;&#x25AA;&#x25AA;&#x25AA;&#x25AA;&#x25AA;</td><td class='real' title='float64'>&#x25AA;&#x25AA;&#x25AA;&#x25AA;&#x25AA;&#x25AA;&#x25AA;&#x25AA;</td></tr>\n",
       "  </thead>\n",
       "  <tbody>\n",
       "    <tr><td class='row_index'>0</td><td>1.57552e+09</td><td>1</td><td>1</td><td>1</td><td>0.295251</td></tr>\n",
       "    <tr><td class='row_index'>1</td><td>1.57552e+09</td><td>1</td><td>0</td><td>0.868549</td><td>0.473657</td></tr>\n",
       "    <tr><td class='row_index'>2</td><td>1.57552e+09</td><td>2</td><td>1</td><td>1</td><td>0.295482</td></tr>\n",
       "    <tr><td class='row_index'>3</td><td>1.57552e+09</td><td>2</td><td>0</td><td>0.906568</td><td>0.473232</td></tr>\n",
       "    <tr><td class='row_index'>4</td><td>1.57552e+09</td><td>3</td><td>1</td><td>1</td><td>0.295284</td></tr>\n",
       "  </tbody>\n",
       "  </table>\n",
       "  <div class='footer'>\n",
       "    <div class='frame_dimensions'>5 rows &times; 5 columns</div>\n",
       "  </div>\n",
       "</div>\n"
      ],
      "text/plain": []
     },
     "execution_count": 26,
     "metadata": {},
     "output_type": "execute_result"
    }
   ],
   "source": [
    "pupil_positions[:5,:]"
   ]
  },
  {
   "cell_type": "code",
   "execution_count": 27,
   "metadata": {},
   "outputs": [
    {
     "data": {
      "text/html": [
       "<div class='datatable'>\n",
       "  <table class='frame'>\n",
       "  <thead>\n",
       "    <tr class='colnames'><td class='row_index'></td><th>pupil_timestamp</th><th>world_index</th><th>eye_id</th><th>confidence</th><th>norm_pos_x</th></tr>\n",
       "    <tr class='coltypes'><td class='row_index'></td><td class='real' title='float64'>&#x25AA;&#x25AA;&#x25AA;&#x25AA;&#x25AA;&#x25AA;&#x25AA;&#x25AA;</td><td class='int' title='int32'>&#x25AA;&#x25AA;&#x25AA;&#x25AA;</td><td class='bool' title='bool8'>&#x25AA;</td><td class='real' title='float64'>&#x25AA;&#x25AA;&#x25AA;&#x25AA;&#x25AA;&#x25AA;&#x25AA;&#x25AA;</td><td class='real' title='float64'>&#x25AA;&#x25AA;&#x25AA;&#x25AA;&#x25AA;&#x25AA;&#x25AA;&#x25AA;</td></tr>\n",
       "  </thead>\n",
       "  <tbody>\n",
       "    <tr><td class='row_index'>0</td><td>1.57552e+09</td><td>34014</td><td>0</td><td>0.998458</td><td>0.246063</td></tr>\n",
       "    <tr><td class='row_index'>1</td><td>1.57552e+09</td><td>34015</td><td>0</td><td>0.998419</td><td>0.245001</td></tr>\n",
       "    <tr><td class='row_index'>2</td><td>1.57552e+09</td><td>34016</td><td>0</td><td>0.988205</td><td>0.243966</td></tr>\n",
       "    <tr><td class='row_index'>3</td><td>1.57552e+09</td><td>34017</td><td>0</td><td>0.98389</td><td>0.244337</td></tr>\n",
       "    <tr><td class='row_index'>4</td><td>1.57552e+09</td><td>34018</td><td>0</td><td>0.981173</td><td>0.244115</td></tr>\n",
       "  </tbody>\n",
       "  </table>\n",
       "  <div class='footer'>\n",
       "    <div class='frame_dimensions'>5 rows &times; 5 columns</div>\n",
       "  </div>\n",
       "</div>\n"
      ],
      "text/plain": []
     },
     "execution_count": 27,
     "metadata": {},
     "output_type": "execute_result"
    }
   ],
   "source": [
    "pupil_positions[-5:,:]"
   ]
  },
  {
   "cell_type": "code",
   "execution_count": 28,
   "metadata": {},
   "outputs": [],
   "source": [
    "with open(ximea_timestamp_converted_path, 'r') as f:\n",
    "    timestamps_ximea = list(zip(line.strip().split('\\t') for line in f))\n",
    "    timestamps_ximea = np.squeeze(np.array(timestamps_ximea[1:]).astype('float'))\n",
    "    timestamps_ximea = timestamps_ximea[:,-1]\n"
   ]
  },
  {
   "cell_type": "code",
   "execution_count": 29,
   "metadata": {},
   "outputs": [
    {
     "data": {
      "text/plain": [
       "[<matplotlib.lines.Line2D at 0x7f7f1c5d6d90>]"
      ]
     },
     "execution_count": 29,
     "metadata": {},
     "output_type": "execute_result"
    },
    {
     "data": {
      "image/png": "[encoded data removed]",
      "text/plain": [
       "<Figure size 432x288 with 1 Axes>"
      ]
     },
     "metadata": {
      "needs_background": "light"
     },
     "output_type": "display_data"
    }
   ],
   "source": [
    "plt.plot(np.array(pupil_positions[:,0]))\n",
    "plt.plot(timestamps_ximea)"
   ]
  },
  {
   "cell_type": "code",
   "execution_count": 30,
   "metadata": {},
   "outputs": [
    {
     "data": {
      "text/plain": [
       "array([[1.57551625e+09, 1.00000000e+00, 0.00000000e+00, 8.68548902e-01,\n",
       "        4.73656820e-01],\n",
       "       [1.57551625e+09, 2.00000000e+00, 0.00000000e+00, 9.06568146e-01,\n",
       "        4.73232255e-01],\n",
       "       [1.57551625e+09, 3.00000000e+00, 0.00000000e+00, 9.41037544e-01,\n",
       "        4.73489696e-01],\n",
       "       [1.57551625e+09, 4.00000000e+00, 0.00000000e+00, 9.26173825e-01,\n",
       "        4.73335359e-01],\n",
       "       [1.57551625e+09, 5.00000000e+00, 0.00000000e+00, 8.13883440e-01,\n",
       "        4.73161481e-01]])"
      ]
     },
     "execution_count": 30,
     "metadata": {},
     "output_type": "execute_result"
    }
   ],
   "source": [
    "pupil_eye_0[:5,:]"
   ]
  },
  {
   "cell_type": "markdown",
   "metadata": {},
   "source": [
    "## How Many Frames Were Lost/Skipped?"
   ]
  },
  {
   "cell_type": "code",
   "execution_count": 12,
   "metadata": {},
   "outputs": [],
   "source": [
    "subject='buddy'"
   ]
  },
  {
   "cell_type": "code",
   "execution_count": 13,
   "metadata": {},
   "outputs": [
    {
     "data": {
      "text/plain": [
       "<matplotlib.legend.Legend at 0x7f4f649a9c50>"
      ]
     },
     "execution_count": 13,
     "metadata": {},
     "output_type": "execute_result"
    },
    {
     "data": {
      "image/png": "[encoded data removed]",
      "text/plain": [
       "<Figure size 576x576 with 1 Axes>"
      ]
     },
     "metadata": {
      "needs_background": "light"
     },
     "output_type": "display_data"
    }
   ],
   "source": [
    "if(subject=='buddy'):\n",
    "    pass\n",
    "else:\n",
    "    pupil_num='000'\n",
    "\n",
    "    pupil_ts_eye0 = pupil_eye_0[:,0]\n",
    "    pupil_ts_eye1 = pupil_eye_1[:,0]\n",
    "\n",
    "    #pupil_ts_gaze = np.load(os.path.join(pupil_save_dir_name, pupil_num, 'gaze_timestamps.npy'))\n",
    "    #pupil_ts_eye0 = np.load(os.path.join(pupil_save_dir_name, pupil_num, 'eye0_timestamps.npy'))\n",
    "    #pupil_ts_eye1 = np.load(os.path.join(pupil_save_dir_name, pupil_num, 'eye1_timestamps.npy'))\n",
    "    pupil_annotations = np.load(pupil_annotations_file)\n",
    "\n",
    "#ximea timestamps\n",
    "with open(ximea_timestamp_converted_path, 'r') as f:\n",
    "    timestamps_ximea = list(zip(line.strip().split('\\t') for line in f))\n",
    "    timestamps_ximea = np.squeeze(np.array(timestamps_ximea[1:]).astype('float'))\n",
    "    timestamps_ximea = timestamps_ximea[:,-1]\n",
    "\n",
    "linear_ximea = np.arange(0,len(timestamps_ximea)*0.005, 0.005)+timestamps_ximea[0]\n",
    "\n",
    "if(subject=='buddy'):\n",
    "    pass\n",
    "else:\n",
    "    linear_pupil = np.arange(0, len(timestamps_ximea)*0.005, 0.005)+pupil_ts_eye0[0]\n",
    "\n",
    "plt.figure(figsize=(8,8))\n",
    "plt.plot(timestamps_ximea, label='ximea')\n",
    "plt.plot(linear_ximea, label='linear_ximea')\n",
    "if(subject=='buddy'):\n",
    "    pass\n",
    "else:\n",
    "    plt.plot(pupil_ts_eye0, label='pupil_eye0')\n",
    "    #plt.plot(pupil_ts_eye1, label='pupil_eye1')\n",
    "    #plt.plot(pupil_ts_gaze, label='gaze')\n",
    "    # plt.plot(pupil_ts_eye0, label='vid_eye0')\n",
    "    # plt.plot(pupil_ts_eye1, label='vid_eye1')\n",
    "    plt.plot(linear_pupil, label='linear_pupil')\n",
    "\n",
    "    [plt.axhline(pupil_annotations[i], label='trial_marker') for i in range(len(pupil_annotations))]\n",
    "    #plt.axhline(pupil_annotations[1], label='trial_marker')\n",
    "\n",
    "plt.legend()\n",
    "plt.xlabel('Frame Number')\n",
    "plt.ylabel('Timestamp')\n",
    "plt.title('Timestamp Lag')\n",
    "plt.legend()"
   ]
  },
  {
   "cell_type": "code",
   "execution_count": 32,
   "metadata": {},
   "outputs": [
    {
     "name": "stdout",
     "output_type": "stream",
     "text": [
      "1575516245.4839168 1575516225.61644 1575516245.4836128\n",
      "1575516428.9683037 1575516417.81224 0.2952511230348283\n"
     ]
    }
   ],
   "source": [
    "print(pupil_eye_0[0,0], timestamps_ximea[0], pupil_positions[0,0])\n",
    "print(pupil_eye_0[-1,0], timestamps_ximea[-1], pupil_positions[0,-1])"
   ]
  },
  {
   "cell_type": "markdown",
   "metadata": {},
   "source": [
    "We've lost a decent number of ximea frames, but pupil looks pretty good. Lets ID where the missing frames are first."
   ]
  },
  {
   "cell_type": "code",
   "execution_count": 33,
   "metadata": {},
   "outputs": [
    {
     "name": "stdout",
     "output_type": "stream",
     "text": [
      "Percentage Frames Dropped: 0.0037186154448358775\n"
     ]
    }
   ],
   "source": [
    "d_t = timestamps_ximea[1:] - timestamps_ximea[:-1]\n",
    "pfl = len(d_t[d_t >= 0.01])/len(d_t)\n",
    "print(f'Percentage Frames Dropped: {pfl}')"
   ]
  },
  {
   "cell_type": "markdown",
   "metadata": {},
   "source": [
    "## Task Marking\n",
    "\n",
    "*** FOR THIS PRELIMINARY DATA WHICH HAS NO TASK END MARKER ONLY ***   \n",
    "*** When we move to a second calibration AFTER the task, need to change this code ***\n",
    "\n",
    "The LAST pupil annotation should be the beginning of the task, and all data AFTER that is task data. Mark it as such."
   ]
  },
  {
   "cell_type": "code",
   "execution_count": 18,
   "metadata": {},
   "outputs": [],
   "source": [
    "if(subject == 'buddy'):\n",
    "    start_task_time = timestamps_ximea[0]\n",
    "    end_task_time = timestamps_ximea[-1]\n",
    "# elif(trial == 'cell_phone_1'):\n",
    "#     start_task_time = pupil_annotations[-2]\n",
    "#     end_task_time = pupil_annotations[-1]\n",
    "else:\n",
    "    start_task_time = pupil_annotations[-1]\n",
    "    end_task_time = timestamps_ximea[-1]"
   ]
  },
  {
   "cell_type": "markdown",
   "metadata": {},
   "source": [
    "## Create Non-Lossy Timeframe & Assign Pupil & Ximea Frames to it\n",
    "For now, frame numbers are simply repeated if there is a frame drop. This seems better than interpolating an image, but will ask Bruno about this"
   ]
  },
  {
   "cell_type": "code",
   "execution_count": 14,
   "metadata": {},
   "outputs": [],
   "source": [
    "if(subject == 'buddy'):\n",
    "    start_timestamp = timestamps_ximea[0]\n",
    "    end_timestamp = timestamps_ximea[-1]\n",
    "else:\n",
    "    start_timestamp = np.max((timestamps_ximea[0], pupil_ts_eye0[0], pupil_ts_eye1[0]))\n",
    "    end_timestamp = np.min((timestamps_ximea[-1], pupil_ts_eye0[-1], pupil_ts_eye1[-1]))\n",
    "common_timeline = np.arange(start_timestamp, end_timestamp, 1./target_fps)"
   ]
  },
  {
   "cell_type": "code",
   "execution_count": 15,
   "metadata": {},
   "outputs": [
    {
     "data": {
      "text/plain": [
       "24650"
      ]
     },
     "execution_count": 15,
     "metadata": {},
     "output_type": "execute_result"
    }
   ],
   "source": [
    "len(timestamps_ximea)"
   ]
  },
  {
   "cell_type": "code",
   "execution_count": 16,
   "metadata": {},
   "outputs": [
    {
     "data": {
      "text/plain": [
       "24645"
      ]
     },
     "execution_count": 16,
     "metadata": {},
     "output_type": "execute_result"
    }
   ],
   "source": [
    "len(common_timeline)"
   ]
  },
  {
   "cell_type": "code",
   "execution_count": 19,
   "metadata": {},
   "outputs": [],
   "source": [
    "ximea_common_timeline_match = np.zeros_like(common_timeline)\n",
    "pupil_eye0_common_timeline_match = np.zeros_like(common_timeline)\n",
    "pupil_eye1_common_timeline_match = np.zeros_like(common_timeline)\n",
    "during_calibration = np.zeros_like(common_timeline)\n",
    "during_task = np.zeros_like(common_timeline)\n",
    "\n",
    "for i, t in enumerate(common_timeline):\n",
    "    ximea_common_timeline_match[i] = np.argmin(np.abs(timestamps_ximea - t))\n",
    "    if((t > start_task_time) and (t < end_task_time)):\n",
    "        during_task[i] = 1\n",
    "    if(subject!='buddy'):   \n",
    "        pupil_eye0_common_timeline_match[i] = np.argmin(np.abs(pupil_ts_eye0 - t))\n",
    "        pupil_eye1_common_timeline_match[i] = np.argmin(np.abs(pupil_ts_eye1 - t))\n",
    "    #mark calibration later\n",
    "        #during_calibration"
   ]
  },
  {
   "cell_type": "code",
   "execution_count": 20,
   "metadata": {},
   "outputs": [
    {
     "name": "stdout",
     "output_type": "stream",
     "text": [
      "123.22 Seconds of Task\n"
     ]
    }
   ],
   "source": [
    "nframes = len(np.where(during_task ==1)[0])\n",
    "print(f'{nframes/target_fps} Seconds of Task')"
   ]
  },
  {
   "cell_type": "markdown",
   "metadata": {},
   "source": [
    "## Save Timeframe and Marks for Later Use\n",
    "\n",
    "Our new timeline can be used to align pupil labs data to our camera data and create movies for spatiotemporal analysis!"
   ]
  },
  {
   "cell_type": "code",
   "execution_count": 21,
   "metadata": {},
   "outputs": [],
   "source": [
    "if(subject=='buddy'):\n",
    "    common_timeline_table = np.array((common_timeline, ximea_common_timeline_match, during_task, during_calibration)).T\n",
    "    common_timeline_table_colnames = 'common_timeline\\tximea_frame\\tduring_task\\tduring_calibration'\n",
    "else:\n",
    "    common_timeline_table = np.array((common_timeline, ximea_common_timeline_match, pupil_eye0_common_timeline_match, pupil_eye1_common_timeline_match, during_task, during_calibration)).T\n",
    "    common_timeline_table_colnames = 'common_timeline\\tximea_frame\\tpupil_eye0_frame\\tpupil_eye1_frame\\tduring_task\\tduring_calibration'\n",
    "    \n",
    "common_timeline_file_human = os.path.join(analysis_folder,f'common_timeline_{cmethod}.tsv')\n",
    "np.savetxt(common_timeline_file_human, common_timeline_table, delimiter='\\t', header=common_timeline_table_colnames)\n",
    "common_timeline_file = os.path.join(analysis_folder,f'common_timeline{cmethod}.npy')\n",
    "np.save(common_timeline_file, common_timeline_table)"
   ]
  },
  {
   "cell_type": "code",
   "execution_count": 22,
   "metadata": {},
   "outputs": [
    {
     "data": {
      "text/plain": [
       "'/hmet_data/analysis/book/ag/1/common_timeline3d_mono.npy'"
      ]
     },
     "execution_count": 22,
     "metadata": {},
     "output_type": "execute_result"
    }
   ],
   "source": [
    "common_timeline_file"
   ]
  },
  {
   "cell_type": "markdown",
   "metadata": {},
   "source": [
    "## Run Script on All Trials\n",
    "\n",
    "I put all the code in a nice script! Run this script on all our trials to create respective timestamps for each"
   ]
  },
  {
   "cell_type": "code",
   "execution_count": 42,
   "metadata": {},
   "outputs": [
    {
     "name": "stdout",
     "output_type": "stream",
     "text": [
      "*\n",
      "Folder /data_repo/bravo/analysis/buddy/chat_1/ Already Made!\n",
      "Time Elapsed: 60.658884048461914 seconds\n",
      "Time Drift pre to post: 0.012878471538101621 seconds\n",
      "Start at 1575571432.7209806, end at 1575571491.6346958\n"
     ]
    },
    {
     "ename": "ValueError",
     "evalue": "File /data_repo/bravo/raw_data/buddy/chat_1/pre`/eye_camera/000/exports/000/pupil_positions.csv` does not exist",
     "output_type": "error",
     "traceback": [
      "\u001b[0;31m---------------------------------------------------------------------------\u001b[0m",
      "\u001b[0;31mValueError\u001b[0m                                Traceback (most recent call last)",
      "\u001b[0;32m<ipython-input-42-1835835a220d>\u001b[0m in \u001b[0;36m<module>\u001b[0;34m\u001b[0m\n\u001b[1;32m     14\u001b[0m     \u001b[0mprint\u001b[0m\u001b[0;34m(\u001b[0m\u001b[0;34m'*'\u001b[0m\u001b[0;34m)\u001b[0m\u001b[0;34m\u001b[0m\u001b[0;34m\u001b[0m\u001b[0m\n\u001b[1;32m     15\u001b[0m     \u001b[0;32mif\u001b[0m\u001b[0;34m(\u001b[0m\u001b[0mos\u001b[0m\u001b[0;34m.\u001b[0m\u001b[0mpath\u001b[0m\u001b[0;34m.\u001b[0m\u001b[0misdir\u001b[0m\u001b[0;34m(\u001b[0m\u001b[0mos\u001b[0m\u001b[0;34m.\u001b[0m\u001b[0mpath\u001b[0m\u001b[0;34m.\u001b[0m\u001b[0mjoin\u001b[0m\u001b[0;34m(\u001b[0m\u001b[0mbase_dir\u001b[0m\u001b[0;34m,\u001b[0m\u001b[0;34m'raw_data'\u001b[0m\u001b[0;34m,\u001b[0m \u001b[0msubject\u001b[0m\u001b[0;34m,\u001b[0m \u001b[0mtrial\u001b[0m\u001b[0;34m)\u001b[0m\u001b[0;34m)\u001b[0m\u001b[0;34m)\u001b[0m\u001b[0;34m:\u001b[0m\u001b[0;34m\u001b[0m\u001b[0;34m\u001b[0m\u001b[0m\n\u001b[0;32m---> 16\u001b[0;31m         \u001b[0mtable\u001b[0m \u001b[0;34m=\u001b[0m \u001b[0mrmt\u001b[0m\u001b[0;34m.\u001b[0m\u001b[0mread_match_timestamps\u001b[0m\u001b[0;34m(\u001b[0m\u001b[0mbase_dir\u001b[0m\u001b[0;34m,\u001b[0m \u001b[0mtarget_fps\u001b[0m\u001b[0;34m,\u001b[0m \u001b[0msubject\u001b[0m\u001b[0;34m,\u001b[0m \u001b[0mtrial\u001b[0m\u001b[0;34m,\u001b[0m \u001b[0mnum_cameras\u001b[0m\u001b[0;34m=\u001b[0m\u001b[0;36m1\u001b[0m\u001b[0;34m)\u001b[0m\u001b[0;34m\u001b[0m\u001b[0;34m\u001b[0m\u001b[0m\n\u001b[0m",
      "\u001b[0;32m~/st-bravo_analysis/read_match_timestamps.py\u001b[0m in \u001b[0;36mread_match_timestamps\u001b[0;34m(base_dir, target_fps, subject, trial, num_cameras)\u001b[0m\n\u001b[1;32m     55\u001b[0m \u001b[0;34m\u001b[0m\u001b[0m\n\u001b[1;32m     56\u001b[0m     \u001b[0;31m#get pupil timestamps\u001b[0m\u001b[0;34m\u001b[0m\u001b[0;34m\u001b[0m\u001b[0;34m\u001b[0m\u001b[0m\n\u001b[0;32m---> 57\u001b[0;31m     \u001b[0mpupil_positions\u001b[0m \u001b[0;34m=\u001b[0m \u001b[0mdt\u001b[0m\u001b[0;34m.\u001b[0m\u001b[0mfread\u001b[0m\u001b[0;34m(\u001b[0m\u001b[0mpupil_timestamp_file\u001b[0m\u001b[0;34m)\u001b[0m\u001b[0;34m\u001b[0m\u001b[0;34m\u001b[0m\u001b[0m\n\u001b[0m\u001b[1;32m     58\u001b[0m     \u001b[0mpupil_positions\u001b[0m \u001b[0;34m=\u001b[0m \u001b[0mpupil_positions\u001b[0m\u001b[0;34m[\u001b[0m\u001b[0;34m:\u001b[0m\u001b[0;34m,\u001b[0m\u001b[0;34m[\u001b[0m\u001b[0;36m0\u001b[0m\u001b[0;34m,\u001b[0m\u001b[0;36m1\u001b[0m\u001b[0;34m,\u001b[0m\u001b[0;36m2\u001b[0m\u001b[0;34m,\u001b[0m\u001b[0;36m4\u001b[0m\u001b[0;34m,\u001b[0m\u001b[0;36m5\u001b[0m\u001b[0;34m]\u001b[0m\u001b[0;34m]\u001b[0m\u001b[0;34m\u001b[0m\u001b[0;34m\u001b[0m\u001b[0m\n\u001b[1;32m     59\u001b[0m     \u001b[0mpupil_eye_0\u001b[0m \u001b[0;34m=\u001b[0m \u001b[0mnp\u001b[0m\u001b[0;34m.\u001b[0m\u001b[0marray\u001b[0m\u001b[0;34m(\u001b[0m\u001b[0mpupil_positions\u001b[0m\u001b[0;34m)\u001b[0m\u001b[0;34m[\u001b[0m\u001b[0mnp\u001b[0m\u001b[0;34m.\u001b[0m\u001b[0mwhere\u001b[0m\u001b[0;34m(\u001b[0m\u001b[0mnp\u001b[0m\u001b[0;34m.\u001b[0m\u001b[0marray\u001b[0m\u001b[0;34m(\u001b[0m\u001b[0mpupil_positions\u001b[0m\u001b[0;34m)\u001b[0m\u001b[0;34m[\u001b[0m\u001b[0;34m:\u001b[0m\u001b[0;34m,\u001b[0m\u001b[0;36m2\u001b[0m\u001b[0;34m]\u001b[0m\u001b[0;34m==\u001b[0m\u001b[0;36m0\u001b[0m\u001b[0;34m)\u001b[0m\u001b[0;34m[\u001b[0m\u001b[0;36m0\u001b[0m\u001b[0;34m]\u001b[0m\u001b[0;34m,\u001b[0m\u001b[0;34m:\u001b[0m\u001b[0;34m]\u001b[0m\u001b[0;34m\u001b[0m\u001b[0;34m\u001b[0m\u001b[0m\n",
      "\u001b[0;32m~/anaconda3/lib/python3.7/site-packages/datatable/fread.py\u001b[0m in \u001b[0;36mfread\u001b[0;34m(anysource, file, text, cmd, url, columns, sep, dec, max_nrows, header, na_strings, verbose, fill, encoding, skip_to_string, skip_to_line, skip_blank_lines, strip_whitespace, quotechar, save_to, nthreads, logger, **extra)\u001b[0m\n\u001b[1;32m     61\u001b[0m     \u001b[0mparams\u001b[0m \u001b[0;34m=\u001b[0m \u001b[0;34m{\u001b[0m\u001b[0;34m**\u001b[0m\u001b[0mlocals\u001b[0m\u001b[0;34m(\u001b[0m\u001b[0;34m)\u001b[0m\u001b[0;34m,\u001b[0m \u001b[0;34m**\u001b[0m\u001b[0mextra\u001b[0m\u001b[0;34m}\u001b[0m\u001b[0;34m\u001b[0m\u001b[0;34m\u001b[0m\u001b[0m\n\u001b[1;32m     62\u001b[0m     \u001b[0;32mdel\u001b[0m \u001b[0mparams\u001b[0m\u001b[0;34m[\u001b[0m\u001b[0;34m\"extra\"\u001b[0m\u001b[0;34m]\u001b[0m\u001b[0;34m\u001b[0m\u001b[0;34m\u001b[0m\u001b[0m\n\u001b[0;32m---> 63\u001b[0;31m     \u001b[0mfreader\u001b[0m \u001b[0;34m=\u001b[0m \u001b[0mGenericReader\u001b[0m\u001b[0;34m(\u001b[0m\u001b[0;34m**\u001b[0m\u001b[0mparams\u001b[0m\u001b[0;34m)\u001b[0m\u001b[0;34m\u001b[0m\u001b[0;34m\u001b[0m\u001b[0m\n\u001b[0m\u001b[1;32m     64\u001b[0m     \u001b[0;32mreturn\u001b[0m \u001b[0mfreader\u001b[0m\u001b[0;34m.\u001b[0m\u001b[0mread\u001b[0m\u001b[0;34m(\u001b[0m\u001b[0;34m)\u001b[0m\u001b[0;34m\u001b[0m\u001b[0;34m\u001b[0m\u001b[0m\n\u001b[1;32m     65\u001b[0m \u001b[0;34m\u001b[0m\u001b[0m\n",
      "\u001b[0;32m~/anaconda3/lib/python3.7/site-packages/datatable/fread.py\u001b[0m in \u001b[0;36m__init__\u001b[0;34m(self, anysource, file, text, url, cmd, columns, sep, max_nrows, header, na_strings, verbose, fill, encoding, dec, skip_to_string, skip_to_line, save_to, nthreads, logger, skip_blank_lines, strip_whitespace, quotechar, **args)\u001b[0m\n\u001b[1;32m    117\u001b[0m         \u001b[0;32mif\u001b[0m \u001b[0mverbose\u001b[0m\u001b[0;34m:\u001b[0m\u001b[0;34m\u001b[0m\u001b[0;34m\u001b[0m\u001b[0m\n\u001b[1;32m    118\u001b[0m             \u001b[0mself\u001b[0m\u001b[0;34m.\u001b[0m\u001b[0mlogger\u001b[0m\u001b[0;34m.\u001b[0m\u001b[0mdebug\u001b[0m\u001b[0;34m(\u001b[0m\u001b[0;34m\"[1] Prepare for reading\"\u001b[0m\u001b[0;34m)\u001b[0m\u001b[0;34m\u001b[0m\u001b[0;34m\u001b[0m\u001b[0m\n\u001b[0;32m--> 119\u001b[0;31m         \u001b[0mself\u001b[0m\u001b[0;34m.\u001b[0m\u001b[0m_resolve_source\u001b[0m\u001b[0;34m(\u001b[0m\u001b[0manysource\u001b[0m\u001b[0;34m,\u001b[0m \u001b[0mfile\u001b[0m\u001b[0;34m,\u001b[0m \u001b[0mtext\u001b[0m\u001b[0;34m,\u001b[0m \u001b[0mcmd\u001b[0m\u001b[0;34m,\u001b[0m \u001b[0murl\u001b[0m\u001b[0;34m)\u001b[0m\u001b[0;34m\u001b[0m\u001b[0;34m\u001b[0m\u001b[0m\n\u001b[0m\u001b[1;32m    120\u001b[0m         \u001b[0mself\u001b[0m\u001b[0;34m.\u001b[0m\u001b[0mcolumns\u001b[0m \u001b[0;34m=\u001b[0m \u001b[0mcolumns\u001b[0m\u001b[0;34m\u001b[0m\u001b[0;34m\u001b[0m\u001b[0m\n\u001b[1;32m    121\u001b[0m         \u001b[0mself\u001b[0m\u001b[0;34m.\u001b[0m\u001b[0msep\u001b[0m \u001b[0;34m=\u001b[0m \u001b[0msep\u001b[0m\u001b[0;34m\u001b[0m\u001b[0;34m\u001b[0m\u001b[0m\n",
      "\u001b[0;32m~/anaconda3/lib/python3.7/site-packages/datatable/fread.py\u001b[0m in \u001b[0;36m_resolve_source\u001b[0;34m(self, anysource, file, text, cmd, url)\u001b[0m\n\u001b[1;32m    169\u001b[0m                     \u001b[0;34m\"When an unnamed argument is passed, it is invalid to also \"\u001b[0m\u001b[0;34m\u001b[0m\u001b[0;34m\u001b[0m\u001b[0m\n\u001b[1;32m    170\u001b[0m                     \"provide the `%s` parameter.\" % (args[0], ))\n\u001b[0;32m--> 171\u001b[0;31m         \u001b[0mself\u001b[0m\u001b[0;34m.\u001b[0m\u001b[0m_resolve_source_any\u001b[0m\u001b[0;34m(\u001b[0m\u001b[0manysource\u001b[0m\u001b[0;34m)\u001b[0m\u001b[0;34m\u001b[0m\u001b[0;34m\u001b[0m\u001b[0m\n\u001b[0m\u001b[1;32m    172\u001b[0m         \u001b[0mself\u001b[0m\u001b[0;34m.\u001b[0m\u001b[0m_resolve_source_text\u001b[0m\u001b[0;34m(\u001b[0m\u001b[0mtext\u001b[0m\u001b[0;34m)\u001b[0m\u001b[0;34m\u001b[0m\u001b[0;34m\u001b[0m\u001b[0m\n\u001b[1;32m    173\u001b[0m         \u001b[0mself\u001b[0m\u001b[0;34m.\u001b[0m\u001b[0m_resolve_source_file\u001b[0m\u001b[0;34m(\u001b[0m\u001b[0mfile\u001b[0m\u001b[0;34m)\u001b[0m\u001b[0;34m\u001b[0m\u001b[0;34m\u001b[0m\u001b[0m\n",
      "\u001b[0;32m~/anaconda3/lib/python3.7/site-packages/datatable/fread.py\u001b[0m in \u001b[0;36m_resolve_source_any\u001b[0;34m(self, src)\u001b[0m\n\u001b[1;32m    210\u001b[0m                         self.logger.debug(\"Input is assumed to be a \"\n\u001b[1;32m    211\u001b[0m                                           \"file name.\")\n\u001b[0;32m--> 212\u001b[0;31m                     \u001b[0mself\u001b[0m\u001b[0;34m.\u001b[0m\u001b[0m_resolve_source_file\u001b[0m\u001b[0;34m(\u001b[0m\u001b[0msrc\u001b[0m\u001b[0;34m)\u001b[0m\u001b[0;34m\u001b[0m\u001b[0;34m\u001b[0m\u001b[0m\n\u001b[0m\u001b[1;32m    213\u001b[0m         \u001b[0;32melif\u001b[0m \u001b[0misinstance\u001b[0m\u001b[0;34m(\u001b[0m\u001b[0msrc\u001b[0m\u001b[0;34m,\u001b[0m \u001b[0m_pathlike\u001b[0m\u001b[0;34m)\u001b[0m \u001b[0;32mor\u001b[0m \u001b[0mhasattr\u001b[0m\u001b[0;34m(\u001b[0m\u001b[0msrc\u001b[0m\u001b[0;34m,\u001b[0m \u001b[0;34m\"read\"\u001b[0m\u001b[0;34m)\u001b[0m\u001b[0;34m:\u001b[0m\u001b[0;34m\u001b[0m\u001b[0;34m\u001b[0m\u001b[0m\n\u001b[1;32m    214\u001b[0m             \u001b[0mself\u001b[0m\u001b[0;34m.\u001b[0m\u001b[0m_resolve_source_file\u001b[0m\u001b[0;34m(\u001b[0m\u001b[0msrc\u001b[0m\u001b[0;34m)\u001b[0m\u001b[0;34m\u001b[0m\u001b[0;34m\u001b[0m\u001b[0m\n",
      "\u001b[0;32m~/anaconda3/lib/python3.7/site-packages/datatable/fread.py\u001b[0m in \u001b[0;36m_resolve_source_file\u001b[0;34m(self, file)\u001b[0m\n\u001b[1;32m    291\u001b[0m                 \u001b[0;32mreturn\u001b[0m\u001b[0;34m\u001b[0m\u001b[0;34m\u001b[0m\u001b[0m\n\u001b[1;32m    292\u001b[0m             \u001b[0;32melse\u001b[0m\u001b[0;34m:\u001b[0m\u001b[0;34m\u001b[0m\u001b[0;34m\u001b[0m\u001b[0m\n\u001b[0;32m--> 293\u001b[0;31m                 \u001b[0;32mraise\u001b[0m \u001b[0mTValueError\u001b[0m\u001b[0;34m(\u001b[0m\u001b[0;34m\"File %s`%s` does not exist\"\u001b[0m \u001b[0;34m%\u001b[0m \u001b[0;34m(\u001b[0m\u001b[0mxpath\u001b[0m\u001b[0;34m,\u001b[0m \u001b[0mypath\u001b[0m\u001b[0;34m)\u001b[0m\u001b[0;34m)\u001b[0m\u001b[0;34m\u001b[0m\u001b[0;34m\u001b[0m\u001b[0m\n\u001b[0m\u001b[1;32m    294\u001b[0m         \u001b[0;32mif\u001b[0m \u001b[0;32mnot\u001b[0m \u001b[0mos\u001b[0m\u001b[0;34m.\u001b[0m\u001b[0mpath\u001b[0m\u001b[0;34m.\u001b[0m\u001b[0misfile\u001b[0m\u001b[0;34m(\u001b[0m\u001b[0mfile\u001b[0m\u001b[0;34m)\u001b[0m\u001b[0;34m:\u001b[0m\u001b[0;34m\u001b[0m\u001b[0;34m\u001b[0m\u001b[0m\n\u001b[1;32m    295\u001b[0m             \u001b[0;32mraise\u001b[0m \u001b[0mTValueError\u001b[0m\u001b[0;34m(\u001b[0m\u001b[0;34m\"Path `%s` is not a file\"\u001b[0m \u001b[0;34m%\u001b[0m \u001b[0mfile\u001b[0m\u001b[0;34m)\u001b[0m\u001b[0;34m\u001b[0m\u001b[0;34m\u001b[0m\u001b[0m\n",
      "\u001b[0;31mValueError\u001b[0m: File /data_repo/bravo/raw_data/buddy/chat_1/pre`/eye_camera/000/exports/000/pupil_positions.csv` does not exist"
     ]
    }
   ],
   "source": [
    "import itertools as it\n",
    "import read_match_timestamps as rmt\n",
    "import imp\n",
    "imp.reload(rmt)\n",
    "\n",
    "subjects = ['buddy', 'ag']\n",
    "tasks = ['chat','book','cellphone', 'laptop'] \n",
    "repititions = ['1']\n",
    "iterator = it.product(subjects, tasks, repititions)\n",
    "\n",
    "for iteration in iterator:\n",
    "    subject, task, rep = iteration\n",
    "    trial = f'{task}_{rep}'\n",
    "    print('*')\n",
    "    if(os.path.isdir(os.path.join(base_dir,'raw_data', subject, trial))):\n",
    "        table = rmt.read_match_timestamps(base_dir, target_fps, subject, trial, num_cameras=1)"
   ]
  },
  {
   "cell_type": "code",
   "execution_count": 12,
   "metadata": {},
   "outputs": [
    {
     "data": {
      "text/plain": [
       "array([11, 13, 15])"
      ]
     },
     "execution_count": 12,
     "metadata": {},
     "output_type": "execute_result"
    }
   ],
   "source": [
    "idx = np.array((1,3,5))\n",
    "a = np.array((10,11,12,13,14,15,16))\n",
    "a.take(idx)"
   ]
  },
  {
   "cell_type": "code",
   "execution_count": null,
   "metadata": {},
   "outputs": [],
   "source": []
  }
 ],
 "metadata": {
  "kernelspec": {
   "display_name": "Python 3",
   "language": "python",
   "name": "python3"
  },
  "language_info": {
   "codemirror_mode": {
    "name": "ipython",
    "version": 3
   },
   "file_extension": ".py",
   "mimetype": "text/x-python",
   "name": "python",
   "nbconvert_exporter": "python",
   "pygments_lexer": "ipython3",
   "version": "3.7.7"
  }
 },
 "nbformat": 4,
 "nbformat_minor": 4
}

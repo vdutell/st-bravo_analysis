{
 "cells": [
  {
   "cell_type": "markdown",
   "metadata": {},
   "source": [
    "# Compare Spatiotemporal Power Spectra for different Conditions\n",
    "\n",
    "How do different conditions compare!?!?"
   ]
  },
  {
   "cell_type": "markdown",
   "metadata": {},
   "source": [
    "## Dependencies"
   ]
  },
  {
   "cell_type": "code",
   "execution_count": 1,
   "metadata": {},
   "outputs": [],
   "source": [
    "import os, stat\n",
    "import numpy as np\n",
    "import matplotlib.pyplot as plt\n",
    "import imp\n",
    "\n",
    "import utils.run_analysis as ana\n",
    "\n",
    "import stftoolkit as stf\n",
    "import datatable as dt\n",
    "\n",
    "import imageio\n",
    "import cv2\n",
    "\n",
    "import numpy as np\n",
    "import matplotlib as mpl\n",
    "import matplotlib.pyplot as plt\n",
    "import matplotlib.gridspec as gsp\n",
    "import matplotlib.colors as colors"
   ]
  },
  {
   "cell_type": "markdown",
   "metadata": {},
   "source": [
    "## Parameters\n",
    "\n",
    "*** NOTE: REALLY NEED TO CHECK ON THE VALUES FOR HORIZONTAL AND VERTICAL FOV ***"
   ]
  },
  {
   "cell_type": "code",
   "execution_count": 2,
   "metadata": {},
   "outputs": [
    {
     "name": "stdout",
     "output_type": "stream",
     "text": [
      "PPD is 33.83606557377049\n"
     ]
    }
   ],
   "source": [
    "base_dir = '/data_repo/bravo'\n",
    "data_dir = os.path.join(base_dir, 'raw_data')\n",
    "output_dir = os.path.join(base_dir, 'analysis')\n",
    "\n",
    "fps = 200\n",
    "\n",
    "###DEFINITELY NEED TO CHECK ON THESE VALUES\n",
    "horizontal_fov_deg = 61\n",
    "#vertical_fov_deg = 61\n",
    "\n",
    "img_dims=(1544,2064)\n",
    "save_batchsize = 200\n",
    "\n",
    "chunk_secs = 2\n",
    "chunk_pix = 128\n",
    "chunk_frames = int(chunk_secs*fps)\n",
    "\n",
    "num_chunks = 500\n",
    "\n",
    "trace_type='none'\n",
    "\n",
    "cosine_window = True\n",
    "\n",
    "#where are there atifacts? cut them off before plotting\n",
    "spatial_cuttoff_cpd = 12\n",
    "temporal_cuttoff_fps = np.inf\n",
    "\n",
    "#vertical_ppd = img_dims[0]/vertical_fov_deg\n",
    "horizontal_ppd = img_dims[1]/horizontal_fov_deg\n",
    "#ppd = np.mean((vertical_ppd, horizontal_ppd))\n",
    "ppd = horizontal_ppd\n",
    "print(f'PPD is {ppd}')\n",
    "#print(f'Vertical PPD: {vertical_ppd:.2f}, Horizontal PPD {horizontal_ppd:.2f}, taking average {ppd:.2f}')"
   ]
  },
  {
   "cell_type": "markdown",
   "metadata": {},
   "source": [
    "## Specify Directories for Exmaple"
   ]
  },
  {
   "cell_type": "code",
   "execution_count": 3,
   "metadata": {},
   "outputs": [
    {
     "name": "stdout",
     "output_type": "stream",
     "text": [
      "already made!\n"
     ]
    }
   ],
   "source": [
    "task = 'chat_1'\n",
    "\n",
    "comparison_save_dir = './output/comparison'\n",
    "try:\n",
    "    os.mkdir(comparison_save_dir)\n",
    "except:\n",
    "    print('already made!')\n",
    "\n",
    "static_condition = ['buddy','none']\n",
    "headbody_condition = ['ag','none']\n",
    "eye_condition = ['ag','fixation_eye_0']"
   ]
  },
  {
   "cell_type": "markdown",
   "metadata": {},
   "source": [
    "## Get Power Spectra for 3 Conditions"
   ]
  },
  {
   "cell_type": "code",
   "execution_count": 4,
   "metadata": {},
   "outputs": [],
   "source": [
    "#Static Camera\n",
    "static_save_dir = os.path.join('./output', static_condition[0], task)\n",
    "static_ps_3d = np.load(os.path.join(static_save_dir,f'ps_3d_mean_{num_chunks}_{static_condition[1]}.npy'))\n",
    "static_ps_2d = np.load(os.path.join(static_save_dir,f'ps_2d_mean_{num_chunks}_{static_condition[1]}.npy'))\n",
    "static_fqs_space = np.load(os.path.join(static_save_dir,f'ps_fqs_space_{num_chunks}_{static_condition[1]}.npy'))\n",
    "static_fqs_time = np.load(os.path.join(static_save_dir,f'ps_fqs_time_{num_chunks}_{static_condition[1]}.npy'))\n",
    "\n",
    "#Body & Head\n",
    "headbody_save_dir = os.path.join('./output', headbody_condition[0], task)\n",
    "headbody_ps_3d = np.load(os.path.join(headbody_save_dir,f'ps_3d_mean_{num_chunks}_{headbody_condition[1]}.npy'))\n",
    "headbody_ps_2d = np.load(os.path.join(headbody_save_dir,f'ps_2d_mean_{num_chunks}_{headbody_condition[1]}.npy'))\n",
    "headbody_fqs_space = np.load(os.path.join(headbody_save_dir,f'ps_fqs_space_{num_chunks}_{headbody_condition[1]}.npy'))\n",
    "headbody_fqs_time = np.load(os.path.join(headbody_save_dir,f'ps_fqs_time_{num_chunks}_{headbody_condition[1]}.npy'))\n",
    "\n",
    "#Eye Motion\n",
    "eye_save_dir = os.path.join('./output', eye_condition[0], task)\n",
    "eye_ps_3d = np.load(os.path.join(eye_save_dir,f'ps_3d_mean_{num_chunks}_{eye_condition[1]}.npy'))\n",
    "eye_ps_2d = np.load(os.path.join(eye_save_dir,f'ps_2d_mean_{num_chunks}_{eye_condition[1]}.npy'))\n",
    "eye_fqs_space = np.load(os.path.join(eye_save_dir,f'ps_fqs_space_{num_chunks}_{eye_condition[1]}.npy'))\n",
    "eye_fqs_time = np.load(os.path.join(eye_save_dir,f'ps_fqs_time_{num_chunks}_{eye_condition[1]}.npy'))\n",
    "\n",
    "assert(np.array_equal(static_fqs_space, headbody_fqs_space))\n",
    "assert(np.array_equal(static_fqs_space, eye_fqs_space))\n",
    "assert(np.array_equal(static_fqs_time, headbody_fqs_time))\n",
    "assert(np.array_equal(static_fqs_time, eye_fqs_time))\n",
    "\n",
    "fqs_space = static_fqs_space\n",
    "fqs_time = static_fqs_time\n",
    "\n"
   ]
  },
  {
   "cell_type": "markdown",
   "metadata": {},
   "source": [
    "## Cuttoff Aliasing"
   ]
  },
  {
   "cell_type": "code",
   "execution_count": 5,
   "metadata": {},
   "outputs": [],
   "source": [
    "fqs_space_keep = fqs_space <= spatial_cuttoff_cpd\n",
    "fqs_time_keep = fqs_time <= temporal_cuttoff_fps\n",
    "\n",
    "static_ps_3d = static_ps_3d[np.ix_(fqs_time_keep, fqs_space_keep, fqs_space_keep)]\n",
    "static_ps_2d = static_ps_2d[np.ix_(fqs_space_keep, fqs_time_keep)]\n",
    "\n",
    "headbody_ps_3d = headbody_ps_3d[np.ix_(fqs_time_keep, fqs_space_keep, fqs_space_keep)]\n",
    "headbody_ps_2d = headbody_ps_2d[np.ix_(fqs_space_keep, fqs_time_keep)]\n",
    "\n",
    "eye_ps_3d = eye_ps_3d[np.ix_(fqs_time_keep, fqs_space_keep, fqs_space_keep)]\n",
    "eye_ps_2d = eye_ps_2d[np.ix_(fqs_space_keep, fqs_time_keep)]\n",
    "\n",
    "fqs_space = fqs_space[np.ix_(fqs_space_keep)]                        \n",
    "fqs_time = fqs_time[fqs_time_keep]    "
   ]
  },
  {
   "cell_type": "markdown",
   "metadata": {},
   "source": [
    "## Plot All on Same Color Axis"
   ]
  },
  {
   "cell_type": "code",
   "execution_count": 11,
   "metadata": {},
   "outputs": [],
   "source": [
    "#spacecolors = plt.cm.get_cmap('hsv')\n",
    "\n",
    "\n",
    "def da_plot_power(power_spectrum, fqspace, fqtime, nsamples = 5, minmaxcolors=(None, None), figname='Plot', saveloc='./output',\n",
    "                  logscale=True, show_onef_line=True, vector_save=False, legend_loc=0, \n",
    "                  cmap_p='viridis', cmap_s='hsv', cmap_t='hsv'):\n",
    "    '''\n",
    "    THE Dong & Attick Plot (Dong & Attick 1995; fig 7) with heatmap added.\n",
    "    Produces three plots:\n",
    "        - Heatmap displying the joint spatial/temporal amplitude\n",
    "        - Samples from this plot along spatial and temporal lines:\n",
    "            * plots of spatial power spectrum along given temporal values\n",
    "            * plots of temporal spectrum along given spatial values\n",
    "\n",
    "    Parameters\n",
    "    ----------\n",
    "        power_spectrum:   2d numpy array of spatio/temporal power\n",
    "        fqspace:    1d numpy array of spatial frequency vals for spectrum\n",
    "        fqtime:   1d numpy array of temporal frequency vals for spectrum\n",
    "        nsamples: integer number of lines to plot for sampling plots\n",
    "        power (bool):   Are we calculating the power spectrum (default) or amplitude\n",
    "        psd (bool):     Normalize to power spectral density (default), or raw power?\n",
    "        figname (str):  String prefix to name of figure to be saved\n",
    "    \n",
    "    Returns:\n",
    "    --------\n",
    "        mftchunk\n",
    "        azmchunk\n",
    "        freqspace1d\n",
    "        freqspacefull\n",
    "        freqtime\n",
    "\n",
    "    '''\n",
    "    #dims got a little messed up. This is the quickest fix. Later go in and change idxs in code.\n",
    "    #power_spectrum = power_spectrum.T\n",
    "    \n",
    "    #calculate sampling positions\n",
    "    #space\n",
    "    space_end_offset = 1\n",
    "    space_end_sample = len(fqspace)-space_end_offset #sample everything for now\n",
    "    #time\n",
    "    time_end_offset = 1\n",
    "    time_end_sample = len(fqtime)-time_end_offset #sample everything for now\n",
    "    #joint\n",
    "    n_datpoints = len(fqspace)*len(fqtime)\n",
    "    \n",
    "    #colors for lines: generate by indexes in log coordinates.\n",
    "    spacesamplefqs_idx = np.round(np.geomspace(space_end_offset, space_end_sample,\n",
    "                                      nsamples),0).astype(int)\n",
    "    timesamplefqs_idx = np.round(np.geomspace(time_end_offset, time_end_sample,\n",
    "                                     nsamples),0).astype(int)\n",
    "\n",
    "    spacecolors = lambda x: plt.cm.get_cmap(cmap_s)(x / nsamples * 0.5 + 0.25)\n",
    "#     spacecolors = np.array(['saddlebrown','brown', 'chocolate', 'darkgoldenrod','orange', 'gold','yellow'])#[::-1]\n",
    "    timecolors = lambda x: plt.cm.get_cmap(cmap_t)(x / nsamples * 0.5 + 0.25)\n",
    "\n",
    "    #make a grid\n",
    "    fig = plt.figure(figsize=(9,5))\n",
    "    full_grid = gsp.GridSpec(2,3)\n",
    "    \n",
    "    #layout of subplots\n",
    "    grid_hm = gsp.GridSpecFromSubplotSpec(1,1,subplot_spec=full_grid[0:2,0:2])\n",
    "    grid_time = gsp.GridSpecFromSubplotSpec(1,1,subplot_spec=full_grid[1,2])\n",
    "    grid_space = gsp.GridSpecFromSubplotSpec(1,1,subplot_spec=full_grid[0,2])\n",
    "    \n",
    "    #heatmap\n",
    "    axes_hm = plt.subplot(grid_hm[0])\n",
    "    \n",
    "    #take log\n",
    "    #power_spectrum = np.log10(power_spectrum)\n",
    "    \n",
    "    if(minmaxcolors[0]):\n",
    "        minc = np.log10(np.abs(minmaxcolors[0]))\n",
    "        maxc = np.log10(np.abs(minmaxcolors[1]))\n",
    "    else:\n",
    "        minc = np.min(np.log10(power_spectrum))\n",
    "        maxc = np.max(np.log10(power_spectrum))\n",
    "\n",
    "    clev = np.arange(minc,maxc,0.5)\n",
    "    hm = axes_hm.contourf(fqtime, fqspace, np.log10(power_spectrum),\n",
    "                              clev,\n",
    "                              cmap=cmap_p,\n",
    "                              norm=mpl.colors.Normalize(minc, maxc))    \n",
    "    if(logscale):\n",
    "        axes_hm.set_xscale(\"log\") \n",
    "        axes_hm.set_yscale(\"log\")\n",
    "        \n",
    "    axes_hm.set_xlabel('Hz')\n",
    "    axes_hm.set_ylabel('cycles/deg')\n",
    "    axes_hm.xaxis.set_major_formatter(FormatStrFormatter('%.0f'))\n",
    "    axes_hm.yaxis.set_major_formatter(FormatStrFormatter('%.0f'))\n",
    "    axes_hm.set_title(f'{figname} Log Power') \n",
    "    \n",
    "    cb = plt.colorbar(hm, format='%.1f')\n",
    "    #tick_locator = mpl.ticker.MaxNLocator(nbins=7)\n",
    "    #cb.locator = tick_locator\n",
    "    #cb.update_ticks()\n",
    "    cb.ax.get_yaxis().labelpad = 15\n",
    "    cb.ax.set_ylabel('Log Power', rotation=270)\n",
    "\n",
    "\n",
    "    #add lines\n",
    "    for s in range(nsamples):\n",
    "        #lines in time\n",
    "        axes_hm.axvline(fqtime[timesamplefqs_idx[s]],c=timecolors(s),ls='-')\n",
    "        #lines in space\n",
    "        axes_hm.axhline(fqspace[spacesamplefqs_idx[s]],c=spacecolors(s),ls='-')\n",
    "\n",
    "    #spaceplot\n",
    "    axes_space = plt.subplot(grid_space[0])\n",
    "    for i, tf_idx in enumerate(timesamplefqs_idx):\n",
    "        axes_space.loglog(fqspace, power_spectrum[:,tf_idx],\n",
    "                        label='{0:.0f} Hz  '.format(fqtime[tf_idx]),\n",
    "                        c=timecolors(i))\n",
    "    \n",
    "    #print(np.log(np.max(power_spectrum)/fqspace))\n",
    "    if(show_onef_line):\n",
    "        fqs = fqspace[space_end_offset:space_end_sample]\n",
    "        onef = 1/(fqs) * np.min(power_spectrum[:,timesamplefqs_idx[-1]])\n",
    "        onef2 = 1/(fqs)**2 * np.max(power_spectrum[:,timesamplefqs_idx[0]])\n",
    "        axes_space.loglog(fqs, onef, c='black')\n",
    "        axes_space.plot(fqs, onef2, c='black')\n",
    "    \n",
    "    axes_space.set_title('Spatial Frequency')\n",
    "    axes_space.set_xlabel('cpd')\n",
    "    axes_space.set_ylabel(f'Power')\n",
    "    #axes_space.set_xlim(fqspace[1],fqspace[-1])\n",
    "    #axes_space.set_ylim(bottom=minc, top=maxc)\n",
    "    axes_space.xaxis.set_major_formatter(mpl.ticker.FormatStrFormatter('%d'))\n",
    "    axes_space.legend(fontsize=8,loc=legend_loc, bbox_to_anchor=(1.5, 1.0))\n",
    "\n",
    "    #timeplot\n",
    "    axes_time = plt.subplot(grid_time[0])\n",
    "    for i, sf_idx in enumerate(spacesamplefqs_idx):\n",
    "        axes_time.loglog(fqtime, power_spectrum[sf_idx,:],\n",
    "                       label='{0:0.1f} cpd'.format(fqspace[sf_idx]),\n",
    "                       c=spacecolors(i))\n",
    "        \n",
    "    if(show_onef_line):\n",
    "        fqs = fqtime[time_end_offset:time_end_sample]\n",
    "        onef = 1/(fqs) * np.min(power_spectrum[:,timesamplefqs_idx[-1]])\n",
    "        onef2 = 1/(fqs)**2 * np.max(power_spectrum[:,timesamplefqs_idx[0]])\n",
    "        axes_time.loglog(fqs, onef, c='black')\n",
    "        axes_time.plot(fqs, onef2, c='black')\n",
    "        \n",
    "    axes_time.set_title('Temporal Frequency')\n",
    "    axes_time.set_xlabel('Hz')\n",
    "    axes_time.set_ylabel(f'Power')\n",
    "    #axes_time.set_xlim(fqtime[1],fqtime[-1])\n",
    "    #axes_time.set_ylim(bottom=minc) #, top= maxc)\n",
    "    axes_time.xaxis.set_major_formatter(mpl.ticker.FormatStrFormatter('%d'))\n",
    "    axes_time.legend(fontsize=8,loc=legend_loc, bbox_to_anchor=(1.5, 1.0))\n",
    "\n",
    "    plt.tight_layout()\n",
    "    \n",
    "    plt.savefig(f'{saveloc}/Power_{figname}.png')\n",
    "    \n",
    "    if(vector_save):\n",
    "        plt.savefig(f'{saveloc}/Power_{figname}.eps',format='eps')\n",
    "    "
   ]
  },
  {
   "cell_type": "code",
   "execution_count": 12,
   "metadata": {},
   "outputs": [],
   "source": [
    "minc = np.min((static_ps_2d, headbody_ps_2d, eye_ps_2d))\n",
    "maxc = np.max((static_ps_2d, headbody_ps_2d, eye_ps_2d))"
   ]
  },
  {
   "cell_type": "code",
   "execution_count": 13,
   "metadata": {},
   "outputs": [
    {
     "ename": "NameError",
     "evalue": "name 'FormatStrFormatter' is not defined",
     "output_type": "error",
     "traceback": [
      "\u001b[0;31m---------------------------------------------------------------------------\u001b[0m",
      "\u001b[0;31mNameError\u001b[0m                                 Traceback (most recent call last)",
      "\u001b[0;32m<ipython-input-13-ac6180c13ae0>\u001b[0m in \u001b[0;36m<module>\u001b[0;34m\u001b[0m\n\u001b[1;32m      3\u001b[0m                   \u001b[0mfigname\u001b[0m\u001b[0;34m=\u001b[0m\u001b[0;34mf'World'\u001b[0m\u001b[0;34m,\u001b[0m\u001b[0;34m\u001b[0m\u001b[0;34m\u001b[0m\u001b[0m\n\u001b[1;32m      4\u001b[0m                   \u001b[0msaveloc\u001b[0m\u001b[0;34m=\u001b[0m\u001b[0mcomparison_save_dir\u001b[0m\u001b[0;34m,\u001b[0m \u001b[0mvector_save\u001b[0m\u001b[0;34m=\u001b[0m\u001b[0;32mTrue\u001b[0m\u001b[0;34m,\u001b[0m \u001b[0mlegend_loc\u001b[0m\u001b[0;34m=\u001b[0m\u001b[0;36m1\u001b[0m\u001b[0;34m,\u001b[0m\u001b[0;34m\u001b[0m\u001b[0;34m\u001b[0m\u001b[0m\n\u001b[0;32m----> 5\u001b[0;31m                   cmap_p='binary_r', cmap_s='summer', cmap_t='autumn')\n\u001b[0m",
      "\u001b[0;32m<ipython-input-11-fc8d9de081b5>\u001b[0m in \u001b[0;36mda_plot_power\u001b[0;34m(power_spectrum, fqspace, fqtime, nsamples, minmaxcolors, figname, saveloc, logscale, show_onef_line, vector_save, legend_loc, cmap_p, cmap_s, cmap_t)\u001b[0m\n\u001b[1;32m     88\u001b[0m     \u001b[0maxes_hm\u001b[0m\u001b[0;34m.\u001b[0m\u001b[0mset_xlabel\u001b[0m\u001b[0;34m(\u001b[0m\u001b[0;34m'Hz'\u001b[0m\u001b[0;34m)\u001b[0m\u001b[0;34m\u001b[0m\u001b[0;34m\u001b[0m\u001b[0m\n\u001b[1;32m     89\u001b[0m     \u001b[0maxes_hm\u001b[0m\u001b[0;34m.\u001b[0m\u001b[0mset_ylabel\u001b[0m\u001b[0;34m(\u001b[0m\u001b[0;34m'cycles/deg'\u001b[0m\u001b[0;34m)\u001b[0m\u001b[0;34m\u001b[0m\u001b[0;34m\u001b[0m\u001b[0m\n\u001b[0;32m---> 90\u001b[0;31m     \u001b[0maxes_hm\u001b[0m\u001b[0;34m.\u001b[0m\u001b[0mxaxis\u001b[0m\u001b[0;34m.\u001b[0m\u001b[0mset_major_formatter\u001b[0m\u001b[0;34m(\u001b[0m\u001b[0mFormatStrFormatter\u001b[0m\u001b[0;34m(\u001b[0m\u001b[0;34m'%.0f'\u001b[0m\u001b[0;34m)\u001b[0m\u001b[0;34m)\u001b[0m\u001b[0;34m\u001b[0m\u001b[0;34m\u001b[0m\u001b[0m\n\u001b[0m\u001b[1;32m     91\u001b[0m     \u001b[0maxes_hm\u001b[0m\u001b[0;34m.\u001b[0m\u001b[0myaxis\u001b[0m\u001b[0;34m.\u001b[0m\u001b[0mset_major_formatter\u001b[0m\u001b[0;34m(\u001b[0m\u001b[0mFormatStrFormatter\u001b[0m\u001b[0;34m(\u001b[0m\u001b[0;34m'%.0f'\u001b[0m\u001b[0;34m)\u001b[0m\u001b[0;34m)\u001b[0m\u001b[0;34m\u001b[0m\u001b[0;34m\u001b[0m\u001b[0m\n\u001b[1;32m     92\u001b[0m     \u001b[0maxes_hm\u001b[0m\u001b[0;34m.\u001b[0m\u001b[0mset_title\u001b[0m\u001b[0;34m(\u001b[0m\u001b[0;34mf'{figname} Log Power'\u001b[0m\u001b[0;34m)\u001b[0m\u001b[0;34m\u001b[0m\u001b[0;34m\u001b[0m\u001b[0m\n",
      "\u001b[0;31mNameError\u001b[0m: name 'FormatStrFormatter' is not defined"
     ]
    },
    {
     "data": {
      "image/png": "[encoded data removed]",
      "text/plain": [
       "<Figure size 648x360 with 1 Axes>"
      ]
     },
     "metadata": {
      "needs_background": "light"
     },
     "output_type": "display_data"
    }
   ],
   "source": [
    "da_plot_power(static_ps_2d, fqs_space, fqs_time, show_onef_line=True, logscale=True,\n",
    "                  minmaxcolors=(minc, maxc), nsamples = 7,\n",
    "                  figname=f'World', \n",
    "                  saveloc=comparison_save_dir, vector_save=True, legend_loc=1, \n",
    "                  cmap_p='binary_r', cmap_s='summer', cmap_t='autumn')\n"
   ]
  },
  {
   "cell_type": "code",
   "execution_count": 9,
   "metadata": {},
   "outputs": [
    {
     "ename": "NameError",
     "evalue": "name 'FormatStrFormatter' is not defined",
     "output_type": "error",
     "traceback": [
      "\u001b[0;31m---------------------------------------------------------------------------\u001b[0m",
      "\u001b[0;31mNameError\u001b[0m                                 Traceback (most recent call last)",
      "\u001b[0;32m<ipython-input-9-5598d93c6529>\u001b[0m in \u001b[0;36m<module>\u001b[0;34m\u001b[0m\n\u001b[1;32m      3\u001b[0m                   \u001b[0mfigname\u001b[0m\u001b[0;34m=\u001b[0m\u001b[0;34mf'Head'\u001b[0m\u001b[0;34m,\u001b[0m\u001b[0;34m\u001b[0m\u001b[0;34m\u001b[0m\u001b[0m\n\u001b[1;32m      4\u001b[0m                   \u001b[0msaveloc\u001b[0m\u001b[0;34m=\u001b[0m\u001b[0mcomparison_save_dir\u001b[0m\u001b[0;34m,\u001b[0m \u001b[0mvector_save\u001b[0m\u001b[0;34m=\u001b[0m\u001b[0;32mTrue\u001b[0m\u001b[0;34m,\u001b[0m \u001b[0mlegend_loc\u001b[0m\u001b[0;34m=\u001b[0m\u001b[0;36m1\u001b[0m\u001b[0;34m,\u001b[0m\u001b[0;34m\u001b[0m\u001b[0;34m\u001b[0m\u001b[0m\n\u001b[0;32m----> 5\u001b[0;31m                   cmap_p='binary_r', cmap_s='summer', cmap_t='autumn')\n\u001b[0m",
      "\u001b[0;32m<ipython-input-6-cd7133967e08>\u001b[0m in \u001b[0;36mda_plot_power\u001b[0;34m(power_spectrum, fqspace, fqtime, nsamples, minmaxcolors, figname, saveloc, logscale, show_onef_line, vector_save, legend_loc, cmap_p, cmap_s, cmap_t)\u001b[0m\n\u001b[1;32m     88\u001b[0m     \u001b[0maxes_hm\u001b[0m\u001b[0;34m.\u001b[0m\u001b[0mset_xlabel\u001b[0m\u001b[0;34m(\u001b[0m\u001b[0;34m'Temporal Frequency (cycles/sec)'\u001b[0m\u001b[0;34m)\u001b[0m\u001b[0;34m\u001b[0m\u001b[0;34m\u001b[0m\u001b[0m\n\u001b[1;32m     89\u001b[0m     \u001b[0maxes_hm\u001b[0m\u001b[0;34m.\u001b[0m\u001b[0mset_ylabel\u001b[0m\u001b[0;34m(\u001b[0m\u001b[0;34m'Spatial Frequency (cycles/deg)'\u001b[0m\u001b[0;34m)\u001b[0m\u001b[0;34m\u001b[0m\u001b[0;34m\u001b[0m\u001b[0m\n\u001b[0;32m---> 90\u001b[0;31m     \u001b[0maxes_hm\u001b[0m\u001b[0;34m.\u001b[0m\u001b[0mxaxis\u001b[0m\u001b[0;34m.\u001b[0m\u001b[0mset_major_formatter\u001b[0m\u001b[0;34m(\u001b[0m\u001b[0mFormatStrFormatter\u001b[0m\u001b[0;34m(\u001b[0m\u001b[0;34m'%.0f'\u001b[0m\u001b[0;34m)\u001b[0m\u001b[0;34m)\u001b[0m\u001b[0;34m\u001b[0m\u001b[0;34m\u001b[0m\u001b[0m\n\u001b[0m\u001b[1;32m     91\u001b[0m     \u001b[0maxes_hm\u001b[0m\u001b[0;34m.\u001b[0m\u001b[0myaxis\u001b[0m\u001b[0;34m.\u001b[0m\u001b[0mset_major_formatter\u001b[0m\u001b[0;34m(\u001b[0m\u001b[0mFormatStrFormatter\u001b[0m\u001b[0;34m(\u001b[0m\u001b[0;34m'%.0f'\u001b[0m\u001b[0;34m)\u001b[0m\u001b[0;34m)\u001b[0m\u001b[0;34m\u001b[0m\u001b[0;34m\u001b[0m\u001b[0m\n\u001b[1;32m     92\u001b[0m     \u001b[0maxes_hm\u001b[0m\u001b[0;34m.\u001b[0m\u001b[0mset_title\u001b[0m\u001b[0;34m(\u001b[0m\u001b[0;34mf'{figname} Log Power'\u001b[0m\u001b[0;34m)\u001b[0m\u001b[0;34m\u001b[0m\u001b[0;34m\u001b[0m\u001b[0m\n",
      "\u001b[0;31mNameError\u001b[0m: name 'FormatStrFormatter' is not defined"
     ]
    },
    {
     "data": {
      "image/png": "[encoded data removed]",
      "text/plain": [
       "<Figure size 648x360 with 1 Axes>"
      ]
     },
     "metadata": {
      "needs_background": "light"
     },
     "output_type": "display_data"
    }
   ],
   "source": [
    "da_plot_power(headbody_ps_2d, fqs_space, fqs_time, show_onef_line=True, logscale=True,\n",
    "                  minmaxcolors=(minc, maxc), nsamples = 7,\n",
    "                  figname=f'Head', \n",
    "                  saveloc=comparison_save_dir, vector_save=True, legend_loc=1,\n",
    "                  cmap_p='binary_r', cmap_s='summer', cmap_t='autumn')"
   ]
  },
  {
   "cell_type": "code",
   "execution_count": 10,
   "metadata": {},
   "outputs": [
    {
     "ename": "NameError",
     "evalue": "name 'FormatStrFormatter' is not defined",
     "output_type": "error",
     "traceback": [
      "\u001b[0;31m---------------------------------------------------------------------------\u001b[0m",
      "\u001b[0;31mNameError\u001b[0m                                 Traceback (most recent call last)",
      "\u001b[0;32m<ipython-input-10-ca5706359e0e>\u001b[0m in \u001b[0;36m<module>\u001b[0;34m\u001b[0m\n\u001b[1;32m      3\u001b[0m                   \u001b[0mfigname\u001b[0m\u001b[0;34m=\u001b[0m\u001b[0;34mf'Retinal'\u001b[0m\u001b[0;34m,\u001b[0m\u001b[0;34m\u001b[0m\u001b[0;34m\u001b[0m\u001b[0m\n\u001b[1;32m      4\u001b[0m                   \u001b[0msaveloc\u001b[0m\u001b[0;34m=\u001b[0m\u001b[0mcomparison_save_dir\u001b[0m\u001b[0;34m,\u001b[0m\u001b[0mvector_save\u001b[0m\u001b[0;34m=\u001b[0m\u001b[0;32mTrue\u001b[0m\u001b[0;34m,\u001b[0m \u001b[0mlegend_loc\u001b[0m\u001b[0;34m=\u001b[0m\u001b[0;36m1\u001b[0m\u001b[0;34m,\u001b[0m\u001b[0;34m\u001b[0m\u001b[0;34m\u001b[0m\u001b[0m\n\u001b[0;32m----> 5\u001b[0;31m                   cmap_p='binary_r', cmap_s='summer', cmap_t='autumn')\n\u001b[0m",
      "\u001b[0;32m<ipython-input-6-cd7133967e08>\u001b[0m in \u001b[0;36mda_plot_power\u001b[0;34m(power_spectrum, fqspace, fqtime, nsamples, minmaxcolors, figname, saveloc, logscale, show_onef_line, vector_save, legend_loc, cmap_p, cmap_s, cmap_t)\u001b[0m\n\u001b[1;32m     88\u001b[0m     \u001b[0maxes_hm\u001b[0m\u001b[0;34m.\u001b[0m\u001b[0mset_xlabel\u001b[0m\u001b[0;34m(\u001b[0m\u001b[0;34m'Temporal Frequency (cycles/sec)'\u001b[0m\u001b[0;34m)\u001b[0m\u001b[0;34m\u001b[0m\u001b[0;34m\u001b[0m\u001b[0m\n\u001b[1;32m     89\u001b[0m     \u001b[0maxes_hm\u001b[0m\u001b[0;34m.\u001b[0m\u001b[0mset_ylabel\u001b[0m\u001b[0;34m(\u001b[0m\u001b[0;34m'Spatial Frequency (cycles/deg)'\u001b[0m\u001b[0;34m)\u001b[0m\u001b[0;34m\u001b[0m\u001b[0;34m\u001b[0m\u001b[0m\n\u001b[0;32m---> 90\u001b[0;31m     \u001b[0maxes_hm\u001b[0m\u001b[0;34m.\u001b[0m\u001b[0mxaxis\u001b[0m\u001b[0;34m.\u001b[0m\u001b[0mset_major_formatter\u001b[0m\u001b[0;34m(\u001b[0m\u001b[0mFormatStrFormatter\u001b[0m\u001b[0;34m(\u001b[0m\u001b[0;34m'%.0f'\u001b[0m\u001b[0;34m)\u001b[0m\u001b[0;34m)\u001b[0m\u001b[0;34m\u001b[0m\u001b[0;34m\u001b[0m\u001b[0m\n\u001b[0m\u001b[1;32m     91\u001b[0m     \u001b[0maxes_hm\u001b[0m\u001b[0;34m.\u001b[0m\u001b[0myaxis\u001b[0m\u001b[0;34m.\u001b[0m\u001b[0mset_major_formatter\u001b[0m\u001b[0;34m(\u001b[0m\u001b[0mFormatStrFormatter\u001b[0m\u001b[0;34m(\u001b[0m\u001b[0;34m'%.0f'\u001b[0m\u001b[0;34m)\u001b[0m\u001b[0;34m)\u001b[0m\u001b[0;34m\u001b[0m\u001b[0;34m\u001b[0m\u001b[0m\n\u001b[1;32m     92\u001b[0m     \u001b[0maxes_hm\u001b[0m\u001b[0;34m.\u001b[0m\u001b[0mset_title\u001b[0m\u001b[0;34m(\u001b[0m\u001b[0;34mf'{figname} Log Power'\u001b[0m\u001b[0;34m)\u001b[0m\u001b[0;34m\u001b[0m\u001b[0;34m\u001b[0m\u001b[0m\n",
      "\u001b[0;31mNameError\u001b[0m: name 'FormatStrFormatter' is not defined"
     ]
    },
    {
     "data": {
      "image/png": "[encoded data removed]",
      "text/plain": [
       "<Figure size 648x360 with 1 Axes>"
      ]
     },
     "metadata": {
      "needs_background": "light"
     },
     "output_type": "display_data"
    }
   ],
   "source": [
    "da_plot_power(eye_ps_2d, fqs_space, fqs_time, show_onef_line=True, logscale=True,\n",
    "                  minmaxcolors=(minc, maxc), nsamples = 7,\n",
    "                  figname=f'Retinal', \n",
    "                  saveloc=comparison_save_dir,vector_save=True, legend_loc=1,\n",
    "                  cmap_p='binary_r', cmap_s='summer', cmap_t='autumn')"
   ]
  },
  {
   "cell_type": "markdown",
   "metadata": {},
   "source": [
    "## Plotter of Diff Power\n",
    "Need to put this inside the plotter because we'll take the difference in log space so we can see directionality.;"
   ]
  },
  {
   "cell_type": "code",
   "execution_count": null,
   "metadata": {},
   "outputs": [],
   "source": [
    "from matplotlib.ticker import FormatStrFormatter\n",
    "def da_plot_diff_power(power_spectrum_a, power_spectrum_b, fqspace, fqtime, nsamples = 5, minmaxcolors=(None, None), figname='Plot', saveloc='./output', logscale=True, cmap= 'hsv', show_onef_line=True, grey_contour=True):\n",
    "    '''\n",
    "    THE Dong & Attick Plot (Dong & Attick 1995; fig 7) with heatmap added.\n",
    "    Produces three plots:\n",
    "        - Heatmap displying the joint spatial/temporal amplitude\n",
    "        - Samples from this plot along spatial and temporal lines:\n",
    "            * plots of spatial power spectrum along given temporal values\n",
    "            * plots of temporal spectrum along given spatial values\n",
    "\n",
    "    Parameters\n",
    "    ----------\n",
    "        power_spectrum:   2d numpy array of spatio/temporal power\n",
    "        fqspace:    1d numpy array of spatial frequency vals for spectrum\n",
    "        fqtime:   1d numpy array of temporal frequency vals for spectrum\n",
    "        nsamples: integer number of lines to plot for sampling plots\n",
    "        power (bool):   Are we calculating the power spectrum (default) or amplitude\n",
    "        psd (bool):     Normalize to power spectral density (default), or raw power?\n",
    "        figname (str):  String prefix to name of figure to be saved\n",
    "    \n",
    "    Returns:\n",
    "    --------\n",
    "        mftchunk\n",
    "        azmchunk\n",
    "        freqspace1d\n",
    "        freqspacefull\n",
    "        freqtime\n",
    "\n",
    "    '''\n",
    "    #dims got a little messed up. This is the quickest fix. Later go in and change idxs in code.\n",
    "    #power_spectrum = power_spectrum.T\n",
    "    \n",
    "    #calculate sampling positions\n",
    "    #space\n",
    "    space_end_offset = 1\n",
    "    space_end_sample = len(fqspace)-space_end_offset #sample everything for now\n",
    "    #time\n",
    "    time_end_offset = 1\n",
    "    time_end_sample = len(fqtime)-time_end_offset #sample everything for now\n",
    "    #joint\n",
    "    n_datpoints = len(fqspace)*len(fqtime)\n",
    "    \n",
    "    #colors for lines: generate by indexes in log coordinates.\n",
    "    spacesamplefqs_idx = np.round(np.geomspace(space_end_offset, space_end_sample,\n",
    "                                      nsamples),0).astype(int)\n",
    "    timesamplefqs_idx = np.round(np.geomspace(time_end_offset, time_end_sample,\n",
    "                                     nsamples),0).astype(int)\n",
    "\n",
    "    #spacecolors = np.array(['red', 'orange', 'green', 'blue', 'indigo'])#[::-1]\n",
    "    spacecolors = lambda x: plt.cm.get_cmap(cmap)(x / nsamples * 0.5 + 0.25)\n",
    "    timecolors = spacecolors\n",
    "\n",
    "    #make a grid\n",
    "    fig = plt.figure(figsize=(10,6))\n",
    "    full_grid = gsp.GridSpec(2,3)\n",
    "    \n",
    "    #layout of subplots\n",
    "    grid_hm = gsp.GridSpecFromSubplotSpec(1,1,subplot_spec=full_grid[0:2,0:2])\n",
    "    grid_time = gsp.GridSpecFromSubplotSpec(1,1,subplot_spec=full_grid[1,2])\n",
    "    grid_space = gsp.GridSpecFromSubplotSpec(1,1,subplot_spec=full_grid[0,2])\n",
    "    \n",
    "    #heatmap\n",
    "    axes_hm = plt.subplot(grid_hm[0])\n",
    "    \n",
    "    #take log\n",
    "    power_spectrum_d = np.log10(power_spectrum_a) - np.log10(power_spectrum_b)\n",
    "    \n",
    "    if(minmaxcolors[0] and minmaxcolors[1]):\n",
    "        minc = minmaxcolors[0]\n",
    "        maxc = minmaxcolors[1]\n",
    "    else:\n",
    "        minc = np.min(power_spectrum_d)\n",
    "        maxc = np.max(power_spectrum_d)\n",
    "        \n",
    "    clev = np.arange(minc,maxc,0.5)\n",
    "    hm = axes_hm.contourf(fqtime, fqspace, power_spectrum_d,\n",
    "                              clev,\n",
    "                              cmap='PiYG_r',\n",
    "                              norm=mpl.colors.DivergingNorm(vmin=minc, vcenter=0, vmax=maxc))\n",
    "    if(logscale):\n",
    "        axes_hm.set_xscale(\"log\") \n",
    "        axes_hm.set_yscale(\"log\")\n",
    "    axes_hm.set_xlabel('Temporal Frequency (cycles/sec)')\n",
    "    axes_hm.set_ylabel('Spatial Frequency (cycles/deg)')\n",
    "    axes_hm.xaxis.set_major_formatter(FormatStrFormatter('%.0f'))\n",
    "    axes_hm.yaxis.set_major_formatter(FormatStrFormatter('%.0f'))\n",
    "    axes_hm.set_title(f'{figname} Log Power') \n",
    "    \n",
    "    cb = plt.colorbar(hm, format='%.1f')\n",
    "    #tick_locator = mpl.ticker.MaxNLocator(nbins=5)\n",
    "    #cb.locator = tick_locator\n",
    "    #cb.update_ticks()\n",
    "    cb.ax.get_yaxis().labelpad = 15\n",
    "    cb.ax.set_ylabel('Differnece in Log Power', rotation=270)\n",
    "\n",
    "#     #add lines\n",
    "#     for s in range(nsamples):\n",
    "#         #lines in time\n",
    "#         axes_hm.axvline(fqtime[timesamplefqs_idx[s]],c=timecolors(s),ls='-')\n",
    "#         #lines in space\n",
    "#         axes_hm.axhline(fqspace[spacesamplefqs_idx[s]],c=spacecolors(s),ls='--')\n",
    "\n",
    "    #spaceplot\n",
    "    axes_space = plt.subplot(grid_space[0])\n",
    "    for i, tf_idx in enumerate(timesamplefqs_idx):\n",
    "        axes_space.semilogx(fqspace, power_spectrum_d[:,tf_idx],\n",
    "                        label='{0:0.1f} Hz'.format(fqtime[tf_idx]),\n",
    "                        c=timecolors(i))\n",
    "    \n",
    "    #print(np.log(np.max(power_spectrum)/fqspace))\n",
    "    if(show_onef_line):\n",
    "        fqs = fqspace[space_end_offset:space_end_sample]\n",
    "        onef = 1/(fqs) * np.min(power_spectrum_d[:,timesamplefqs_idx[-1]])\n",
    "        onef2 = 1/(fqs)**2 * np.max(power_spectrum_d[:,timesamplefqs_idx[0]])\n",
    "        axes_space.loglog(fqs, onef, c='black')\n",
    "        axes_space.plot(fqs, onef2, c='black')\n",
    "    \n",
    "    axes_space.set_title('Spatial Frequency')\n",
    "    axes_space.set_xlabel('cpd')\n",
    "    axes_space.set_ylabel(f'Power')\n",
    "    #axes_space.set_xlim(fqspace[1],fqspace[-1])\n",
    "    #axes_space.set_ylim(bottom=minc) #, top=maxc)\n",
    "    axes_space.xaxis.set_major_formatter(mpl.ticker.FormatStrFormatter('%d'))\n",
    "    axes_space.legend(fontsize=8)\n",
    "\n",
    "    #timeplot\n",
    "    axes_time = plt.subplot(grid_time[0])\n",
    "    for i, sf_idx in enumerate(spacesamplefqs_idx):\n",
    "        axes_time.semilogx(fqtime, power_spectrum_d[sf_idx,:],\n",
    "                       label='{0:0.1f} cpd'.format(fqspace[sf_idx]),\n",
    "                       c=spacecolors(i))\n",
    "        \n",
    "    if(show_onef_line):\n",
    "        fqs = fqtime[time_end_offset:time_end_sample]\n",
    "        onef = 1/(fqs) * np.min(power_spectrum_d[:,timesamplefqs_idx[-1]])\n",
    "        onef2 = 1/(fqs)**2 * np.max(power_spectrum_d[:,timesamplefqs_idx[0]])\n",
    "        axes_time.semilogx(fqs, onef, c='black')\n",
    "        axes_time.plot(fqs, onef2, c='black')\n",
    "        \n",
    "    axes_time.set_title('Temporal Frequency')\n",
    "    axes_time.set_xlabel('Hz')\n",
    "    axes_time.set_ylabel(f'Power')\n",
    "    #axes_time.set_xlim(fqtime[1],fqtime[-1])\n",
    "    #axes_time.set_ylim(bottom=minc) #, top= maxc)\n",
    "    axes_time.xaxis.set_major_formatter(mpl.ticker.FormatStrFormatter('%d'))\n",
    "    axes_time.legend(fontsize=8)\n",
    "\n",
    "    plt.tight_layout()\n",
    "    \n",
    "    plt.savefig(f'{saveloc}/Power_{figname}.png')"
   ]
  },
  {
   "cell_type": "markdown",
   "metadata": {},
   "source": [
    "## Compare Static & Body/Head"
   ]
  },
  {
   "cell_type": "code",
   "execution_count": null,
   "metadata": {},
   "outputs": [],
   "source": [
    "minc = np.min((np.log10(headbody_ps_2d)-np.log10(static_ps_2d),\n",
    "              np.log10(eye_ps_2d)-np.log10(static_ps_2d),\n",
    "              np.log10(eye_ps_2d)-np.log10(headbody_ps_2d)))\n",
    "maxc = np.max((np.log10(headbody_ps_2d)-np.log10(static_ps_2d),\n",
    "              np.log10(eye_ps_2d)-np.log10(static_ps_2d),\n",
    "              np.log10(eye_ps_2d)-np.log10(headbody_ps_2d)))\n",
    "mincabs = np.max((np.abs(minc), np.abs(maxc)))\n",
    "minc = -1*mincabs\n",
    "maxc = mincabs"
   ]
  },
  {
   "cell_type": "code",
   "execution_count": null,
   "metadata": {},
   "outputs": [],
   "source": [
    "da_plot_diff_power(headbody_ps_2d, static_ps_2d, fqs_space, fqs_time, \n",
    "                   show_onef_line=True, logscale=True,\n",
    "                  figname=f'Diff_Power_Headbody_minus_Static', \n",
    "                  saveloc=comparison_save_dir, grey_contour=False,\n",
    "                  minmaxcolors=(minc, maxc))"
   ]
  },
  {
   "cell_type": "markdown",
   "metadata": {},
   "source": [
    "## Compare Static & Eye"
   ]
  },
  {
   "cell_type": "code",
   "execution_count": null,
   "metadata": {},
   "outputs": [],
   "source": [
    "da_plot_diff_power(eye_ps_2d, static_ps_2d, fqs_space, fqs_time, show_onef_line=True, logscale=True,\n",
    "                  figname=f'Diff_Power_Eye_minus_Static', \n",
    "                  saveloc=comparison_save_dir, grey_contour=False,\n",
    "                    minmaxcolors=(minc, maxc))"
   ]
  },
  {
   "cell_type": "markdown",
   "metadata": {},
   "source": [
    "## Compare Body & Eye"
   ]
  },
  {
   "cell_type": "code",
   "execution_count": null,
   "metadata": {},
   "outputs": [],
   "source": [
    "da_plot_diff_power(eye_ps_2d, headbody_ps_2d, fqs_space, fqs_time, show_onef_line=True, logscale=True,\n",
    "                  figname=f'Diff_Power_Eye_minus_Headbody', \n",
    "                  saveloc=comparison_save_dir, grey_contour=False,\n",
    "                    minmaxcolors=(minc, maxc))"
   ]
  },
  {
   "cell_type": "markdown",
   "metadata": {},
   "source": [
    "## Velocities\n",
    "\n",
    "What velocities are present in these natural signals? How is this modulated by motion types introduced?\n"
   ]
  },
  {
   "cell_type": "code",
   "execution_count": null,
   "metadata": {},
   "outputs": [],
   "source": [
    "print(f'Spatial Freqs range from : {min(fqs_space):.2f} to {max(fqs_space):.2f}')\n",
    "print(f'Temporal Freqs range from : {min(fqs_time)} to {max(fqs_time)}')\n",
    "print(f'Max Velocity Represented is {max(fqs_time)/min(fqs_space):.2f} deg/sec')\n",
    "print(f'Max Velocity Represented is {min(fqs_time)/max(fqs_space):.2f} deg/sec')"
   ]
  },
  {
   "cell_type": "code",
   "execution_count": null,
   "metadata": {},
   "outputs": [],
   "source": [
    "xx, yy = np.meshgrid(fqs_time, fqs_space)\n",
    "velocity = xx/yy\n",
    "plt.pcolormesh(fqs_time, fqs_space, velocity,\n",
    "               norm=colors.LogNorm(vmin=velocity.min(), vmax=velocity.max()))\n",
    "plt.xscale(\"log\")\n",
    "plt.yscale(\"log\")\n",
    "plt.xlabel('Temporal Frequency')\n",
    "plt.ylabel('Spatial Frequency')\n",
    "plt.title('Velocities (cycles/sec)')\n",
    "plt.colorbar(format='%.1f')"
   ]
  },
  {
   "cell_type": "code",
   "execution_count": null,
   "metadata": {},
   "outputs": [],
   "source": [
    "imp.reload(stf)\n",
    "bil=False\n",
    "bins = 20\n",
    "retinal_bins, retinal_v_spectrum = stf.calc_velocity_spec(eye_ps_2d, fqs_space, fqs_time, nbins=bins, bin_in_log = bil)\n",
    "ego_bins, ego_v_spectrum = stf.calc_velocity_spec(headbody_ps_2d, fqs_space, fqs_time, nbins=bins, bin_in_log = bil)\n",
    "environment_bins, environment_v_spectrum = stf.calc_velocity_spec(static_ps_2d, fqs_space, fqs_time, nbins=bins, bin_in_log = bil)"
   ]
  },
  {
   "cell_type": "code",
   "execution_count": null,
   "metadata": {},
   "outputs": [],
   "source": [
    "logv = False\n",
    "stf.plot_velocity_spec(environment_bins[2:], environment_v_spectrum[2:], f'world', log_v=logv)\n",
    "stf.plot_velocity_spec(ego_bins[2:], ego_v_spectrum[2:], f'head', log_v=logv)\n",
    "stf.plot_velocity_spec(retinal_bins[2:], retinal_v_spectrum[2:], f'retinal', log_v=logv)\n",
    "plt.savefig(os.path.join(comparison_save_dir, f'Velocity_Spectrum_Comparison'))"
   ]
  },
  {
   "cell_type": "markdown",
   "metadata": {},
   "source": [
    "## Test Separability\n",
    "\n",
    "We need to determine how close this function is to a separable function. According to  Constantinou et al 2015, (https://arxiv.org/pdf/1509.07017.pdf) We can do this by determining how factorizable the covariance matrix is.\n",
    "\n",
    "Another reference is Simpson et al (https://www.ncbi.nlm.nih.gov/pmc/articles/PMC4203479/)\n",
    "\n",
    "A more common method is looking at the rank of the matrix using SVD\n",
    "\n",
    "The interesting relationship in the power spectrum (1/f law) is in log space. So take the log before running SVD. This also puts the values of the matrix to max 30 or so, which is more numerically stable for SVD (values before log are 10^15)"
   ]
  },
  {
   "cell_type": "code",
   "execution_count": null,
   "metadata": {},
   "outputs": [],
   "source": [
    "static_ps_2d_small = np.log(static_ps_2d)\n",
    "u,s,v = np.linalg.svd(static_ps_2d_small)\n",
    "\n",
    "plt.plot(u[0,:],label='first col')\n",
    "plt.plot(u[:,0],label='first row')\n",
    "plt.legend()\n",
    "plt.title('Eye Motion: U cols/rows')\n",
    "plt.show()\n",
    "\n",
    "print(f'Sigma Values: {[l for l in s[:5]]}')\n",
    "plt.plot(s[:20])\n",
    "plt.title('Static Camera: Sigma - first 30')"
   ]
  },
  {
   "cell_type": "code",
   "execution_count": null,
   "metadata": {},
   "outputs": [],
   "source": [
    "headbody_ps_2d_small = np.log(headbody_ps_2d)\n",
    "u,s,v = np.linalg.svd(headbody_ps_2d_small)\n",
    "\n",
    "plt.plot(u[0,:],label='first col')\n",
    "plt.plot(u[:,0],label='first row')\n",
    "plt.legend()\n",
    "plt.title('Eye Motion: U cols/rows')\n",
    "plt.show()\n",
    "\n",
    "print(f'Sigma Values: {[l for l in s[:5]]}')\n",
    "plt.plot(s[:20])\n",
    "plt.title('Head Body: Sigma - first 30')"
   ]
  },
  {
   "cell_type": "code",
   "execution_count": null,
   "metadata": {},
   "outputs": [],
   "source": [
    "eye_ps_2d_small = np.log(eye_ps_2d)\n",
    "u,s,v = np.linalg.svd(eye_ps_2d_small)\n",
    "\n",
    "plt.plot(u[0,:],label='first col')\n",
    "plt.plot(u[:,0],label='first row')\n",
    "plt.legend()\n",
    "plt.title('Eye Motion: U cols/rows')\n",
    "plt.show()\n",
    "\n",
    "print(f'Sigma Values: {[l for l in s[:5]]}')\n",
    "plt.plot(s[:20])\n",
    "plt.title('Sigma - first 30')"
   ]
  },
  {
   "cell_type": "markdown",
   "metadata": {},
   "source": [
    "We seem to be in the realm of 'sort-of' separable. The first SV is large, and the second and beyond are much smaller. But they are definitely not zero either. Looking at the first column (spatial frequency), there is some noise. There is a trend towards more separable as more motion is included."
   ]
  },
  {
   "cell_type": "code",
   "execution_count": null,
   "metadata": {},
   "outputs": [],
   "source": []
  },
  {
   "cell_type": "code",
   "execution_count": null,
   "metadata": {},
   "outputs": [],
   "source": []
  }
 ],
 "metadata": {
  "kernelspec": {
   "display_name": "Python 3",
   "language": "python",
   "name": "python3"
  },
  "language_info": {
   "codemirror_mode": {
    "name": "ipython",
    "version": 3
   },
   "file_extension": ".py",
   "mimetype": "text/x-python",
   "name": "python",
   "nbconvert_exporter": "python",
   "pygments_lexer": "ipython3",
   "version": "3.7.4"
  }
 },
 "nbformat": 4,
 "nbformat_minor": 4
}

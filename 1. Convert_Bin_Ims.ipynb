{
 "cells": [
  {
   "cell_type": "markdown",
   "metadata": {},
   "source": [
    "# Convert Bin Files to PNGs\n",
    "\n",
    "Frames are save in 200-frame .bin files to increase speed during collection. Before analyzing, its faster to save a whole set of .bin files to images.  \n",
    "\n",
    "Set this to run and leave it. It takes a LONG time."
   ]
  },
  {
   "cell_type": "markdown",
   "metadata": {},
   "source": [
    "## Fix Permissions\n",
    "When collecting, jupyter has to run as SUDO for keyboard communication. This makes some files and folders with sudo permissions, even for read. \n",
    "\n",
    "In Terminal:\n",
    "'sudo chmod -R 777 /data_repo/bravo'"
   ]
  },
  {
   "cell_type": "markdown",
   "metadata": {},
   "source": [
    "## Dependencies"
   ]
  },
  {
   "cell_type": "code",
   "execution_count": 1,
   "metadata": {},
   "outputs": [],
   "source": [
    "import os, stat\n",
    "import numpy as np\n",
    "import matplotlib.pyplot as plt\n",
    "import imp\n",
    "\n",
    "import utils.run_analysis as ana"
   ]
  },
  {
   "cell_type": "markdown",
   "metadata": {},
   "source": [
    "## Parameters\n",
    "\n",
    "*** NOTE: REALLY NEED TO CHECK ON THE VALUES FOR HORIZONTAL AND VERTICAL FOV ***"
   ]
  },
  {
   "cell_type": "code",
   "execution_count": 2,
   "metadata": {},
   "outputs": [],
   "source": [
    "base_dir = '/data_repo/bravo'\n",
    "data_dir = os.path.join(base_dir, 'raw_data')\n",
    "output_dir = os.path.join(base_dir, 'analysis')\n",
    "camera = 'buddy'\n",
    "\n",
    "fps = 200\n",
    "\n",
    "img_dims=(1544,2064)\n",
    "save_batchsize = 200"
   ]
  },
  {
   "cell_type": "markdown",
   "metadata": {},
   "source": [
    "## Specify Directories"
   ]
  },
  {
   "cell_type": "code",
   "execution_count": 3,
   "metadata": {},
   "outputs": [],
   "source": [
    "subject = 'buddy'\n",
    "trial = 'cellphone_1'\n",
    "camera = 'cy'\n",
    "trial_directory = os.path.join(data_dir, subject, trial, 'pre')\n",
    "camera_dir = os.path.join(trial_directory,'scene_camera')\n",
    "\n",
    "analysis_folder = os.path.join(output_dir, subject, trial,'')\n",
    "\n",
    "#three trace conditions: true, none, temporal_match, spatial_match \n",
    "trace='none'"
   ]
  },
  {
   "cell_type": "code",
   "execution_count": 4,
   "metadata": {},
   "outputs": [],
   "source": [
    "import cv2\n",
    "def convert_bin_pngs(filename, first_fnum, save_batchsize, save_folder,  dims=(1544,2064)):\n",
    "    '''\n",
    "    Take a file saved in .bin format from a ximea camera, and convert it to png images.\n",
    "    Parameters:\n",
    "        filename (str): file to be converted\n",
    "        save_folder (str): folder to save png files\n",
    "        im_shape (2pule ints): shape of image\n",
    "        img_format (str): Image format files are saved\n",
    "    Returns:\n",
    "        None\n",
    "    '''\n",
    "    nbytes = np.prod(dims)\n",
    "    \n",
    "    with open(filename, 'rb') as fn:\n",
    "        bs = fn.read(1)\n",
    "        for i in range(first_fnum, first_fnum+save_batchsize):\n",
    "            save_filepath = os.path.join(save_folder, f'frame_{i}.png')\n",
    "            binary_img = []\n",
    "            for b in range(nbytes):\n",
    "                binary_img.append(int.from_bytes(fn.read(1),'big'))\n",
    "            binary_img = np.array(binary_img)\n",
    "            cimage = cv2.flip(cv2.cvtColor(np.uint8(binary_img.reshape(dims)),cv2.COLOR_BayerGR2BGR),-1)\n",
    "            cv2.imwrite(save_filepath, cimage)\n"
   ]
  },
  {
   "cell_type": "code",
   "execution_count": 5,
   "metadata": {},
   "outputs": [],
   "source": [
    "def convert_trial_directory(camera_dir, camera, save_batchsize, analysis_folder):\n",
    "    frame_start = 0\n",
    "    bin_file = os.path.join(camera_dir,camera,f'frames_{frame_start}_{frame_start+save_batchsize-1}.bin')\n",
    "    cam_folder = os.path.join(analysis_folder,camera,'pngs')\n",
    "    try:\n",
    "        os.makedirs(cam_folder)\n",
    "    except:\n",
    "        print('already made cam folder!')\n",
    "\n",
    "    print(f'Converting bin to png for folder {os.path.join(camera_dir,camera)}')\n",
    "    print(f'Each * is {save_batchsize} frames...')\n",
    "    while(os.path.isfile(bin_file)):\n",
    "        print('*')\n",
    "        convert_bin_pngs(bin_file, frame_start, save_batchsize, cam_folder, dims=(1544,2064))\n",
    "        frame_start += save_batchsize\n",
    "        bin_file = os.path.join(camera_dir,camera,f'frames_{frame_start}_{frame_start+save_batchsize-1}.bin')\n",
    "    print('Done!')"
   ]
  },
  {
   "cell_type": "markdown",
   "metadata": {},
   "source": [
    "## Run on One Trial"
   ]
  },
  {
   "cell_type": "code",
   "execution_count": 6,
   "metadata": {},
   "outputs": [
    {
     "name": "stdout",
     "output_type": "stream",
     "text": [
      "Converting bin to png for folder /data_repo/bravo/raw_data/buddy/cellphone_1/pre/scene_camera/cy\n",
      "Each * is 200 frames...\n",
      "*\n",
      "*\n",
      "*\n",
      "*\n",
      "*\n",
      "*\n",
      "*\n",
      "*\n",
      "*\n",
      "*\n",
      "*\n",
      "*\n",
      "*\n",
      "*\n",
      "*\n",
      "*\n",
      "*\n",
      "*\n",
      "*\n",
      "*\n",
      "*\n",
      "*\n",
      "*\n",
      "*\n",
      "*\n",
      "*\n",
      "*\n",
      "*\n",
      "*\n",
      "*\n",
      "*\n",
      "*\n",
      "*\n",
      "*\n",
      "*\n",
      "*\n",
      "*\n",
      "*\n",
      "*\n",
      "*\n",
      "*\n",
      "*\n",
      "*\n",
      "*\n",
      "*\n",
      "*\n",
      "*\n",
      "*\n",
      "*\n",
      "*\n",
      "*\n",
      "*\n",
      "*\n",
      "*\n",
      "*\n",
      "*\n",
      "*\n",
      "*\n",
      "*\n",
      "*\n",
      "*\n",
      "Done!\n"
     ]
    }
   ],
   "source": [
    "convert_trial_directory(camera_dir, camera, save_batchsize, analysis_folder)"
   ]
  },
  {
   "cell_type": "markdown",
   "metadata": {},
   "source": [
    "## Run Script on All Trials"
   ]
  },
  {
   "cell_type": "code",
   "execution_count": 9,
   "metadata": {},
   "outputs": [
    {
     "name": "stdout",
     "output_type": "stream",
     "text": [
      "Converting bin to png for folder /data_repo/bravo/raw_data/buddy/chat_1/pre/scene_camera/cy\n",
      "Each * is 200 frames...\n",
      "*\n"
     ]
    },
    {
     "ename": "KeyboardInterrupt",
     "evalue": "",
     "output_type": "error",
     "traceback": [
      "\u001b[0;31m---------------------------------------------------------------------------\u001b[0m",
      "\u001b[0;31mKeyboardInterrupt\u001b[0m                         Traceback (most recent call last)",
      "\u001b[0;32m<ipython-input-9-2d8d165bb045>\u001b[0m in \u001b[0;36m<module>\u001b[0;34m\u001b[0m\n\u001b[1;32m     11\u001b[0m         \u001b[0mcamera_dir\u001b[0m \u001b[0;34m=\u001b[0m \u001b[0mos\u001b[0m\u001b[0;34m.\u001b[0m\u001b[0mpath\u001b[0m\u001b[0;34m.\u001b[0m\u001b[0mjoin\u001b[0m\u001b[0;34m(\u001b[0m\u001b[0mbase_dir\u001b[0m\u001b[0;34m,\u001b[0m\u001b[0;34m'raw_data'\u001b[0m\u001b[0;34m,\u001b[0m \u001b[0msubject\u001b[0m\u001b[0;34m,\u001b[0m \u001b[0mtrial\u001b[0m\u001b[0;34m,\u001b[0m\u001b[0;34m'pre'\u001b[0m\u001b[0;34m,\u001b[0m\u001b[0;34m'scene_camera'\u001b[0m\u001b[0;34m)\u001b[0m\u001b[0;34m\u001b[0m\u001b[0;34m\u001b[0m\u001b[0m\n\u001b[1;32m     12\u001b[0m         \u001b[0manalysis_folder\u001b[0m \u001b[0;34m=\u001b[0m \u001b[0mos\u001b[0m\u001b[0;34m.\u001b[0m\u001b[0mpath\u001b[0m\u001b[0;34m.\u001b[0m\u001b[0mjoin\u001b[0m\u001b[0;34m(\u001b[0m\u001b[0moutput_dir\u001b[0m\u001b[0;34m,\u001b[0m \u001b[0msubject\u001b[0m\u001b[0;34m,\u001b[0m \u001b[0mtrial\u001b[0m\u001b[0;34m)\u001b[0m\u001b[0;34m\u001b[0m\u001b[0;34m\u001b[0m\u001b[0m\n\u001b[0;32m---> 13\u001b[0;31m         \u001b[0mconvert_trial_directory\u001b[0m\u001b[0;34m(\u001b[0m\u001b[0mcamera_dir\u001b[0m\u001b[0;34m,\u001b[0m \u001b[0mcamera\u001b[0m\u001b[0;34m,\u001b[0m \u001b[0msave_batchsize\u001b[0m\u001b[0;34m,\u001b[0m \u001b[0manalysis_folder\u001b[0m\u001b[0;34m)\u001b[0m\u001b[0;34m\u001b[0m\u001b[0;34m\u001b[0m\u001b[0m\n\u001b[0m",
      "\u001b[0;32m<ipython-input-8-baf79b76d1dc>\u001b[0m in \u001b[0;36mconvert_trial_directory\u001b[0;34m(camera_dir, camera, save_batchsize, analysis_folder)\u001b[0m\n\u001b[1;32m     12\u001b[0m     \u001b[0;32mwhile\u001b[0m\u001b[0;34m(\u001b[0m\u001b[0mos\u001b[0m\u001b[0;34m.\u001b[0m\u001b[0mpath\u001b[0m\u001b[0;34m.\u001b[0m\u001b[0misfile\u001b[0m\u001b[0;34m(\u001b[0m\u001b[0mbin_file\u001b[0m\u001b[0;34m)\u001b[0m\u001b[0;34m)\u001b[0m\u001b[0;34m:\u001b[0m\u001b[0;34m\u001b[0m\u001b[0;34m\u001b[0m\u001b[0m\n\u001b[1;32m     13\u001b[0m         \u001b[0mprint\u001b[0m\u001b[0;34m(\u001b[0m\u001b[0;34m'*'\u001b[0m\u001b[0;34m)\u001b[0m\u001b[0;34m\u001b[0m\u001b[0;34m\u001b[0m\u001b[0m\n\u001b[0;32m---> 14\u001b[0;31m         \u001b[0mconvert_bin_pngs\u001b[0m\u001b[0;34m(\u001b[0m\u001b[0mbin_file\u001b[0m\u001b[0;34m,\u001b[0m \u001b[0mframe_start\u001b[0m\u001b[0;34m,\u001b[0m \u001b[0msave_batchsize\u001b[0m\u001b[0;34m,\u001b[0m \u001b[0mcam_folder\u001b[0m\u001b[0;34m,\u001b[0m \u001b[0mdims\u001b[0m\u001b[0;34m=\u001b[0m\u001b[0;34m(\u001b[0m\u001b[0;36m1544\u001b[0m\u001b[0;34m,\u001b[0m\u001b[0;36m2064\u001b[0m\u001b[0;34m)\u001b[0m\u001b[0;34m)\u001b[0m\u001b[0;34m\u001b[0m\u001b[0;34m\u001b[0m\u001b[0m\n\u001b[0m\u001b[1;32m     15\u001b[0m         \u001b[0mframe_start\u001b[0m \u001b[0;34m+=\u001b[0m \u001b[0msave_batchsize\u001b[0m\u001b[0;34m\u001b[0m\u001b[0;34m\u001b[0m\u001b[0m\n\u001b[1;32m     16\u001b[0m         \u001b[0mbin_file\u001b[0m \u001b[0;34m=\u001b[0m \u001b[0mos\u001b[0m\u001b[0;34m.\u001b[0m\u001b[0mpath\u001b[0m\u001b[0;34m.\u001b[0m\u001b[0mjoin\u001b[0m\u001b[0;34m(\u001b[0m\u001b[0mcamera_dir\u001b[0m\u001b[0;34m,\u001b[0m\u001b[0mcamera\u001b[0m\u001b[0;34m,\u001b[0m\u001b[0;34mf'frames_{frame_start}_{frame_start+save_batchsize-1}.bin'\u001b[0m\u001b[0;34m)\u001b[0m\u001b[0;34m\u001b[0m\u001b[0;34m\u001b[0m\u001b[0m\n",
      "\u001b[0;32m<ipython-input-7-64febf085ca9>\u001b[0m in \u001b[0;36mconvert_bin_pngs\u001b[0;34m(filename, first_fnum, save_batchsize, save_folder, dims)\u001b[0m\n\u001b[1;32m     21\u001b[0m                 \u001b[0mbinary_img\u001b[0m\u001b[0;34m.\u001b[0m\u001b[0mappend\u001b[0m\u001b[0;34m(\u001b[0m\u001b[0mint\u001b[0m\u001b[0;34m.\u001b[0m\u001b[0mfrom_bytes\u001b[0m\u001b[0;34m(\u001b[0m\u001b[0mfn\u001b[0m\u001b[0;34m.\u001b[0m\u001b[0mread\u001b[0m\u001b[0;34m(\u001b[0m\u001b[0;36m1\u001b[0m\u001b[0;34m)\u001b[0m\u001b[0;34m,\u001b[0m\u001b[0;34m'big'\u001b[0m\u001b[0;34m)\u001b[0m\u001b[0;34m)\u001b[0m\u001b[0;34m\u001b[0m\u001b[0;34m\u001b[0m\u001b[0m\n\u001b[1;32m     22\u001b[0m             \u001b[0mbinary_img\u001b[0m \u001b[0;34m=\u001b[0m \u001b[0mnp\u001b[0m\u001b[0;34m.\u001b[0m\u001b[0marray\u001b[0m\u001b[0;34m(\u001b[0m\u001b[0mbinary_img\u001b[0m\u001b[0;34m)\u001b[0m\u001b[0;34m\u001b[0m\u001b[0;34m\u001b[0m\u001b[0m\n\u001b[0;32m---> 23\u001b[0;31m             \u001b[0mcimage\u001b[0m \u001b[0;34m=\u001b[0m \u001b[0mcv2\u001b[0m\u001b[0;34m.\u001b[0m\u001b[0mflip\u001b[0m\u001b[0;34m(\u001b[0m\u001b[0mcv2\u001b[0m\u001b[0;34m.\u001b[0m\u001b[0mcvtColor\u001b[0m\u001b[0;34m(\u001b[0m\u001b[0mnp\u001b[0m\u001b[0;34m.\u001b[0m\u001b[0muint8\u001b[0m\u001b[0;34m(\u001b[0m\u001b[0mbinary_img\u001b[0m\u001b[0;34m.\u001b[0m\u001b[0mreshape\u001b[0m\u001b[0;34m(\u001b[0m\u001b[0mdims\u001b[0m\u001b[0;34m)\u001b[0m\u001b[0;34m)\u001b[0m\u001b[0;34m,\u001b[0m\u001b[0mcv2\u001b[0m\u001b[0;34m.\u001b[0m\u001b[0mCOLOR_BayerGR2BGR\u001b[0m\u001b[0;34m)\u001b[0m\u001b[0;34m,\u001b[0m\u001b[0;34m-\u001b[0m\u001b[0;36m1\u001b[0m\u001b[0;34m)\u001b[0m\u001b[0;34m\u001b[0m\u001b[0;34m\u001b[0m\u001b[0m\n\u001b[0m\u001b[1;32m     24\u001b[0m             \u001b[0mcv2\u001b[0m\u001b[0;34m.\u001b[0m\u001b[0mimwrite\u001b[0m\u001b[0;34m(\u001b[0m\u001b[0msave_filepath\u001b[0m\u001b[0;34m,\u001b[0m \u001b[0mcimage\u001b[0m\u001b[0;34m)\u001b[0m\u001b[0;34m\u001b[0m\u001b[0;34m\u001b[0m\u001b[0m\n",
      "\u001b[0;31mKeyboardInterrupt\u001b[0m: "
     ]
    }
   ],
   "source": [
    "import itertools as it\n",
    "subjects = ['buddy']\n",
    "tasks = ['chat','book','cellphone','laptop']\n",
    "repititions = ['1']\n",
    "iterator = it.product(subjects, tasks, repititions)\n",
    "\n",
    "for iteration in iterator:\n",
    "    subject, task, rep = iteration\n",
    "    trial = f'{task}_{rep}'\n",
    "    if(os.path.isdir(os.path.join(base_dir,'raw_data', subject, trial))):\n",
    "        camera_dir = os.path.join(base_dir,'raw_data', subject, trial,'pre','scene_camera')\n",
    "        analysis_folder = os.path.join(output_dir, subject, trial)\n",
    "        convert_trial_directory(camera_dir, camera, save_batchsize, analysis_folder)"
   ]
  },
  {
   "cell_type": "code",
   "execution_count": null,
   "metadata": {},
   "outputs": [],
   "source": []
  },
  {
   "cell_type": "code",
   "execution_count": null,
   "metadata": {},
   "outputs": [],
   "source": []
  }
 ],
 "metadata": {
  "kernelspec": {
   "display_name": "Python 3",
   "language": "python",
   "name": "python3"
  },
  "language_info": {
   "codemirror_mode": {
    "name": "ipython",
    "version": 3
   },
   "file_extension": ".py",
   "mimetype": "text/x-python",
   "name": "python",
   "nbconvert_exporter": "python",
   "pygments_lexer": "ipython3",
   "version": "3.7.4"
  }
 },
 "nbformat": 4,
 "nbformat_minor": 4
}

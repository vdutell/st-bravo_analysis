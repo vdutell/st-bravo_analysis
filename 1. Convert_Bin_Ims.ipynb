{
 "cells": [
  {
   "cell_type": "markdown",
   "metadata": {},
   "source": [
    "# Convert Bin Files to PNGs\n",
    "\n",
    "Frames are save in 200-frame .bin files to increase speed during collection. Before analyzing, its faster to save a whole set of .bin files to images.  \n",
    "\n",
    "Set this to run and leave it. It takes a LONG time."
   ]
  },
  {
   "cell_type": "markdown",
   "metadata": {},
   "source": [
    "## Fix Permissions\n",
    "When collecting, jupyter has to run as SUDO for keyboard communication. This makes some files and folders with sudo permissions, even for read. \n",
    "\n",
    "In Terminal:\n",
    "'sudo chmod -R 777 /data_repo/bravo'"
   ]
  },
  {
   "cell_type": "markdown",
   "metadata": {},
   "source": [
    "## Dependencies"
   ]
  },
  {
   "cell_type": "code",
   "execution_count": 1,
   "metadata": {},
   "outputs": [],
   "source": [
    "import os, stat\n",
    "import numpy as np\n",
    "import matplotlib.pyplot as plt\n",
    "import imp\n",
    "\n",
    "#import utils.run_analysis as ana"
   ]
  },
  {
   "cell_type": "markdown",
   "metadata": {},
   "source": [
    "## Parameters\n",
    "\n",
    "*** NOTE: REALLY NEED TO CHECK ON THE VALUES FOR HORIZONTAL AND VERTICAL FOV ***"
   ]
  },
  {
   "cell_type": "code",
   "execution_count": 2,
   "metadata": {},
   "outputs": [],
   "source": [
    "base_dir = '/hmet_data/calibration/'\n",
    "data_dir = os.path.join(base_dir, 'raw')\n",
    "png_dir = os.path.join(base_dir, 'pngs')\n",
    "\n",
    "fps = 200\n",
    "img_dims=(1544,2064)\n",
    "\n",
    "save_batchsize = 400"
   ]
  },
  {
   "cell_type": "markdown",
   "metadata": {},
   "source": [
    "## Specify Directories"
   ]
  },
  {
   "cell_type": "code",
   "execution_count": 3,
   "metadata": {},
   "outputs": [
    {
     "data": {
      "text/html": [
       "<div>\n",
       "<style scoped>\n",
       "    .dataframe tbody tr th:only-of-type {\n",
       "        vertical-align: middle;\n",
       "    }\n",
       "\n",
       "    .dataframe tbody tr th {\n",
       "        vertical-align: top;\n",
       "    }\n",
       "\n",
       "    .dataframe thead th {\n",
       "        text-align: right;\n",
       "    }\n",
       "</style>\n",
       "<table border=\"1\" class=\"dataframe\">\n",
       "  <thead>\n",
       "    <tr style=\"text-align: right;\">\n",
       "      <th></th>\n",
       "      <th>folder</th>\n",
       "      <th>trial</th>\n",
       "      <th>task</th>\n",
       "      <th>iter</th>\n",
       "      <th>subject</th>\n",
       "      <th>calibration_trial</th>\n",
       "      <th>trace_key</th>\n",
       "      <th>wb_trial</th>\n",
       "      <th>start_sec</th>\n",
       "      <th>end_sec</th>\n",
       "      <th>notes</th>\n",
       "    </tr>\n",
       "  </thead>\n",
       "  <tbody>\n",
       "    <tr>\n",
       "      <th>0</th>\n",
       "      <td>2020_11_24</td>\n",
       "      <td>0</td>\n",
       "      <td>calibration</td>\n",
       "      <td>2</td>\n",
       "      <td>bu</td>\n",
       "      <td>NaN</td>\n",
       "      <td>NaN</td>\n",
       "      <td>NaN</td>\n",
       "      <td>0</td>\n",
       "      <td>NaN</td>\n",
       "      <td>NaN</td>\n",
       "    </tr>\n",
       "  </tbody>\n",
       "</table>\n",
       "</div>"
      ],
      "text/plain": [
       "       folder  trial         task  iter subject  calibration_trial  trace_key  \\\n",
       "0  2020_11_24      0  calibration     2      bu                NaN        NaN   \n",
       "\n",
       "   wb_trial  start_sec  end_sec  notes  \n",
       "0       NaN          0      NaN    NaN  "
      ]
     },
     "execution_count": 3,
     "metadata": {},
     "output_type": "execute_result"
    }
   ],
   "source": [
    "import pandas as pd\n",
    "\n",
    "trial_list_file = './trial_lists/trial_list_calibration_2.csv'\n",
    "\n",
    "trials = pd.read_csv(trial_list_file)\n",
    "trials"
   ]
  },
  {
   "cell_type": "code",
   "execution_count": 4,
   "metadata": {},
   "outputs": [],
   "source": [
    "import cv2\n",
    "def convert_bin_pngs(filename, first_fnum, save_batchsize, save_folder,  dims=(1544,2064)):\n",
    "    '''\n",
    "    Take a file saved in .bin format from a ximea camera, and convert it to png images.\n",
    "    Parameters:\n",
    "        filename (str): file to be converted\n",
    "        save_folder (str): folder to save png files\n",
    "        im_shape (2pule ints): shape of image\n",
    "        img_format (str): Image format files are saved\n",
    "    Returns:\n",
    "        None\n",
    "    '''\n",
    "    nbytes = np.prod(dims)\n",
    "    \n",
    "    with open(filename, 'rb') as fn:\n",
    "        bs = fn.read(1)\n",
    "        for i in range(first_fnum, first_fnum+save_batchsize):\n",
    "            save_filepath = os.path.join(save_folder, f'frame_{i}.png')\n",
    "            binary_img = []\n",
    "            for b in range(nbytes):\n",
    "                binary_img.append(int.from_bytes(fn.read(1),'big'))\n",
    "            binary_img = np.array(binary_img)\n",
    "            cimage = cv2.flip(cv2.cvtColor(np.uint8(binary_img.reshape(dims)),cv2.COLOR_BayerGR2BGR),-1)\n",
    "            cv2.imwrite(save_filepath, cimage)\n"
   ]
  },
  {
   "cell_type": "code",
   "execution_count": 5,
   "metadata": {},
   "outputs": [],
   "source": [
    "from pathlib import Path\n",
    "def convert_trial_directory(data_dir, png_dir, trial_list_file, idx, save_batchsize):\n",
    "    ''' Convert a single trial from .bin to .png images This runs for a LONG time'''\n",
    "    \n",
    "    trials = pd.read_csv(trial_list_file)\n",
    "    line = trials.iloc[idx]\n",
    "    \n",
    "    bin_folder = os.path.join(data_dir,\n",
    "                          line['folder'],\n",
    "                          str(line['trial']).zfill(3),\n",
    "                          'ximea', 'ximea')\n",
    "    png_folder = os.path.join(png_dir,\n",
    "                          line['task'],\n",
    "                          line['subject'],\n",
    "                          str(line['iter'])\n",
    "                         )\n",
    "    Path(png_folder).mkdir(parents=True, exist_ok=True)\n",
    "    \n",
    "    #cam_folder = os.path.join(analysis_folder,camera,'pngs')\n",
    "        \n",
    "    print(f'Converting bin to png for folders {bin_folder, png_folder}')\n",
    "    print(f'Each * is {save_batchsize} frames...')\n",
    "    frame_start = 0\n",
    "    bin_file = os.path.join(bin_folder,f'frames_{frame_start}_{frame_start+save_batchsize-1}.bin')\n",
    "    print(bin_file)\n",
    "    while(os.path.isfile(bin_file)):\n",
    "        print('*')\n",
    "        convert_bin_pngs(bin_file, frame_start, save_batchsize, png_folder, dims=(1544,2064))\n",
    "        frame_start += save_batchsize\n",
    "        bin_file = os.path.join(bin_folder,f'frames_{frame_start}_{frame_start+save_batchsize-1}.bin')\n",
    "    print('Done!')"
   ]
  },
  {
   "cell_type": "code",
   "execution_count": 6,
   "metadata": {},
   "outputs": [
    {
     "name": "stdout",
     "output_type": "stream",
     "text": [
      "Converting bin to png for folders ('/hmet_data/calibration/raw/2020_11_24/000/ximea/ximea', '/hmet_data/calibration/pngs/calibration/bu/2')\n",
      "Each * is 400 frames...\n",
      "/hmet_data/calibration/raw/2020_11_24/000/ximea/ximea/frames_0_399.bin\n",
      "*\n",
      "*\n",
      "*\n",
      "*\n",
      "Done!\n"
     ]
    }
   ],
   "source": [
    "convert_trial_directory(data_dir, png_dir, trial_list_file, 0, save_batchsize)"
   ]
  },
  {
   "cell_type": "code",
   "execution_count": null,
   "metadata": {},
   "outputs": [],
   "source": []
  }
 ],
 "metadata": {
  "kernelspec": {
   "display_name": "Python 3",
   "language": "python",
   "name": "python3"
  },
  "language_info": {
   "codemirror_mode": {
    "name": "ipython",
    "version": 3
   },
   "file_extension": ".py",
   "mimetype": "text/x-python",
   "name": "python",
   "nbconvert_exporter": "python",
   "pygments_lexer": "ipython3",
   "version": "3.7.9"
  }
 },
 "nbformat": 4,
 "nbformat_minor": 4
}

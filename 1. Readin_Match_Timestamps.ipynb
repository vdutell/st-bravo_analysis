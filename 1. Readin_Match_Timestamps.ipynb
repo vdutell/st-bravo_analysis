{
 "cells": [
  {
   "cell_type": "markdown",
   "metadata": {},
   "source": [
    "# Readin Timestamps and Match to a Common Timeframe\n",
    "\n",
    "Because both the camera and eye trackers are in free-run mode rather than triggered, we have to match the timestamps between the multiple collection devices post-hoc.  This involves first converting their timestamps from internal device time to Unix time. Next, we create a common timestamp set that is uniformly measured in time. Finally, we match each device time to its nearest common timestamp time, repeating a frame in the case of dropped frames. \n"
   ]
  },
  {
   "cell_type": "markdown",
   "metadata": {},
   "source": [
    "## Dependencies"
   ]
  },
  {
   "cell_type": "code",
   "execution_count": 1,
   "metadata": {},
   "outputs": [],
   "source": [
    "import os, stat\n",
    "import numpy as np\n",
    "import utils.run_analysis as ana\n",
    "import matplotlib.pyplot as plt\n",
    "import datatable as dt\n"
   ]
  },
  {
   "cell_type": "markdown",
   "metadata": {},
   "source": [
    "## Parameters"
   ]
  },
  {
   "cell_type": "code",
   "execution_count": 2,
   "metadata": {},
   "outputs": [],
   "source": [
    "base_dir = '/data_repo/bravo'\n",
    "data_dir = os.path.join(base_dir, 'raw_data')\n",
    "output_dir = os.path.join(base_dir, 'analysis')\n",
    "target_fps = 200\n"
   ]
  },
  {
   "cell_type": "markdown",
   "metadata": {},
   "source": [
    "## Fix Permissions\n",
    "When collecting, jupyter has to run as SUDO for keyboard communication. This makes some files and folders with sudo permissions, even for read. \n",
    "\n",
    "In Terminal:\n",
    "'sudo chmod -R 777 /data_repo/bravo'"
   ]
  },
  {
   "cell_type": "markdown",
   "metadata": {},
   "source": [
    "## Specify Directories for Exmaple"
   ]
  },
  {
   "cell_type": "code",
   "execution_count": 3,
   "metadata": {},
   "outputs": [
    {
     "name": "stdout",
     "output_type": "stream",
     "text": [
      "Folder Already Made!\n"
     ]
    }
   ],
   "source": [
    "example_subject = 'jf'\n",
    "example_trial = 'cell_phone_1'\n",
    "example_camera = 'cy'\n",
    "trial_directory = os.path.join(data_dir, example_subject, example_trial, 'pre')\n",
    "\n",
    "#ximea (scene cameras)\n",
    "ximea_timestamp_file = os.path.join(trial_directory, 'scene_camera', f'timestamps_{example_camera}.tsv')\n",
    "ximea_timesync_file = os.path.join(trial_directory, 'scene_camera', f'timestamp_camsync_{example_camera}.tsv')\n",
    "\n",
    "#pupil (eye cameras)\n",
    "#pupil_timestamp_file = os.path.join(trial_directory, 'eye_camera','000', 'pupil_timestamps.npy')\n",
    "pupil_timestamp_file = os.path.join(trial_directory, 'eye_camera','000','exports','000','pupil_positions.csv')\n",
    "pupil_annotations_file = os.path.join(trial_directory, 'eye_camera','000', 'annotation_timestamps.npy')\n",
    "\n",
    "analysis_folder = os.path.join(output_dir, example_subject, example_trial,'')\n",
    "try:\n",
    "    os.makedirs(analysis_folder)\n",
    "except:\n",
    "    print('Folder Already Made!')"
   ]
  },
  {
   "cell_type": "markdown",
   "metadata": {},
   "source": [
    "## Convert to unified wall clock time\n",
    "\n",
    "Ximea cameras collect in camera time. We need to sync this to Unix time"
   ]
  },
  {
   "cell_type": "code",
   "execution_count": 4,
   "metadata": {},
   "outputs": [
    {
     "name": "stdout",
     "output_type": "stream",
     "text": [
      "Time Elapsed: 135.3787317276001 seconds\n",
      "Time Drift pre to post: 0.018285096399949907 seconds\n",
      "1574810720.7608986\n"
     ]
    }
   ],
   "source": [
    "ximea_timestamps = ana.convert_ximea_time_to_unix_time(ximea_timestamp_file, ximea_timesync_file)\n",
    "\n",
    "ximea_timestamp_converted_path = os.path.join(analysis_folder,f'timestamps_converted_{example_camera}.tsv')\n",
    "\n",
    "#np.savetxt(od_ximea_timestamp_converted_path, od_ximea_timestamps, fmt='%10.5f', delimiter='\\t')\n",
    "np.savetxt(ximea_timestamp_converted_path, ximea_timestamps, fmt='%10.5f', delimiter='\\t')"
   ]
  },
  {
   "cell_type": "markdown",
   "metadata": {},
   "source": [
    "## Get Pupil Labs Worldcam Calibrated Data\n",
    "\n",
    "Use Converted Pupil Labs Data Structure. This gaze data has been aligned in world cam (Realsense) coordinates. To do this, after recording, drag the pupil labs folder ('000') into pupilplayer, then export. This wil create a few new files in the 000 folder, as well as an 'exports' folder with these converted files inside.   \n",
    "\n",
    "The generated 'pupil_gaze_positions.txt' file contains a wealth of information explaining the generated files and how to interpret them.  \n",
    "\n",
    "Specifically, for the 'norm_position_x' and y, we need to map the coordinate system to world camera coordinates.\n",
    "\"We use a normalized coordinate system with the origin 0,0 at the bottom left and 1,1 at the top right\""
   ]
  },
  {
   "cell_type": "code",
   "execution_count": 5,
   "metadata": {},
   "outputs": [
    {
     "data": {
      "text/html": [
       "<style type='text/css'>\n",
       ".datatable table.frame { margin-bottom: 0; }\n",
       ".datatable table.frame thead { border-bottom: none; }\n",
       ".datatable table.frame tr.coltypes td {  color: #FFFFFF;  line-height: 6px;  padding: 0 0.5em;}\n",
       ".datatable .bool { background: #DDDD99; }\n",
       ".datatable .obj  { background: #565656; }\n",
       ".datatable .int  { background: #5D9E5D; }\n",
       ".datatable .real { background: #4040CC; }\n",
       ".datatable .str  { background: #CC4040; }\n",
       ".datatable .row_index {  background: var(--jp-border-color3);  border-right: 1px solid var(--jp-border-color0);  color: var(--jp-ui-font-color3);  font-size: 9px;}\n",
       ".datatable .frame tr.coltypes .row_index {  background: var(--jp-border-color0);}\n",
       ".datatable th:nth-child(2) { padding-left: 12px; }\n",
       ".datatable .hellipsis {  color: var(--jp-cell-editor-border-color);}\n",
       ".datatable .vellipsis {  background: var(--jp-layout-color0);  color: var(--jp-cell-editor-border-color);}\n",
       ".datatable .na {  color: var(--jp-cell-editor-border-color);  font-size: 80%;}\n",
       ".datatable .footer { font-size: 9px; }\n",
       ".datatable .frame_dimensions {  background: var(--jp-border-color3);  border-top: 1px solid var(--jp-border-color0);  color: var(--jp-ui-font-color3);  display: inline-block;  opacity: 0.6;  padding: 1px 10px 1px 5px;}\n",
       ".datatable .frame thead tr.colnames {  background-image: url('data:image/png;base64,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');  background-repeat: repeat-x;  background-size: 14px;  height: 28px;}\n",
       "</style>\n",
       "<div class='datatable'>\n",
       "  <table class='frame'>\n",
       "  <thead>\n",
       "    <tr class='colnames'><td class='row_index'></td><th>pupil_timestamp</th><th>world_index</th><th>eye_id</th><th>norm_pos_x</th><th>norm_pos_y</th></tr>\n",
       "    <tr class='coltypes'><td class='row_index'></td><td class='real' title='float64'>&#x25AA;&#x25AA;&#x25AA;&#x25AA;&#x25AA;&#x25AA;&#x25AA;&#x25AA;</td><td class='int' title='int32'>&#x25AA;&#x25AA;&#x25AA;&#x25AA;</td><td class='bool' title='bool8'>&#x25AA;</td><td class='real' title='float64'>&#x25AA;&#x25AA;&#x25AA;&#x25AA;&#x25AA;&#x25AA;&#x25AA;&#x25AA;</td><td class='real' title='float64'>&#x25AA;&#x25AA;&#x25AA;&#x25AA;&#x25AA;&#x25AA;&#x25AA;&#x25AA;</td></tr>\n",
       "  </thead>\n",
       "  <tbody>\n",
       "    <tr><td class='row_index'>0</td><td>1.57481e+09</td><td>0</td><td>0</td><td>0.55147</td><td>0.644426</td></tr>\n",
       "    <tr><td class='row_index'>1</td><td>1.57481e+09</td><td>0</td><td>1</td><td>0.31347</td><td>0.673982</td></tr>\n",
       "    <tr><td class='row_index'>2</td><td>1.57481e+09</td><td>0</td><td>1</td><td>0.313451</td><td>0.674713</td></tr>\n",
       "    <tr><td class='row_index'>3</td><td>1.57481e+09</td><td>0</td><td>0</td><td>0.551234</td><td>0.644198</td></tr>\n",
       "    <tr><td class='row_index'>4</td><td>1.57481e+09</td><td>0</td><td>1</td><td>0.313698</td><td>0.674803</td></tr>\n",
       "  </tbody>\n",
       "  </table>\n",
       "  <div class='footer'>\n",
       "    <div class='frame_dimensions'>5 rows &times; 5 columns</div>\n",
       "  </div>\n",
       "</div>\n"
      ],
      "text/plain": []
     },
     "execution_count": 5,
     "metadata": {},
     "output_type": "execute_result"
    }
   ],
   "source": [
    "pupil_positions = dt.fread(pupil_timestamp_file)\n",
    "\n",
    "pupil_positions = pupil_positions[:,[0,1,2,4,5]]\n",
    "pupil_positions[:5,:]"
   ]
  },
  {
   "cell_type": "code",
   "execution_count": 6,
   "metadata": {},
   "outputs": [],
   "source": [
    "pupil_eye_0 = np.array(pupil_positions)[np.where(np.array(pupil_positions)[:,2]==0)[0],:]\n",
    "pupil_eye_1 = np.array(pupil_positions)[np.where(np.array(pupil_positions)[:,2]==1)[0],:]"
   ]
  },
  {
   "cell_type": "markdown",
   "metadata": {},
   "source": [
    "## How Many Frames Were Lost/Skipped?"
   ]
  },
  {
   "cell_type": "code",
   "execution_count": 7,
   "metadata": {},
   "outputs": [
    {
     "data": {
      "text/plain": [
       "<matplotlib.legend.Legend at 0x7f6b2ee945d0>"
      ]
     },
     "execution_count": 7,
     "metadata": {},
     "output_type": "execute_result"
    },
    {
     "data": {
      "image/png": "[encoded data removed]",
      "text/plain": [
       "<Figure size 576x576 with 1 Axes>"
      ]
     },
     "metadata": {
      "needs_background": "light"
     },
     "output_type": "display_data"
    }
   ],
   "source": [
    "pupil_num='000'\n",
    "\n",
    "pupil_ts_eye0 = pupil_eye_0[:,0]\n",
    "pupil_ts_eye1 = pupil_eye_1[:,0]\n",
    "\n",
    "#pupil_ts_gaze = np.load(os.path.join(pupil_save_dir_name, pupil_num, 'gaze_timestamps.npy'))\n",
    "#pupil_ts_eye0 = np.load(os.path.join(pupil_save_dir_name, pupil_num, 'eye0_timestamps.npy'))\n",
    "#pupil_ts_eye1 = np.load(os.path.join(pupil_save_dir_name, pupil_num, 'eye1_timestamps.npy'))\n",
    "pupil_annotations = np.load(pupil_annotations_file)\n",
    "\n",
    "#ximea timestamps\n",
    "with open(ximea_timestamp_converted_path, 'r') as f:\n",
    "    timestamps_ximea = list(zip(line.strip().split('\\t') for line in f))\n",
    "    timestamps_ximea = np.squeeze(np.array(timestamps_ximea[1:]).astype('float'))\n",
    "    timestamps_ximea = timestamps_ximea[:,-1]\n",
    "\n",
    "linear_ximea = np.arange(0,len(timestamps_ximea)*0.005, 0.005)+timestamps_ximea[0]\n",
    "linear_pupil = np.arange(0, len(timestamps_ximea)*0.005, 0.005)+pupil_ts_eye0[0]\n",
    "\n",
    "plt.figure(figsize=(8,8))\n",
    "plt.plot(timestamps_ximea, label='ximea')\n",
    "plt.plot(pupil_ts_eye0, label='pupil_eye0')\n",
    "plt.plot(pupil_ts_eye1, label='pupil_eye1')\n",
    "#plt.plot(pupil_ts_gaze, label='gaze')\n",
    "# plt.plot(pupil_ts_eye0, label='vid_eye0')\n",
    "# plt.plot(pupil_ts_eye1, label='vid_eye1')\n",
    "plt.plot(linear_ximea, label='linear_ximea')\n",
    "plt.plot(linear_pupil, label='linear_pupil')\n",
    "\n",
    "[plt.axhline(pupil_annotations[i], label='trial_marker') for i in range(len(pupil_annotations))]\n",
    "#plt.axhline(pupil_annotations[1], label='trial_marker')\n",
    "\n",
    "plt.legend()\n",
    "plt.xlabel('Frame Number')\n",
    "plt.ylabel('Timestamp')\n",
    "plt.title('Timestamp Lag')\n",
    "plt.legend()"
   ]
  },
  {
   "cell_type": "markdown",
   "metadata": {},
   "source": [
    "We've lost a decent number of ximea frames, but pupil looks pretty good. Lets ID where the missing frames are first."
   ]
  },
  {
   "cell_type": "code",
   "execution_count": 8,
   "metadata": {},
   "outputs": [
    {
     "name": "stdout",
     "output_type": "stream",
     "text": [
      "Percentage Frames Dropped: 0.03426620585012223\n"
     ]
    }
   ],
   "source": [
    "dt = timestamps_ximea[1:] - timestamps_ximea[:-1]\n",
    "pfl = len(dt[dt >= 0.01])/len(dt)\n",
    "print(f'Percentage Frames Dropped: {pfl}')"
   ]
  },
  {
   "cell_type": "markdown",
   "metadata": {},
   "source": [
    "## Task Marking\n",
    "\n",
    "*** FOR THIS PRELIMINARY DATA WHICH HAS NO TASK END MARKER ONLY ***   \n",
    "*** When we move to a second calibration AFTER the task, need to change this code ***\n",
    "\n",
    "The LAST pupil annotation should be the beginning of the task, and all data AFTER that is task data. Mark it as such."
   ]
  },
  {
   "cell_type": "code",
   "execution_count": 9,
   "metadata": {},
   "outputs": [],
   "source": [
    "if(example_trial == 'cell_phone_1'):\n",
    "    start_task_time = pupil_annotations[-2]\n",
    "    end_task_time = pupil_annotations[-1]\n",
    "else:\n",
    "    start_task_time = pupil_annotations[-1]\n",
    "    end_task_time = timestamps_ximea[-1]"
   ]
  },
  {
   "cell_type": "markdown",
   "metadata": {},
   "source": [
    "## Create Non-Lossy Timeframe & Assign Pupil & Ximea Frames to it\n",
    "For now, frame numbers are simply repeated if there is a frame drop. This seems better than interpolating an image, but will ask Bruno about this"
   ]
  },
  {
   "cell_type": "code",
   "execution_count": 10,
   "metadata": {},
   "outputs": [],
   "source": [
    "start_timestamp = np.max((timestamps_ximea[0], pupil_ts_eye0[0], pupil_ts_eye1[0]))\n",
    "end_timestamp = np.min((timestamps_ximea[-1], pupil_ts_eye0[-1], pupil_ts_eye1[-1]))\n",
    "common_timeline = np.arange(start_timestamp, end_timestamp, 1./target_fps)"
   ]
  },
  {
   "cell_type": "code",
   "execution_count": 11,
   "metadata": {},
   "outputs": [],
   "source": [
    "ximea_common_timeline_match = np.zeros_like(common_timeline)\n",
    "pupil_eye0_common_timeline_match = np.zeros_like(common_timeline)\n",
    "pupil_eye1_common_timeline_match = np.zeros_like(common_timeline)\n",
    "during_calibration = np.zeros_like(common_timeline)\n",
    "during_task = np.zeros_like(common_timeline)\n",
    "\n",
    "for i, t in enumerate(common_timeline):\n",
    "    ximea_common_timeline_match[i] = np.argmin(np.abs(timestamps_ximea - t))\n",
    "    pupil_eye0_common_timeline_match[i] = np.argmin(np.abs(pupil_ts_eye0 - t))\n",
    "    pupil_eye1_common_timeline_match[i] = np.argmin(np.abs(pupil_ts_eye1 - t))\n",
    "    if((t > start_task_time) and (t < end_task_time)):\n",
    "        during_task[i] = 1\n",
    "    #mark calibration later\n",
    "        #during_calibration"
   ]
  },
  {
   "cell_type": "code",
   "execution_count": 12,
   "metadata": {},
   "outputs": [
    {
     "name": "stdout",
     "output_type": "stream",
     "text": [
      "47.11 Seconds of Task\n"
     ]
    }
   ],
   "source": [
    "nframes = len(np.where(during_task ==1)[0])\n",
    "print(f'{nframes/target_fps} Seconds of Task')"
   ]
  },
  {
   "cell_type": "markdown",
   "metadata": {},
   "source": [
    "## Save Timeframe and Marks for Later Use\n",
    "\n",
    "Our new timeline can be used to align pupil labs data to our camera data and create movies for spatiotemporal analysis!"
   ]
  },
  {
   "cell_type": "code",
   "execution_count": 14,
   "metadata": {},
   "outputs": [],
   "source": [
    "common_timeline_table = np.array((common_timeline, ximea_common_timeline_match, pupil_eye0_common_timeline_match, pupil_eye1_common_timeline_match, during_task, during_calibration)).T\n",
    "common_timeline_table_colnames = 'common_timeline\\tximea_frame\\tpupil_eye0_frame\\tpupil_eye1_frame\\tduring_task\\tduring_calibration'\n",
    "common_timeline_file = os.path.join(analysis_folder,'common_timeline.tsv')\n",
    "np.savetxt(common_timeline_file, common_timeline_table, delimiter='\\t', header=common_timeline_table_colnames)"
   ]
  },
  {
   "cell_type": "markdown",
   "metadata": {},
   "source": [
    "## Run Script on All Trials\n",
    "\n",
    "I put all the code in a nice script! Run this script on all our trials to create respective timestamps for each"
   ]
  },
  {
   "cell_type": "code",
   "execution_count": 15,
   "metadata": {},
   "outputs": [
    {
     "name": "stdout",
     "output_type": "stream",
     "text": [
      "*\n",
      "Folder /data_repo/bravo/analysis/jf/cell_phone_1/ Already Made!\n",
      "Time Elapsed: 135.3787317276001 seconds\n",
      "Time Drift pre to post: 0.018285096399949907 seconds\n",
      "1574810720.7608986\n",
      "Task Lasted: 47.111611127853394 seconds.\n",
      "*\n",
      "Folder /data_repo/bravo/analysis/jf/cell_phone_2/ Already Made!\n",
      "Time Elapsed: 135.2961688041687 seconds\n",
      "Time Drift pre to post: 0.018304411831309153 seconds\n",
      "1574810921.4236894\n",
      "Task Lasted: 72.01901483535767 seconds.\n",
      "*\n",
      "Folder /data_repo/bravo/analysis/jf/cell_phone_3/ Already Made!\n",
      "Time Elapsed: 136.0369143486023 seconds\n",
      "Time Drift pre to post: 0.015845579397705478 seconds\n",
      "1574811110.9803076\n",
      "Task Lasted: 82.39471745491028 seconds.\n",
      "*\n",
      "Folder /data_repo/bravo/analysis/jf/laptop_1/ Already Made!\n",
      "Time Elapsed: 136.31205368041992 seconds\n",
      "Time Drift pre to post: 0.015955095580238776 seconds\n",
      "1574811439.918789\n",
      "Task Lasted: 73.00651121139526 seconds.\n",
      "*\n",
      "Folder /data_repo/bravo/analysis/jf/laptop_2/ Already Made!\n",
      "Time Elapsed: 136.78098344802856 seconds\n",
      "Time Drift pre to post: 0.018499615971450112 seconds\n",
      "1574811588.4511204\n",
      "Task Lasted: 130.4652497768402 seconds.\n",
      "*\n"
     ]
    }
   ],
   "source": [
    "import itertools as it\n",
    "import read_match_timestamps as rmt\n",
    "import imp\n",
    "imp.reload(rmt)\n",
    "\n",
    "subjects = ['jf']\n",
    "tasks = ['cell_phone', 'laptop'] \n",
    "repititions = ['1','2','3']\n",
    "iterator = it.product(subjects, tasks, repititions)\n",
    "\n",
    "for iteration in iterator:\n",
    "    subject, task, rep = iteration\n",
    "    trial = f'{task}_{rep}'\n",
    "    print('*')\n",
    "    if(os.path.isdir(os.path.join(base_dir,'raw_data', subject, trial))):\n",
    "        table = rmt.read_match_timestamps(base_dir, target_fps, subject, trial, num_cameras=1)"
   ]
  },
  {
   "cell_type": "code",
   "execution_count": null,
   "metadata": {},
   "outputs": [],
   "source": []
  }
 ],
 "metadata": {
  "kernelspec": {
   "display_name": "Python 3",
   "language": "python",
   "name": "python3"
  },
  "language_info": {
   "codemirror_mode": {
    "name": "ipython",
    "version": 3
   },
   "file_extension": ".py",
   "mimetype": "text/x-python",
   "name": "python",
   "nbconvert_exporter": "python",
   "pygments_lexer": "ipython3",
   "version": "3.7.4"
  }
 },
 "nbformat": 4,
 "nbformat_minor": 4
}
